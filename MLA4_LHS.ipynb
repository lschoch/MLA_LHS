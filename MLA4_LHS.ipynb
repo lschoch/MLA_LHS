{
  "nbformat": 4,
  "nbformat_minor": 0,
  "metadata": {
    "colab": {
      "name": "MLA4_LHS.ipynb",
      "provenance": [],
      "collapsed_sections": [
        "JmBkLNSU0wO6",
        "i-h0nGeH1gTU",
        "TaNdOL7rk8q8"
      ],
      "authorship_tag": "ABX9TyPmoM9cyoMeUUlx+pPJnw+Y",
      "include_colab_link": true
    },
    "kernelspec": {
      "name": "python3",
      "display_name": "Python 3"
    },
    "language_info": {
      "name": "python"
    }
  },
  "cells": [
    {
      "cell_type": "markdown",
      "metadata": {
        "id": "view-in-github",
        "colab_type": "text"
      },
      "source": [
        "<a href=\"https://colab.research.google.com/github/lschoch/MLA_LHS/blob/main/MLA4_LHS.ipynb\" target=\"_parent\"><img src=\"https://colab.research.google.com/assets/colab-badge.svg\" alt=\"Open In Colab\"/></a>"
      ]
    },
    {
      "cell_type": "code",
      "execution_count": 314,
      "metadata": {
        "id": "DbStRBlsOSZ6"
      },
      "outputs": [],
      "source": [
        ""
      ]
    },
    {
      "cell_type": "markdown",
      "source": [
        "# **Machine Learning Assignment 4**  \n",
        "## **Lawrence Schoch**\n",
        "## **CS430**\n",
        "## **Machine Learning in the Cloud** \n",
        "---"
      ],
      "metadata": {
        "id": "QRwWxyo15l1_"
      }
    },
    {
      "cell_type": "markdown",
      "source": [
        "## Standard Imports"
      ],
      "metadata": {
        "id": "Dm3plw0g3ZvL"
      }
    },
    {
      "cell_type": "code",
      "execution_count": 315,
      "metadata": {
        "id": "hZQOlQVuibFq"
      },
      "outputs": [],
      "source": [
        "import pandas as pd\n",
        "import numpy as np\n",
        "import matplotlib.pyplot as plt\n",
        "import seaborn as sns\n",
        "%matplotlib inline"
      ]
    },
    {
      "cell_type": "code",
      "source": [
        "from google.colab import drive\n",
        "drive.mount('/content/gdrive')"
      ],
      "metadata": {
        "colab": {
          "base_uri": "https://localhost:8080/"
        },
        "id": "f6C2m_xqin0Y",
        "outputId": "aa08c32c-5c84-4814-9bf5-31b25381153e"
      },
      "execution_count": 316,
      "outputs": [
        {
          "output_type": "stream",
          "name": "stdout",
          "text": [
            "Drive already mounted at /content/gdrive; to attempt to forcibly remount, call drive.mount(\"/content/gdrive\", force_remount=True).\n"
          ]
        }
      ]
    },
    {
      "cell_type": "markdown",
      "source": [
        "## Imports for Decision Trees"
      ],
      "metadata": {
        "id": "UM7SiWOlBzPg"
      }
    },
    {
      "cell_type": "code",
      "source": [
        "# Import models.\n",
        "from sklearn import tree\n",
        "from sklearn.tree import export_text"
      ],
      "metadata": {
        "id": "jL7htbaoB6Ek"
      },
      "execution_count": 317,
      "outputs": []
    },
    {
      "cell_type": "markdown",
      "source": [
        "## Imports for Splitting Data and Building Pipeline\n"
      ],
      "metadata": {
        "id": "-5Akp3i4CPFj"
      }
    },
    {
      "cell_type": "code",
      "source": [
        "from sklearn.model_selection import train_test_split\n",
        "\n",
        "from sklearn.pipeline import Pipeline\n",
        "from sklearn.compose import ColumnTransformer\n",
        "from sklearn.preprocessing import MinMaxScaler\n",
        "from sklearn.preprocessing import OneHotEncoder"
      ],
      "metadata": {
        "id": "RPkp1dlKqLOT"
      },
      "execution_count": 318,
      "outputs": []
    },
    {
      "cell_type": "code",
      "source": [
        "from sklearn import set_config\n",
        "set_config(display='diagram')"
      ],
      "metadata": {
        "id": "NGPPxW7QQ3G6"
      },
      "execution_count": 319,
      "outputs": []
    },
    {
      "cell_type": "markdown",
      "source": [
        "# Imports for Performance Measures"
      ],
      "metadata": {
        "id": "JW9kgAGwpww3"
      }
    },
    {
      "cell_type": "code",
      "source": [
        "from sklearn.metrics import confusion_matrix\n",
        "from sklearn.metrics import precision_score, recall_score, f1_score\n",
        "from sklearn.metrics import mean_squared_error"
      ],
      "metadata": {
        "id": "N4WwSQlNpw7c"
      },
      "execution_count": 320,
      "outputs": []
    },
    {
      "cell_type": "markdown",
      "source": [
        "## Confusion Matrix Function\n",
        "This function is for creating a graphical version of the confusion matrix.\n",
        "\n"
      ],
      "metadata": {
        "id": "pWcDpHz0qF_J"
      }
    },
    {
      "cell_type": "code",
      "source": [
        "def plot_cm(y_test, y_pred):\n",
        "    cm = confusion_matrix(y_test,y_pred)\n",
        "    fig = plt.figure(figsize=(10,10))\n",
        "    heatmap = sns.heatmap(cm, annot=True, fmt='.2f', cmap='RdYlGn')\n",
        "    plt.ylabel('True label')\n",
        "    plt.xlabel('Predicted Label')"
      ],
      "metadata": {
        "id": "UyWroVXvp2ZD"
      },
      "execution_count": 321,
      "outputs": []
    },
    {
      "cell_type": "markdown",
      "source": [
        "The function below plots a straight line on a plot."
      ],
      "metadata": {
        "id": "oDOxGIV8RVG0"
      }
    },
    {
      "cell_type": "code",
      "source": [
        "def abline(slope, intercept, color):\n",
        "    axes = plt.gca()\n",
        "    x_vals = np.array(axes.get_xlim())\n",
        "    y_vals = intercept + slope * x_vals\n",
        "    plt.plot(x_vals, y_vals, '--', c=color)"
      ],
      "metadata": {
        "id": "68UP4H1yRW0J"
      },
      "execution_count": 322,
      "outputs": []
    },
    {
      "cell_type": "markdown",
      "source": [
        "## Problem 1: Decision Tree Classification"
      ],
      "metadata": {
        "id": "9zzzkwxa3ncK"
      }
    },
    {
      "cell_type": "markdown",
      "source": [
        "### Reading the Data"
      ],
      "metadata": {
        "id": "PbtwGYpbDQyy"
      }
    },
    {
      "cell_type": "code",
      "source": [
        "df = pd.read_csv('/content/gdrive/MyDrive/1CS430/banknote_authentication.csv')"
      ],
      "metadata": {
        "id": "2w7MC9Xhz-er"
      },
      "execution_count": 323,
      "outputs": []
    },
    {
      "cell_type": "markdown",
      "source": [
        "### Splitting Data into Train/Test"
      ],
      "metadata": {
        "id": "FhtpEB4SEzSx"
      }
    },
    {
      "cell_type": "code",
      "source": [
        "X = df.drop(['forgery'], axis=1)\n",
        "y = df['forgery']\n",
        "#Split the data into Train/Test sets.\n",
        "X_train, X_test, y_train, y_test = train_test_split(X, y, test_size=.2, random_state=0)"
      ],
      "metadata": {
        "id": "Tg3afphoCvlY"
      },
      "execution_count": 324,
      "outputs": []
    },
    {
      "cell_type": "markdown",
      "source": [
        "### Building the Pipeline"
      ],
      "metadata": {
        "id": "jPvXk_mdEJdg"
      }
    },
    {
      "cell_type": "code",
      "source": [
        "num_attribs = ['variance', 'skewness', 'curtosis', 'entropy']\n",
        "col_transform = ColumnTransformer(transformers=[\n",
        "                 ('num', MinMaxScaler(), num_attribs)],\n",
        "                 remainder='passthrough')\n",
        "pipeline = Pipeline([\n",
        "                     ('transform', col_transform),\n",
        "                     ('decision_tree_classifierd', tree.DecisionTreeClassifier())\n",
        "]) \n",
        "pipeline          "
      ],
      "metadata": {
        "colab": {
          "base_uri": "https://localhost:8080/",
          "height": 192
        },
        "id": "wiUV-TGRFbQM",
        "outputId": "24089474-6b77-49a8-fbe1-2d43dbab5c47"
      },
      "execution_count": 325,
      "outputs": [
        {
          "output_type": "execute_result",
          "data": {
            "text/plain": [
              "Pipeline(steps=[('transform',\n",
              "                 ColumnTransformer(remainder='passthrough',\n",
              "                                   transformers=[('num', MinMaxScaler(),\n",
              "                                                  ['variance', 'skewness',\n",
              "                                                   'curtosis', 'entropy'])])),\n",
              "                ('decision_tree_classifierd', DecisionTreeClassifier())])"
            ],
            "text/html": [
              "<style>#sk-bf9a5f5c-9643-41aa-8fd0-97ce1e524a3b {color: black;background-color: white;}#sk-bf9a5f5c-9643-41aa-8fd0-97ce1e524a3b pre{padding: 0;}#sk-bf9a5f5c-9643-41aa-8fd0-97ce1e524a3b div.sk-toggleable {background-color: white;}#sk-bf9a5f5c-9643-41aa-8fd0-97ce1e524a3b label.sk-toggleable__label {cursor: pointer;display: block;width: 100%;margin-bottom: 0;padding: 0.3em;box-sizing: border-box;text-align: center;}#sk-bf9a5f5c-9643-41aa-8fd0-97ce1e524a3b label.sk-toggleable__label-arrow:before {content: \"▸\";float: left;margin-right: 0.25em;color: #696969;}#sk-bf9a5f5c-9643-41aa-8fd0-97ce1e524a3b label.sk-toggleable__label-arrow:hover:before {color: black;}#sk-bf9a5f5c-9643-41aa-8fd0-97ce1e524a3b div.sk-estimator:hover label.sk-toggleable__label-arrow:before {color: black;}#sk-bf9a5f5c-9643-41aa-8fd0-97ce1e524a3b div.sk-toggleable__content {max-height: 0;max-width: 0;overflow: hidden;text-align: left;background-color: #f0f8ff;}#sk-bf9a5f5c-9643-41aa-8fd0-97ce1e524a3b div.sk-toggleable__content pre {margin: 0.2em;color: black;border-radius: 0.25em;background-color: #f0f8ff;}#sk-bf9a5f5c-9643-41aa-8fd0-97ce1e524a3b input.sk-toggleable__control:checked~div.sk-toggleable__content {max-height: 200px;max-width: 100%;overflow: auto;}#sk-bf9a5f5c-9643-41aa-8fd0-97ce1e524a3b input.sk-toggleable__control:checked~label.sk-toggleable__label-arrow:before {content: \"▾\";}#sk-bf9a5f5c-9643-41aa-8fd0-97ce1e524a3b div.sk-estimator input.sk-toggleable__control:checked~label.sk-toggleable__label {background-color: #d4ebff;}#sk-bf9a5f5c-9643-41aa-8fd0-97ce1e524a3b div.sk-label input.sk-toggleable__control:checked~label.sk-toggleable__label {background-color: #d4ebff;}#sk-bf9a5f5c-9643-41aa-8fd0-97ce1e524a3b input.sk-hidden--visually {border: 0;clip: rect(1px 1px 1px 1px);clip: rect(1px, 1px, 1px, 1px);height: 1px;margin: -1px;overflow: hidden;padding: 0;position: absolute;width: 1px;}#sk-bf9a5f5c-9643-41aa-8fd0-97ce1e524a3b div.sk-estimator {font-family: monospace;background-color: #f0f8ff;border: 1px dotted black;border-radius: 0.25em;box-sizing: border-box;margin-bottom: 0.5em;}#sk-bf9a5f5c-9643-41aa-8fd0-97ce1e524a3b div.sk-estimator:hover {background-color: #d4ebff;}#sk-bf9a5f5c-9643-41aa-8fd0-97ce1e524a3b div.sk-parallel-item::after {content: \"\";width: 100%;border-bottom: 1px solid gray;flex-grow: 1;}#sk-bf9a5f5c-9643-41aa-8fd0-97ce1e524a3b div.sk-label:hover label.sk-toggleable__label {background-color: #d4ebff;}#sk-bf9a5f5c-9643-41aa-8fd0-97ce1e524a3b div.sk-serial::before {content: \"\";position: absolute;border-left: 1px solid gray;box-sizing: border-box;top: 2em;bottom: 0;left: 50%;}#sk-bf9a5f5c-9643-41aa-8fd0-97ce1e524a3b div.sk-serial {display: flex;flex-direction: column;align-items: center;background-color: white;padding-right: 0.2em;padding-left: 0.2em;}#sk-bf9a5f5c-9643-41aa-8fd0-97ce1e524a3b div.sk-item {z-index: 1;}#sk-bf9a5f5c-9643-41aa-8fd0-97ce1e524a3b div.sk-parallel {display: flex;align-items: stretch;justify-content: center;background-color: white;}#sk-bf9a5f5c-9643-41aa-8fd0-97ce1e524a3b div.sk-parallel::before {content: \"\";position: absolute;border-left: 1px solid gray;box-sizing: border-box;top: 2em;bottom: 0;left: 50%;}#sk-bf9a5f5c-9643-41aa-8fd0-97ce1e524a3b div.sk-parallel-item {display: flex;flex-direction: column;position: relative;background-color: white;}#sk-bf9a5f5c-9643-41aa-8fd0-97ce1e524a3b div.sk-parallel-item:first-child::after {align-self: flex-end;width: 50%;}#sk-bf9a5f5c-9643-41aa-8fd0-97ce1e524a3b div.sk-parallel-item:last-child::after {align-self: flex-start;width: 50%;}#sk-bf9a5f5c-9643-41aa-8fd0-97ce1e524a3b div.sk-parallel-item:only-child::after {width: 0;}#sk-bf9a5f5c-9643-41aa-8fd0-97ce1e524a3b div.sk-dashed-wrapped {border: 1px dashed gray;margin: 0 0.4em 0.5em 0.4em;box-sizing: border-box;padding-bottom: 0.4em;background-color: white;position: relative;}#sk-bf9a5f5c-9643-41aa-8fd0-97ce1e524a3b div.sk-label label {font-family: monospace;font-weight: bold;background-color: white;display: inline-block;line-height: 1.2em;}#sk-bf9a5f5c-9643-41aa-8fd0-97ce1e524a3b div.sk-label-container {position: relative;z-index: 2;text-align: center;}#sk-bf9a5f5c-9643-41aa-8fd0-97ce1e524a3b div.sk-container {/* jupyter's `normalize.less` sets `[hidden] { display: none; }` but bootstrap.min.css set `[hidden] { display: none !important; }` so we also need the `!important` here to be able to override the default hidden behavior on the sphinx rendered scikit-learn.org. See: https://github.com/scikit-learn/scikit-learn/issues/21755 */display: inline-block !important;position: relative;}#sk-bf9a5f5c-9643-41aa-8fd0-97ce1e524a3b div.sk-text-repr-fallback {display: none;}</style><div id=\"sk-bf9a5f5c-9643-41aa-8fd0-97ce1e524a3b\" class=\"sk-top-container\"><div class=\"sk-text-repr-fallback\"><pre>Pipeline(steps=[(&#x27;transform&#x27;,\n",
              "                 ColumnTransformer(remainder=&#x27;passthrough&#x27;,\n",
              "                                   transformers=[(&#x27;num&#x27;, MinMaxScaler(),\n",
              "                                                  [&#x27;variance&#x27;, &#x27;skewness&#x27;,\n",
              "                                                   &#x27;curtosis&#x27;, &#x27;entropy&#x27;])])),\n",
              "                (&#x27;decision_tree_classifierd&#x27;, DecisionTreeClassifier())])</pre><b>Please rerun this cell to show the HTML repr or trust the notebook.</b></div><div class=\"sk-container\" hidden><div class=\"sk-item sk-dashed-wrapped\"><div class=\"sk-label-container\"><div class=\"sk-label sk-toggleable\"><input class=\"sk-toggleable__control sk-hidden--visually\" id=\"29faf272-93d8-4e65-9c88-240a2bea7a45\" type=\"checkbox\" ><label for=\"29faf272-93d8-4e65-9c88-240a2bea7a45\" class=\"sk-toggleable__label sk-toggleable__label-arrow\">Pipeline</label><div class=\"sk-toggleable__content\"><pre>Pipeline(steps=[(&#x27;transform&#x27;,\n",
              "                 ColumnTransformer(remainder=&#x27;passthrough&#x27;,\n",
              "                                   transformers=[(&#x27;num&#x27;, MinMaxScaler(),\n",
              "                                                  [&#x27;variance&#x27;, &#x27;skewness&#x27;,\n",
              "                                                   &#x27;curtosis&#x27;, &#x27;entropy&#x27;])])),\n",
              "                (&#x27;decision_tree_classifierd&#x27;, DecisionTreeClassifier())])</pre></div></div></div><div class=\"sk-serial\"><div class=\"sk-item sk-dashed-wrapped\"><div class=\"sk-label-container\"><div class=\"sk-label sk-toggleable\"><input class=\"sk-toggleable__control sk-hidden--visually\" id=\"ed86fff2-4a32-4e5f-98e8-53f30ee70f04\" type=\"checkbox\" ><label for=\"ed86fff2-4a32-4e5f-98e8-53f30ee70f04\" class=\"sk-toggleable__label sk-toggleable__label-arrow\">transform: ColumnTransformer</label><div class=\"sk-toggleable__content\"><pre>ColumnTransformer(remainder=&#x27;passthrough&#x27;,\n",
              "                  transformers=[(&#x27;num&#x27;, MinMaxScaler(),\n",
              "                                 [&#x27;variance&#x27;, &#x27;skewness&#x27;, &#x27;curtosis&#x27;,\n",
              "                                  &#x27;entropy&#x27;])])</pre></div></div></div><div class=\"sk-parallel\"><div class=\"sk-parallel-item\"><div class=\"sk-item\"><div class=\"sk-label-container\"><div class=\"sk-label sk-toggleable\"><input class=\"sk-toggleable__control sk-hidden--visually\" id=\"879dcecc-77c3-423d-9b69-ae781a8fef45\" type=\"checkbox\" ><label for=\"879dcecc-77c3-423d-9b69-ae781a8fef45\" class=\"sk-toggleable__label sk-toggleable__label-arrow\">num</label><div class=\"sk-toggleable__content\"><pre>[&#x27;variance&#x27;, &#x27;skewness&#x27;, &#x27;curtosis&#x27;, &#x27;entropy&#x27;]</pre></div></div></div><div class=\"sk-serial\"><div class=\"sk-item\"><div class=\"sk-estimator sk-toggleable\"><input class=\"sk-toggleable__control sk-hidden--visually\" id=\"c60ad852-a741-45c0-96fa-db641022442b\" type=\"checkbox\" ><label for=\"c60ad852-a741-45c0-96fa-db641022442b\" class=\"sk-toggleable__label sk-toggleable__label-arrow\">MinMaxScaler</label><div class=\"sk-toggleable__content\"><pre>MinMaxScaler()</pre></div></div></div></div></div></div><div class=\"sk-parallel-item\"><div class=\"sk-item\"><div class=\"sk-label-container\"><div class=\"sk-label sk-toggleable\"><input class=\"sk-toggleable__control sk-hidden--visually\" id=\"1e2a5c42-5b2b-4b6a-b577-205e4a5f1bdd\" type=\"checkbox\" ><label for=\"1e2a5c42-5b2b-4b6a-b577-205e4a5f1bdd\" class=\"sk-toggleable__label sk-toggleable__label-arrow\">remainder</label><div class=\"sk-toggleable__content\"><pre></pre></div></div></div><div class=\"sk-serial\"><div class=\"sk-item\"><div class=\"sk-estimator sk-toggleable\"><input class=\"sk-toggleable__control sk-hidden--visually\" id=\"97030c96-3026-4882-ae30-3a8a36ab72d6\" type=\"checkbox\" ><label for=\"97030c96-3026-4882-ae30-3a8a36ab72d6\" class=\"sk-toggleable__label sk-toggleable__label-arrow\">passthrough</label><div class=\"sk-toggleable__content\"><pre>passthrough</pre></div></div></div></div></div></div></div></div><div class=\"sk-item\"><div class=\"sk-estimator sk-toggleable\"><input class=\"sk-toggleable__control sk-hidden--visually\" id=\"1d522b6e-50be-44f2-9cd5-33d03d4783e9\" type=\"checkbox\" ><label for=\"1d522b6e-50be-44f2-9cd5-33d03d4783e9\" class=\"sk-toggleable__label sk-toggleable__label-arrow\">DecisionTreeClassifier</label><div class=\"sk-toggleable__content\"><pre>DecisionTreeClassifier()</pre></div></div></div></div></div></div></div>"
            ]
          },
          "metadata": {},
          "execution_count": 325
        }
      ]
    },
    {
      "cell_type": "markdown",
      "source": [
        "### Executing the Model"
      ],
      "metadata": {
        "id": "8vSidC97Jbx2"
      }
    },
    {
      "cell_type": "code",
      "source": [
        "pipeline.fit(X_train, np.ravel(y_train))"
      ],
      "metadata": {
        "colab": {
          "base_uri": "https://localhost:8080/",
          "height": 192
        },
        "id": "2KvqjcRGIldt",
        "outputId": "fa5b2a44-7e5e-43ec-ef84-448ad5b87d0f"
      },
      "execution_count": 326,
      "outputs": [
        {
          "output_type": "execute_result",
          "data": {
            "text/plain": [
              "Pipeline(steps=[('transform',\n",
              "                 ColumnTransformer(remainder='passthrough',\n",
              "                                   transformers=[('num', MinMaxScaler(),\n",
              "                                                  ['variance', 'skewness',\n",
              "                                                   'curtosis', 'entropy'])])),\n",
              "                ('decision_tree_classifierd', DecisionTreeClassifier())])"
            ],
            "text/html": [
              "<style>#sk-390257f0-8036-4e1d-972c-1656408508ee {color: black;background-color: white;}#sk-390257f0-8036-4e1d-972c-1656408508ee pre{padding: 0;}#sk-390257f0-8036-4e1d-972c-1656408508ee div.sk-toggleable {background-color: white;}#sk-390257f0-8036-4e1d-972c-1656408508ee label.sk-toggleable__label {cursor: pointer;display: block;width: 100%;margin-bottom: 0;padding: 0.3em;box-sizing: border-box;text-align: center;}#sk-390257f0-8036-4e1d-972c-1656408508ee label.sk-toggleable__label-arrow:before {content: \"▸\";float: left;margin-right: 0.25em;color: #696969;}#sk-390257f0-8036-4e1d-972c-1656408508ee label.sk-toggleable__label-arrow:hover:before {color: black;}#sk-390257f0-8036-4e1d-972c-1656408508ee div.sk-estimator:hover label.sk-toggleable__label-arrow:before {color: black;}#sk-390257f0-8036-4e1d-972c-1656408508ee div.sk-toggleable__content {max-height: 0;max-width: 0;overflow: hidden;text-align: left;background-color: #f0f8ff;}#sk-390257f0-8036-4e1d-972c-1656408508ee div.sk-toggleable__content pre {margin: 0.2em;color: black;border-radius: 0.25em;background-color: #f0f8ff;}#sk-390257f0-8036-4e1d-972c-1656408508ee input.sk-toggleable__control:checked~div.sk-toggleable__content {max-height: 200px;max-width: 100%;overflow: auto;}#sk-390257f0-8036-4e1d-972c-1656408508ee input.sk-toggleable__control:checked~label.sk-toggleable__label-arrow:before {content: \"▾\";}#sk-390257f0-8036-4e1d-972c-1656408508ee div.sk-estimator input.sk-toggleable__control:checked~label.sk-toggleable__label {background-color: #d4ebff;}#sk-390257f0-8036-4e1d-972c-1656408508ee div.sk-label input.sk-toggleable__control:checked~label.sk-toggleable__label {background-color: #d4ebff;}#sk-390257f0-8036-4e1d-972c-1656408508ee input.sk-hidden--visually {border: 0;clip: rect(1px 1px 1px 1px);clip: rect(1px, 1px, 1px, 1px);height: 1px;margin: -1px;overflow: hidden;padding: 0;position: absolute;width: 1px;}#sk-390257f0-8036-4e1d-972c-1656408508ee div.sk-estimator {font-family: monospace;background-color: #f0f8ff;border: 1px dotted black;border-radius: 0.25em;box-sizing: border-box;margin-bottom: 0.5em;}#sk-390257f0-8036-4e1d-972c-1656408508ee div.sk-estimator:hover {background-color: #d4ebff;}#sk-390257f0-8036-4e1d-972c-1656408508ee div.sk-parallel-item::after {content: \"\";width: 100%;border-bottom: 1px solid gray;flex-grow: 1;}#sk-390257f0-8036-4e1d-972c-1656408508ee div.sk-label:hover label.sk-toggleable__label {background-color: #d4ebff;}#sk-390257f0-8036-4e1d-972c-1656408508ee div.sk-serial::before {content: \"\";position: absolute;border-left: 1px solid gray;box-sizing: border-box;top: 2em;bottom: 0;left: 50%;}#sk-390257f0-8036-4e1d-972c-1656408508ee div.sk-serial {display: flex;flex-direction: column;align-items: center;background-color: white;padding-right: 0.2em;padding-left: 0.2em;}#sk-390257f0-8036-4e1d-972c-1656408508ee div.sk-item {z-index: 1;}#sk-390257f0-8036-4e1d-972c-1656408508ee div.sk-parallel {display: flex;align-items: stretch;justify-content: center;background-color: white;}#sk-390257f0-8036-4e1d-972c-1656408508ee div.sk-parallel::before {content: \"\";position: absolute;border-left: 1px solid gray;box-sizing: border-box;top: 2em;bottom: 0;left: 50%;}#sk-390257f0-8036-4e1d-972c-1656408508ee div.sk-parallel-item {display: flex;flex-direction: column;position: relative;background-color: white;}#sk-390257f0-8036-4e1d-972c-1656408508ee div.sk-parallel-item:first-child::after {align-self: flex-end;width: 50%;}#sk-390257f0-8036-4e1d-972c-1656408508ee div.sk-parallel-item:last-child::after {align-self: flex-start;width: 50%;}#sk-390257f0-8036-4e1d-972c-1656408508ee div.sk-parallel-item:only-child::after {width: 0;}#sk-390257f0-8036-4e1d-972c-1656408508ee div.sk-dashed-wrapped {border: 1px dashed gray;margin: 0 0.4em 0.5em 0.4em;box-sizing: border-box;padding-bottom: 0.4em;background-color: white;position: relative;}#sk-390257f0-8036-4e1d-972c-1656408508ee div.sk-label label {font-family: monospace;font-weight: bold;background-color: white;display: inline-block;line-height: 1.2em;}#sk-390257f0-8036-4e1d-972c-1656408508ee div.sk-label-container {position: relative;z-index: 2;text-align: center;}#sk-390257f0-8036-4e1d-972c-1656408508ee div.sk-container {/* jupyter's `normalize.less` sets `[hidden] { display: none; }` but bootstrap.min.css set `[hidden] { display: none !important; }` so we also need the `!important` here to be able to override the default hidden behavior on the sphinx rendered scikit-learn.org. See: https://github.com/scikit-learn/scikit-learn/issues/21755 */display: inline-block !important;position: relative;}#sk-390257f0-8036-4e1d-972c-1656408508ee div.sk-text-repr-fallback {display: none;}</style><div id=\"sk-390257f0-8036-4e1d-972c-1656408508ee\" class=\"sk-top-container\"><div class=\"sk-text-repr-fallback\"><pre>Pipeline(steps=[(&#x27;transform&#x27;,\n",
              "                 ColumnTransformer(remainder=&#x27;passthrough&#x27;,\n",
              "                                   transformers=[(&#x27;num&#x27;, MinMaxScaler(),\n",
              "                                                  [&#x27;variance&#x27;, &#x27;skewness&#x27;,\n",
              "                                                   &#x27;curtosis&#x27;, &#x27;entropy&#x27;])])),\n",
              "                (&#x27;decision_tree_classifierd&#x27;, DecisionTreeClassifier())])</pre><b>Please rerun this cell to show the HTML repr or trust the notebook.</b></div><div class=\"sk-container\" hidden><div class=\"sk-item sk-dashed-wrapped\"><div class=\"sk-label-container\"><div class=\"sk-label sk-toggleable\"><input class=\"sk-toggleable__control sk-hidden--visually\" id=\"570b3d4f-3c53-41eb-8a6d-09f9ce148697\" type=\"checkbox\" ><label for=\"570b3d4f-3c53-41eb-8a6d-09f9ce148697\" class=\"sk-toggleable__label sk-toggleable__label-arrow\">Pipeline</label><div class=\"sk-toggleable__content\"><pre>Pipeline(steps=[(&#x27;transform&#x27;,\n",
              "                 ColumnTransformer(remainder=&#x27;passthrough&#x27;,\n",
              "                                   transformers=[(&#x27;num&#x27;, MinMaxScaler(),\n",
              "                                                  [&#x27;variance&#x27;, &#x27;skewness&#x27;,\n",
              "                                                   &#x27;curtosis&#x27;, &#x27;entropy&#x27;])])),\n",
              "                (&#x27;decision_tree_classifierd&#x27;, DecisionTreeClassifier())])</pre></div></div></div><div class=\"sk-serial\"><div class=\"sk-item sk-dashed-wrapped\"><div class=\"sk-label-container\"><div class=\"sk-label sk-toggleable\"><input class=\"sk-toggleable__control sk-hidden--visually\" id=\"c635e04f-0d5f-4011-af5c-113465ceb5fd\" type=\"checkbox\" ><label for=\"c635e04f-0d5f-4011-af5c-113465ceb5fd\" class=\"sk-toggleable__label sk-toggleable__label-arrow\">transform: ColumnTransformer</label><div class=\"sk-toggleable__content\"><pre>ColumnTransformer(remainder=&#x27;passthrough&#x27;,\n",
              "                  transformers=[(&#x27;num&#x27;, MinMaxScaler(),\n",
              "                                 [&#x27;variance&#x27;, &#x27;skewness&#x27;, &#x27;curtosis&#x27;,\n",
              "                                  &#x27;entropy&#x27;])])</pre></div></div></div><div class=\"sk-parallel\"><div class=\"sk-parallel-item\"><div class=\"sk-item\"><div class=\"sk-label-container\"><div class=\"sk-label sk-toggleable\"><input class=\"sk-toggleable__control sk-hidden--visually\" id=\"b57753d8-d148-44f9-8f77-56bf69ab0c2a\" type=\"checkbox\" ><label for=\"b57753d8-d148-44f9-8f77-56bf69ab0c2a\" class=\"sk-toggleable__label sk-toggleable__label-arrow\">num</label><div class=\"sk-toggleable__content\"><pre>[&#x27;variance&#x27;, &#x27;skewness&#x27;, &#x27;curtosis&#x27;, &#x27;entropy&#x27;]</pre></div></div></div><div class=\"sk-serial\"><div class=\"sk-item\"><div class=\"sk-estimator sk-toggleable\"><input class=\"sk-toggleable__control sk-hidden--visually\" id=\"ea254296-8f96-45da-86f7-71ee39e94464\" type=\"checkbox\" ><label for=\"ea254296-8f96-45da-86f7-71ee39e94464\" class=\"sk-toggleable__label sk-toggleable__label-arrow\">MinMaxScaler</label><div class=\"sk-toggleable__content\"><pre>MinMaxScaler()</pre></div></div></div></div></div></div><div class=\"sk-parallel-item\"><div class=\"sk-item\"><div class=\"sk-label-container\"><div class=\"sk-label sk-toggleable\"><input class=\"sk-toggleable__control sk-hidden--visually\" id=\"fb810326-0c6f-432f-9dab-dbc722661394\" type=\"checkbox\" ><label for=\"fb810326-0c6f-432f-9dab-dbc722661394\" class=\"sk-toggleable__label sk-toggleable__label-arrow\">remainder</label><div class=\"sk-toggleable__content\"><pre>[]</pre></div></div></div><div class=\"sk-serial\"><div class=\"sk-item\"><div class=\"sk-estimator sk-toggleable\"><input class=\"sk-toggleable__control sk-hidden--visually\" id=\"5419b17d-7dd4-48f9-86c2-ebbb7dc57362\" type=\"checkbox\" ><label for=\"5419b17d-7dd4-48f9-86c2-ebbb7dc57362\" class=\"sk-toggleable__label sk-toggleable__label-arrow\">passthrough</label><div class=\"sk-toggleable__content\"><pre>passthrough</pre></div></div></div></div></div></div></div></div><div class=\"sk-item\"><div class=\"sk-estimator sk-toggleable\"><input class=\"sk-toggleable__control sk-hidden--visually\" id=\"3f103187-9cd8-43be-8549-8876328457f3\" type=\"checkbox\" ><label for=\"3f103187-9cd8-43be-8549-8876328457f3\" class=\"sk-toggleable__label sk-toggleable__label-arrow\">DecisionTreeClassifier</label><div class=\"sk-toggleable__content\"><pre>DecisionTreeClassifier()</pre></div></div></div></div></div></div></div>"
            ]
          },
          "metadata": {},
          "execution_count": 326
        }
      ]
    },
    {
      "cell_type": "markdown",
      "source": [
        "### Evaluating Model"
      ],
      "metadata": {
        "id": "iBFx9cbQJCKr"
      }
    },
    {
      "cell_type": "code",
      "source": [
        "# Make predictions on the test data.\n",
        "y_pred = pipeline.predict(X_test)\n",
        "# Call the plot_cm function to generate the confusion matrix.\n",
        "plot_cm(y_test, y_pred)"
      ],
      "metadata": {
        "colab": {
          "base_uri": "https://localhost:8080/",
          "height": 611
        },
        "id": "fG6VSV_OI_Ya",
        "outputId": "a5cd0318-4d23-426a-d856-c11eee18c792"
      },
      "execution_count": 327,
      "outputs": [
        {
          "output_type": "display_data",
          "data": {
            "text/plain": [
              "<Figure size 720x720 with 2 Axes>"
            ],
            "image/png": "[encoded data removed]"
          },
          "metadata": {
            "needs_background": "light"
          }
        }
      ]
    },
    {
      "cell_type": "code",
      "source": [
        "# Calculate the precision, recall, and F1 score. \n",
        "print('Precision:', precision_score(y_test, y_pred))\n",
        "print('Recall:', recall_score(y_test, y_pred))\n",
        "print('F1 score:', f1_score(y_test, y_pred))"
      ],
      "metadata": {
        "colab": {
          "base_uri": "https://localhost:8080/"
        },
        "id": "tNySF4bKKfAW",
        "outputId": "bdb79445-25ef-45d5-daef-7bed5e9c4429"
      },
      "execution_count": 328,
      "outputs": [
        {
          "output_type": "stream",
          "name": "stdout",
          "text": [
            "Precision: 0.9833333333333333\n",
            "Recall: 1.0\n",
            "F1 score: 0.9915966386554621\n"
          ]
        }
      ]
    },
    {
      "cell_type": "markdown",
      "source": [
        "### Interpreting the results:\n",
        "The confusion matrix shows that the model correctly detected 118 of 118 forgeries in the test data for a recall (sensitivity) of 100%. There were only 2 false postives for a precision of 118/(118 + 2) = 98.33%. The F1 score is also quite high for this model at 99.16%, and this would be expected given the high recall and precision. \n",
        "<br><br>\n",
        "With all models we need to consider the possibility of overfitting. The following analysis was taken from [https://machinelearningmastery.com/overfitting-machine-learning-models/](https://machinelearningmastery.com/overfitting-machine-learning-models/). In this analysis, accuracy score is plotted against max_depth over a range of max_depth values. Given that accuracies of predictions based on the test data follow very closely the accuracies of predictions based on the training datas, overfitting does not appear to be an issue, but it is apparent that performance plateaus at max_depth of 7, so from the standpoint of efficiency, the max_depth should be set at 7 or possibly 8 to provide a margin of safety."
      ],
      "metadata": {
        "id": "E-pfDBnTLqGl"
      }
    },
    {
      "cell_type": "code",
      "source": [
        "from sklearn.metrics import accuracy_score\n",
        "# define lists to collect scores\n",
        "train_scores, test_scores = list(), list()\n",
        "# define the tree depths to evaluate\n",
        "values = [i for i in range(1, 21)]\n",
        "# evaluate a decision tree for each depth\n",
        "for i in values:\n",
        "\t# configure the model\n",
        "\tmodel = tree.DecisionTreeClassifier(max_depth=i)\n",
        "\t# fit model on the training dataset\n",
        "\tmodel.fit(X_train, y_train)\n",
        "\t# evaluate on the train dataset\n",
        "\ttrain_yhat = model.predict(X_train)\n",
        "\ttrain_acc = accuracy_score(y_train, train_yhat)\n",
        "\ttrain_scores.append(train_acc)\n",
        "\t# evaluate on the test dataset\n",
        "\ttest_yhat = model.predict(X_test)\n",
        "\ttest_acc = accuracy_score(y_test, test_yhat)\n",
        "\ttest_scores.append(test_acc)\n",
        "\t# summarize progress\n",
        "\tprint('>%d, train: %.3f, test: %.3f' % (i, train_acc, test_acc))\n",
        "print()\n",
        "# plot of train and test scores vs tree depth\n",
        "plt.plot(values, train_scores, '-o', label='Train')\n",
        "plt.plot(values, test_scores, '-o', label='Test')\n",
        "plt.legend()\n",
        "plt.xlabel('max_depth')\n",
        "plt.ylabel('accuracy')\n",
        "plt.show()"
      ],
      "metadata": {
        "colab": {
          "base_uri": "https://localhost:8080/",
          "height": 660
        },
        "id": "e-i72tyDftny",
        "outputId": "574c9c40-80d7-4a78-bc01-34e3b5fbbfa1"
      },
      "execution_count": 329,
      "outputs": [
        {
          "output_type": "stream",
          "name": "stdout",
          "text": [
            ">1, train: 0.858, test: 0.833\n",
            ">2, train: 0.917, test: 0.909\n",
            ">3, train: 0.941, test: 0.924\n",
            ">4, train: 0.964, test: 0.935\n",
            ">5, train: 0.986, test: 0.971\n",
            ">6, train: 0.997, test: 0.993\n",
            ">7, train: 1.000, test: 0.993\n",
            ">8, train: 1.000, test: 0.993\n",
            ">9, train: 1.000, test: 0.993\n",
            ">10, train: 1.000, test: 0.993\n",
            ">11, train: 1.000, test: 0.993\n",
            ">12, train: 1.000, test: 0.993\n",
            ">13, train: 1.000, test: 0.993\n",
            ">14, train: 1.000, test: 0.993\n",
            ">15, train: 1.000, test: 0.993\n",
            ">16, train: 1.000, test: 0.993\n",
            ">17, train: 1.000, test: 0.993\n",
            ">18, train: 1.000, test: 0.993\n",
            ">19, train: 1.000, test: 0.993\n",
            ">20, train: 1.000, test: 0.993\n",
            "\n"
          ]
        },
        {
          "output_type": "display_data",
          "data": {
            "text/plain": [
              "<Figure size 432x288 with 1 Axes>"
            ],
            "image/png": "[encoded data removed]"
          },
          "metadata": {
            "needs_background": "light"
          }
        }
      ]
    },
    {
      "cell_type": "markdown",
      "source": [
        "### Conclusion\n",
        "This decision tree classifier produced an excellent model for predicting forgeries from the scaled numeric variables, `variance`, `curtosis`, `skewness`, and `entropy`. Therefore, it should be quite suitable for that purpose. This model was 100% sensitive for detecting forgeries and its precision was 98.33%. It is interesting to note that this model performed slighly better than the model obtained with a support vector machine (MLA3_LHS) in that there were only two instead of 4 false positives, giving a slightly higher precision. With such excellent performance statistics there is always concern regarding overfitting, but plotting analysis vs. max_depth was not suggestive of overfitting with this model. "
      ],
      "metadata": {
        "id": "3lnXErgPJFde"
      }
    },
    {
      "cell_type": "markdown",
      "source": [
        "## Problem 2: Decision Tree Regression"
      ],
      "metadata": {
        "id": "cEwDPPtX-C9t"
      }
    },
    {
      "cell_type": "markdown",
      "source": [
        "### Reading the Data"
      ],
      "metadata": {
        "id": "iFllsBeo3Fym"
      }
    },
    {
      "cell_type": "code",
      "source": [
        "df = pd.read_csv('/content/gdrive/MyDrive/1CS430/Steel_industry_data.csv')"
      ],
      "metadata": {
        "id": "sjifkkGUr88T"
      },
      "execution_count": 330,
      "outputs": []
    },
    {
      "cell_type": "code",
      "source": [
        "# Rename the columns.\n",
        "df.rename(columns = {'Usage_kWh':'usage_kwh'},inplace=True)\n",
        "df.rename(columns = {'Lagging_Current_Reactive.Power_kVarh':'lag_react_pwr_kvarh'},inplace=True)\n",
        "df.rename(columns = {'Leading_Current_Reactive_Power_kVarh':'lead_react_pwr_kvarh'},inplace=True)\n",
        "df.rename(columns = {'Lagging_Current_Power_Factor':'lag_current_pwr'},inplace=True)\n",
        "df.rename(columns = {'Leading_Current_Power_Factor':'lead_current_pwr'},inplace=True)\n",
        "df.rename(columns = {'NSM':'nsm'},inplace=True)\n",
        "df.rename(columns = {'WeekStatus':'week_status'},inplace=True)\n",
        "df.rename(columns = {'Day_of_week':'day_of_week'},inplace=True)\n",
        "df.rename(columns = {'Load_Type':'load_type'},inplace=True)"
      ],
      "metadata": {
        "id": "x_WnUWVCsKwx"
      },
      "execution_count": 331,
      "outputs": []
    },
    {
      "cell_type": "markdown",
      "source": [
        "### Splitting Data into Train/Test"
      ],
      "metadata": {
        "id": "loHENV0V-Okn"
      }
    },
    {
      "cell_type": "code",
      "source": [
        "X = df.loc[:,'lag_react_pwr_kvarh':'load_type']\n",
        "y = df['usage_kwh']\n",
        "X_train, X_test, y_train, y_test = train_test_split(X, y, test_size=.2, random_state=0)"
      ],
      "metadata": {
        "id": "bE6AOUeessEg"
      },
      "execution_count": 332,
      "outputs": []
    },
    {
      "cell_type": "markdown",
      "source": [
        "### Building the Pipeline"
      ],
      "metadata": {
        "id": "fwGIAvl3-Ok-"
      }
    },
    {
      "cell_type": "code",
      "source": [
        "num_attribs = ['lag_react_pwr_kvarh', 'lead_react_pwr_kvarh', 'CO2(tCO2)', 'lag_current_pwr', 'lead_current_pwr', 'nsm']\n",
        "cat_attribs = ['week_status', 'day_of_week', 'load_type']\n",
        "col_transform = ColumnTransformer(transformers=[\n",
        "                 ('cat', OneHotEncoder(), cat_attribs),\n",
        "                 ('num', MinMaxScaler(), num_attribs)],\n",
        "                 remainder='passthrough')\n",
        "pipeline = Pipeline([\n",
        "                     ('transform', col_transform),\n",
        "                     ('decision_tree_regression', tree.DecisionTreeRegressor(max_depth=None, random_state=0))\n",
        "]) \n",
        "from sklearn import set_config\n",
        "set_config(display='diagram')\n",
        "pipeline                             "
      ],
      "metadata": {
        "colab": {
          "base_uri": "https://localhost:8080/",
          "height": 192
        },
        "id": "Yv3hHfRZtKAF",
        "outputId": "8d18b1d8-0fc4-4ff7-e0c2-ae7aebeb54ef"
      },
      "execution_count": 333,
      "outputs": [
        {
          "output_type": "execute_result",
          "data": {
            "text/plain": [
              "Pipeline(steps=[('transform',\n",
              "                 ColumnTransformer(remainder='passthrough',\n",
              "                                   transformers=[('cat', OneHotEncoder(),\n",
              "                                                  ['week_status', 'day_of_week',\n",
              "                                                   'load_type']),\n",
              "                                                 ('num', MinMaxScaler(),\n",
              "                                                  ['lag_react_pwr_kvarh',\n",
              "                                                   'lead_react_pwr_kvarh',\n",
              "                                                   'CO2(tCO2)',\n",
              "                                                   'lag_current_pwr',\n",
              "                                                   'lead_current_pwr',\n",
              "                                                   'nsm'])])),\n",
              "                ('decision_tree_regression',\n",
              "                 DecisionTreeRegressor(random_state=0))])"
            ],
            "text/html": [
              "<style>#sk-f280f6b1-4dda-45f1-9c60-83d150dd80ff {color: black;background-color: white;}#sk-f280f6b1-4dda-45f1-9c60-83d150dd80ff pre{padding: 0;}#sk-f280f6b1-4dda-45f1-9c60-83d150dd80ff div.sk-toggleable {background-color: white;}#sk-f280f6b1-4dda-45f1-9c60-83d150dd80ff label.sk-toggleable__label {cursor: pointer;display: block;width: 100%;margin-bottom: 0;padding: 0.3em;box-sizing: border-box;text-align: center;}#sk-f280f6b1-4dda-45f1-9c60-83d150dd80ff label.sk-toggleable__label-arrow:before {content: \"▸\";float: left;margin-right: 0.25em;color: #696969;}#sk-f280f6b1-4dda-45f1-9c60-83d150dd80ff label.sk-toggleable__label-arrow:hover:before {color: black;}#sk-f280f6b1-4dda-45f1-9c60-83d150dd80ff div.sk-estimator:hover label.sk-toggleable__label-arrow:before {color: black;}#sk-f280f6b1-4dda-45f1-9c60-83d150dd80ff div.sk-toggleable__content {max-height: 0;max-width: 0;overflow: hidden;text-align: left;background-color: #f0f8ff;}#sk-f280f6b1-4dda-45f1-9c60-83d150dd80ff div.sk-toggleable__content pre {margin: 0.2em;color: black;border-radius: 0.25em;background-color: #f0f8ff;}#sk-f280f6b1-4dda-45f1-9c60-83d150dd80ff input.sk-toggleable__control:checked~div.sk-toggleable__content {max-height: 200px;max-width: 100%;overflow: auto;}#sk-f280f6b1-4dda-45f1-9c60-83d150dd80ff input.sk-toggleable__control:checked~label.sk-toggleable__label-arrow:before {content: \"▾\";}#sk-f280f6b1-4dda-45f1-9c60-83d150dd80ff div.sk-estimator input.sk-toggleable__control:checked~label.sk-toggleable__label {background-color: #d4ebff;}#sk-f280f6b1-4dda-45f1-9c60-83d150dd80ff div.sk-label input.sk-toggleable__control:checked~label.sk-toggleable__label {background-color: #d4ebff;}#sk-f280f6b1-4dda-45f1-9c60-83d150dd80ff input.sk-hidden--visually {border: 0;clip: rect(1px 1px 1px 1px);clip: rect(1px, 1px, 1px, 1px);height: 1px;margin: -1px;overflow: hidden;padding: 0;position: absolute;width: 1px;}#sk-f280f6b1-4dda-45f1-9c60-83d150dd80ff div.sk-estimator {font-family: monospace;background-color: #f0f8ff;border: 1px dotted black;border-radius: 0.25em;box-sizing: border-box;margin-bottom: 0.5em;}#sk-f280f6b1-4dda-45f1-9c60-83d150dd80ff div.sk-estimator:hover {background-color: #d4ebff;}#sk-f280f6b1-4dda-45f1-9c60-83d150dd80ff div.sk-parallel-item::after {content: \"\";width: 100%;border-bottom: 1px solid gray;flex-grow: 1;}#sk-f280f6b1-4dda-45f1-9c60-83d150dd80ff div.sk-label:hover label.sk-toggleable__label {background-color: #d4ebff;}#sk-f280f6b1-4dda-45f1-9c60-83d150dd80ff div.sk-serial::before {content: \"\";position: absolute;border-left: 1px solid gray;box-sizing: border-box;top: 2em;bottom: 0;left: 50%;}#sk-f280f6b1-4dda-45f1-9c60-83d150dd80ff div.sk-serial {display: flex;flex-direction: column;align-items: center;background-color: white;padding-right: 0.2em;padding-left: 0.2em;}#sk-f280f6b1-4dda-45f1-9c60-83d150dd80ff div.sk-item {z-index: 1;}#sk-f280f6b1-4dda-45f1-9c60-83d150dd80ff div.sk-parallel {display: flex;align-items: stretch;justify-content: center;background-color: white;}#sk-f280f6b1-4dda-45f1-9c60-83d150dd80ff div.sk-parallel::before {content: \"\";position: absolute;border-left: 1px solid gray;box-sizing: border-box;top: 2em;bottom: 0;left: 50%;}#sk-f280f6b1-4dda-45f1-9c60-83d150dd80ff div.sk-parallel-item {display: flex;flex-direction: column;position: relative;background-color: white;}#sk-f280f6b1-4dda-45f1-9c60-83d150dd80ff div.sk-parallel-item:first-child::after {align-self: flex-end;width: 50%;}#sk-f280f6b1-4dda-45f1-9c60-83d150dd80ff div.sk-parallel-item:last-child::after {align-self: flex-start;width: 50%;}#sk-f280f6b1-4dda-45f1-9c60-83d150dd80ff div.sk-parallel-item:only-child::after {width: 0;}#sk-f280f6b1-4dda-45f1-9c60-83d150dd80ff div.sk-dashed-wrapped {border: 1px dashed gray;margin: 0 0.4em 0.5em 0.4em;box-sizing: border-box;padding-bottom: 0.4em;background-color: white;position: relative;}#sk-f280f6b1-4dda-45f1-9c60-83d150dd80ff div.sk-label label {font-family: monospace;font-weight: bold;background-color: white;display: inline-block;line-height: 1.2em;}#sk-f280f6b1-4dda-45f1-9c60-83d150dd80ff div.sk-label-container {position: relative;z-index: 2;text-align: center;}#sk-f280f6b1-4dda-45f1-9c60-83d150dd80ff div.sk-container {/* jupyter's `normalize.less` sets `[hidden] { display: none; }` but bootstrap.min.css set `[hidden] { display: none !important; }` so we also need the `!important` here to be able to override the default hidden behavior on the sphinx rendered scikit-learn.org. See: https://github.com/scikit-learn/scikit-learn/issues/21755 */display: inline-block !important;position: relative;}#sk-f280f6b1-4dda-45f1-9c60-83d150dd80ff div.sk-text-repr-fallback {display: none;}</style><div id=\"sk-f280f6b1-4dda-45f1-9c60-83d150dd80ff\" class=\"sk-top-container\"><div class=\"sk-text-repr-fallback\"><pre>Pipeline(steps=[(&#x27;transform&#x27;,\n",
              "                 ColumnTransformer(remainder=&#x27;passthrough&#x27;,\n",
              "                                   transformers=[(&#x27;cat&#x27;, OneHotEncoder(),\n",
              "                                                  [&#x27;week_status&#x27;, &#x27;day_of_week&#x27;,\n",
              "                                                   &#x27;load_type&#x27;]),\n",
              "                                                 (&#x27;num&#x27;, MinMaxScaler(),\n",
              "                                                  [&#x27;lag_react_pwr_kvarh&#x27;,\n",
              "                                                   &#x27;lead_react_pwr_kvarh&#x27;,\n",
              "                                                   &#x27;CO2(tCO2)&#x27;,\n",
              "                                                   &#x27;lag_current_pwr&#x27;,\n",
              "                                                   &#x27;lead_current_pwr&#x27;,\n",
              "                                                   &#x27;nsm&#x27;])])),\n",
              "                (&#x27;decision_tree_regression&#x27;,\n",
              "                 DecisionTreeRegressor(random_state=0))])</pre><b>Please rerun this cell to show the HTML repr or trust the notebook.</b></div><div class=\"sk-container\" hidden><div class=\"sk-item sk-dashed-wrapped\"><div class=\"sk-label-container\"><div class=\"sk-label sk-toggleable\"><input class=\"sk-toggleable__control sk-hidden--visually\" id=\"725d1a7a-5231-43f0-bfef-ea3115d8d19d\" type=\"checkbox\" ><label for=\"725d1a7a-5231-43f0-bfef-ea3115d8d19d\" class=\"sk-toggleable__label sk-toggleable__label-arrow\">Pipeline</label><div class=\"sk-toggleable__content\"><pre>Pipeline(steps=[(&#x27;transform&#x27;,\n",
              "                 ColumnTransformer(remainder=&#x27;passthrough&#x27;,\n",
              "                                   transformers=[(&#x27;cat&#x27;, OneHotEncoder(),\n",
              "                                                  [&#x27;week_status&#x27;, &#x27;day_of_week&#x27;,\n",
              "                                                   &#x27;load_type&#x27;]),\n",
              "                                                 (&#x27;num&#x27;, MinMaxScaler(),\n",
              "                                                  [&#x27;lag_react_pwr_kvarh&#x27;,\n",
              "                                                   &#x27;lead_react_pwr_kvarh&#x27;,\n",
              "                                                   &#x27;CO2(tCO2)&#x27;,\n",
              "                                                   &#x27;lag_current_pwr&#x27;,\n",
              "                                                   &#x27;lead_current_pwr&#x27;,\n",
              "                                                   &#x27;nsm&#x27;])])),\n",
              "                (&#x27;decision_tree_regression&#x27;,\n",
              "                 DecisionTreeRegressor(random_state=0))])</pre></div></div></div><div class=\"sk-serial\"><div class=\"sk-item sk-dashed-wrapped\"><div class=\"sk-label-container\"><div class=\"sk-label sk-toggleable\"><input class=\"sk-toggleable__control sk-hidden--visually\" id=\"604c3f54-c805-4f6c-9773-c741772eb717\" type=\"checkbox\" ><label for=\"604c3f54-c805-4f6c-9773-c741772eb717\" class=\"sk-toggleable__label sk-toggleable__label-arrow\">transform: ColumnTransformer</label><div class=\"sk-toggleable__content\"><pre>ColumnTransformer(remainder=&#x27;passthrough&#x27;,\n",
              "                  transformers=[(&#x27;cat&#x27;, OneHotEncoder(),\n",
              "                                 [&#x27;week_status&#x27;, &#x27;day_of_week&#x27;, &#x27;load_type&#x27;]),\n",
              "                                (&#x27;num&#x27;, MinMaxScaler(),\n",
              "                                 [&#x27;lag_react_pwr_kvarh&#x27;, &#x27;lead_react_pwr_kvarh&#x27;,\n",
              "                                  &#x27;CO2(tCO2)&#x27;, &#x27;lag_current_pwr&#x27;,\n",
              "                                  &#x27;lead_current_pwr&#x27;, &#x27;nsm&#x27;])])</pre></div></div></div><div class=\"sk-parallel\"><div class=\"sk-parallel-item\"><div class=\"sk-item\"><div class=\"sk-label-container\"><div class=\"sk-label sk-toggleable\"><input class=\"sk-toggleable__control sk-hidden--visually\" id=\"f865a2e1-05ac-4666-b27c-0db944e8a0a7\" type=\"checkbox\" ><label for=\"f865a2e1-05ac-4666-b27c-0db944e8a0a7\" class=\"sk-toggleable__label sk-toggleable__label-arrow\">cat</label><div class=\"sk-toggleable__content\"><pre>[&#x27;week_status&#x27;, &#x27;day_of_week&#x27;, &#x27;load_type&#x27;]</pre></div></div></div><div class=\"sk-serial\"><div class=\"sk-item\"><div class=\"sk-estimator sk-toggleable\"><input class=\"sk-toggleable__control sk-hidden--visually\" id=\"17379310-309b-47e5-acd8-c9c3a3b99015\" type=\"checkbox\" ><label for=\"17379310-309b-47e5-acd8-c9c3a3b99015\" class=\"sk-toggleable__label sk-toggleable__label-arrow\">OneHotEncoder</label><div class=\"sk-toggleable__content\"><pre>OneHotEncoder()</pre></div></div></div></div></div></div><div class=\"sk-parallel-item\"><div class=\"sk-item\"><div class=\"sk-label-container\"><div class=\"sk-label sk-toggleable\"><input class=\"sk-toggleable__control sk-hidden--visually\" id=\"aa040d3e-d345-4d46-b8d7-fa930d6653f0\" type=\"checkbox\" ><label for=\"aa040d3e-d345-4d46-b8d7-fa930d6653f0\" class=\"sk-toggleable__label sk-toggleable__label-arrow\">num</label><div class=\"sk-toggleable__content\"><pre>[&#x27;lag_react_pwr_kvarh&#x27;, &#x27;lead_react_pwr_kvarh&#x27;, &#x27;CO2(tCO2)&#x27;, &#x27;lag_current_pwr&#x27;, &#x27;lead_current_pwr&#x27;, &#x27;nsm&#x27;]</pre></div></div></div><div class=\"sk-serial\"><div class=\"sk-item\"><div class=\"sk-estimator sk-toggleable\"><input class=\"sk-toggleable__control sk-hidden--visually\" id=\"0e2e013e-e049-4a5c-9f38-b41e26916977\" type=\"checkbox\" ><label for=\"0e2e013e-e049-4a5c-9f38-b41e26916977\" class=\"sk-toggleable__label sk-toggleable__label-arrow\">MinMaxScaler</label><div class=\"sk-toggleable__content\"><pre>MinMaxScaler()</pre></div></div></div></div></div></div><div class=\"sk-parallel-item\"><div class=\"sk-item\"><div class=\"sk-label-container\"><div class=\"sk-label sk-toggleable\"><input class=\"sk-toggleable__control sk-hidden--visually\" id=\"61082836-e36c-4a80-b8c9-bf50af14250c\" type=\"checkbox\" ><label for=\"61082836-e36c-4a80-b8c9-bf50af14250c\" class=\"sk-toggleable__label sk-toggleable__label-arrow\">remainder</label><div class=\"sk-toggleable__content\"><pre></pre></div></div></div><div class=\"sk-serial\"><div class=\"sk-item\"><div class=\"sk-estimator sk-toggleable\"><input class=\"sk-toggleable__control sk-hidden--visually\" id=\"4b4ed1fd-a43f-499a-9aa6-0e3a3fc9ec94\" type=\"checkbox\" ><label for=\"4b4ed1fd-a43f-499a-9aa6-0e3a3fc9ec94\" class=\"sk-toggleable__label sk-toggleable__label-arrow\">passthrough</label><div class=\"sk-toggleable__content\"><pre>passthrough</pre></div></div></div></div></div></div></div></div><div class=\"sk-item\"><div class=\"sk-estimator sk-toggleable\"><input class=\"sk-toggleable__control sk-hidden--visually\" id=\"35636501-99f5-40d5-af2b-63c71614ed4d\" type=\"checkbox\" ><label for=\"35636501-99f5-40d5-af2b-63c71614ed4d\" class=\"sk-toggleable__label sk-toggleable__label-arrow\">DecisionTreeRegressor</label><div class=\"sk-toggleable__content\"><pre>DecisionTreeRegressor(random_state=0)</pre></div></div></div></div></div></div></div>"
            ]
          },
          "metadata": {},
          "execution_count": 333
        }
      ]
    },
    {
      "cell_type": "markdown",
      "source": [
        "### Executing the Model"
      ],
      "metadata": {
        "id": "ivVjQ7Jm-Ok_"
      }
    },
    {
      "cell_type": "code",
      "source": [
        "pipeline.fit(X_train, y_train)"
      ],
      "metadata": {
        "colab": {
          "base_uri": "https://localhost:8080/",
          "height": 192
        },
        "id": "9_XGDtX2t5nl",
        "outputId": "1a71593c-503c-4727-d047-58a24431df16"
      },
      "execution_count": 334,
      "outputs": [
        {
          "output_type": "execute_result",
          "data": {
            "text/plain": [
              "Pipeline(steps=[('transform',\n",
              "                 ColumnTransformer(remainder='passthrough',\n",
              "                                   transformers=[('cat', OneHotEncoder(),\n",
              "                                                  ['week_status', 'day_of_week',\n",
              "                                                   'load_type']),\n",
              "                                                 ('num', MinMaxScaler(),\n",
              "                                                  ['lag_react_pwr_kvarh',\n",
              "                                                   'lead_react_pwr_kvarh',\n",
              "                                                   'CO2(tCO2)',\n",
              "                                                   'lag_current_pwr',\n",
              "                                                   'lead_current_pwr',\n",
              "                                                   'nsm'])])),\n",
              "                ('decision_tree_regression',\n",
              "                 DecisionTreeRegressor(random_state=0))])"
            ],
            "text/html": [
              "<style>#sk-b76949d0-75b3-4c1c-8636-5928fb660931 {color: black;background-color: white;}#sk-b76949d0-75b3-4c1c-8636-5928fb660931 pre{padding: 0;}#sk-b76949d0-75b3-4c1c-8636-5928fb660931 div.sk-toggleable {background-color: white;}#sk-b76949d0-75b3-4c1c-8636-5928fb660931 label.sk-toggleable__label {cursor: pointer;display: block;width: 100%;margin-bottom: 0;padding: 0.3em;box-sizing: border-box;text-align: center;}#sk-b76949d0-75b3-4c1c-8636-5928fb660931 label.sk-toggleable__label-arrow:before {content: \"▸\";float: left;margin-right: 0.25em;color: #696969;}#sk-b76949d0-75b3-4c1c-8636-5928fb660931 label.sk-toggleable__label-arrow:hover:before {color: black;}#sk-b76949d0-75b3-4c1c-8636-5928fb660931 div.sk-estimator:hover label.sk-toggleable__label-arrow:before {color: black;}#sk-b76949d0-75b3-4c1c-8636-5928fb660931 div.sk-toggleable__content {max-height: 0;max-width: 0;overflow: hidden;text-align: left;background-color: #f0f8ff;}#sk-b76949d0-75b3-4c1c-8636-5928fb660931 div.sk-toggleable__content pre {margin: 0.2em;color: black;border-radius: 0.25em;background-color: #f0f8ff;}#sk-b76949d0-75b3-4c1c-8636-5928fb660931 input.sk-toggleable__control:checked~div.sk-toggleable__content {max-height: 200px;max-width: 100%;overflow: auto;}#sk-b76949d0-75b3-4c1c-8636-5928fb660931 input.sk-toggleable__control:checked~label.sk-toggleable__label-arrow:before {content: \"▾\";}#sk-b76949d0-75b3-4c1c-8636-5928fb660931 div.sk-estimator input.sk-toggleable__control:checked~label.sk-toggleable__label {background-color: #d4ebff;}#sk-b76949d0-75b3-4c1c-8636-5928fb660931 div.sk-label input.sk-toggleable__control:checked~label.sk-toggleable__label {background-color: #d4ebff;}#sk-b76949d0-75b3-4c1c-8636-5928fb660931 input.sk-hidden--visually {border: 0;clip: rect(1px 1px 1px 1px);clip: rect(1px, 1px, 1px, 1px);height: 1px;margin: -1px;overflow: hidden;padding: 0;position: absolute;width: 1px;}#sk-b76949d0-75b3-4c1c-8636-5928fb660931 div.sk-estimator {font-family: monospace;background-color: #f0f8ff;border: 1px dotted black;border-radius: 0.25em;box-sizing: border-box;margin-bottom: 0.5em;}#sk-b76949d0-75b3-4c1c-8636-5928fb660931 div.sk-estimator:hover {background-color: #d4ebff;}#sk-b76949d0-75b3-4c1c-8636-5928fb660931 div.sk-parallel-item::after {content: \"\";width: 100%;border-bottom: 1px solid gray;flex-grow: 1;}#sk-b76949d0-75b3-4c1c-8636-5928fb660931 div.sk-label:hover label.sk-toggleable__label {background-color: #d4ebff;}#sk-b76949d0-75b3-4c1c-8636-5928fb660931 div.sk-serial::before {content: \"\";position: absolute;border-left: 1px solid gray;box-sizing: border-box;top: 2em;bottom: 0;left: 50%;}#sk-b76949d0-75b3-4c1c-8636-5928fb660931 div.sk-serial {display: flex;flex-direction: column;align-items: center;background-color: white;padding-right: 0.2em;padding-left: 0.2em;}#sk-b76949d0-75b3-4c1c-8636-5928fb660931 div.sk-item {z-index: 1;}#sk-b76949d0-75b3-4c1c-8636-5928fb660931 div.sk-parallel {display: flex;align-items: stretch;justify-content: center;background-color: white;}#sk-b76949d0-75b3-4c1c-8636-5928fb660931 div.sk-parallel::before {content: \"\";position: absolute;border-left: 1px solid gray;box-sizing: border-box;top: 2em;bottom: 0;left: 50%;}#sk-b76949d0-75b3-4c1c-8636-5928fb660931 div.sk-parallel-item {display: flex;flex-direction: column;position: relative;background-color: white;}#sk-b76949d0-75b3-4c1c-8636-5928fb660931 div.sk-parallel-item:first-child::after {align-self: flex-end;width: 50%;}#sk-b76949d0-75b3-4c1c-8636-5928fb660931 div.sk-parallel-item:last-child::after {align-self: flex-start;width: 50%;}#sk-b76949d0-75b3-4c1c-8636-5928fb660931 div.sk-parallel-item:only-child::after {width: 0;}#sk-b76949d0-75b3-4c1c-8636-5928fb660931 div.sk-dashed-wrapped {border: 1px dashed gray;margin: 0 0.4em 0.5em 0.4em;box-sizing: border-box;padding-bottom: 0.4em;background-color: white;position: relative;}#sk-b76949d0-75b3-4c1c-8636-5928fb660931 div.sk-label label {font-family: monospace;font-weight: bold;background-color: white;display: inline-block;line-height: 1.2em;}#sk-b76949d0-75b3-4c1c-8636-5928fb660931 div.sk-label-container {position: relative;z-index: 2;text-align: center;}#sk-b76949d0-75b3-4c1c-8636-5928fb660931 div.sk-container {/* jupyter's `normalize.less` sets `[hidden] { display: none; }` but bootstrap.min.css set `[hidden] { display: none !important; }` so we also need the `!important` here to be able to override the default hidden behavior on the sphinx rendered scikit-learn.org. See: https://github.com/scikit-learn/scikit-learn/issues/21755 */display: inline-block !important;position: relative;}#sk-b76949d0-75b3-4c1c-8636-5928fb660931 div.sk-text-repr-fallback {display: none;}</style><div id=\"sk-b76949d0-75b3-4c1c-8636-5928fb660931\" class=\"sk-top-container\"><div class=\"sk-text-repr-fallback\"><pre>Pipeline(steps=[(&#x27;transform&#x27;,\n",
              "                 ColumnTransformer(remainder=&#x27;passthrough&#x27;,\n",
              "                                   transformers=[(&#x27;cat&#x27;, OneHotEncoder(),\n",
              "                                                  [&#x27;week_status&#x27;, &#x27;day_of_week&#x27;,\n",
              "                                                   &#x27;load_type&#x27;]),\n",
              "                                                 (&#x27;num&#x27;, MinMaxScaler(),\n",
              "                                                  [&#x27;lag_react_pwr_kvarh&#x27;,\n",
              "                                                   &#x27;lead_react_pwr_kvarh&#x27;,\n",
              "                                                   &#x27;CO2(tCO2)&#x27;,\n",
              "                                                   &#x27;lag_current_pwr&#x27;,\n",
              "                                                   &#x27;lead_current_pwr&#x27;,\n",
              "                                                   &#x27;nsm&#x27;])])),\n",
              "                (&#x27;decision_tree_regression&#x27;,\n",
              "                 DecisionTreeRegressor(random_state=0))])</pre><b>Please rerun this cell to show the HTML repr or trust the notebook.</b></div><div class=\"sk-container\" hidden><div class=\"sk-item sk-dashed-wrapped\"><div class=\"sk-label-container\"><div class=\"sk-label sk-toggleable\"><input class=\"sk-toggleable__control sk-hidden--visually\" id=\"1621ef6f-a164-45f3-aa3c-e5e9516392ef\" type=\"checkbox\" ><label for=\"1621ef6f-a164-45f3-aa3c-e5e9516392ef\" class=\"sk-toggleable__label sk-toggleable__label-arrow\">Pipeline</label><div class=\"sk-toggleable__content\"><pre>Pipeline(steps=[(&#x27;transform&#x27;,\n",
              "                 ColumnTransformer(remainder=&#x27;passthrough&#x27;,\n",
              "                                   transformers=[(&#x27;cat&#x27;, OneHotEncoder(),\n",
              "                                                  [&#x27;week_status&#x27;, &#x27;day_of_week&#x27;,\n",
              "                                                   &#x27;load_type&#x27;]),\n",
              "                                                 (&#x27;num&#x27;, MinMaxScaler(),\n",
              "                                                  [&#x27;lag_react_pwr_kvarh&#x27;,\n",
              "                                                   &#x27;lead_react_pwr_kvarh&#x27;,\n",
              "                                                   &#x27;CO2(tCO2)&#x27;,\n",
              "                                                   &#x27;lag_current_pwr&#x27;,\n",
              "                                                   &#x27;lead_current_pwr&#x27;,\n",
              "                                                   &#x27;nsm&#x27;])])),\n",
              "                (&#x27;decision_tree_regression&#x27;,\n",
              "                 DecisionTreeRegressor(random_state=0))])</pre></div></div></div><div class=\"sk-serial\"><div class=\"sk-item sk-dashed-wrapped\"><div class=\"sk-label-container\"><div class=\"sk-label sk-toggleable\"><input class=\"sk-toggleable__control sk-hidden--visually\" id=\"cdea0713-b74d-4c24-9ae1-7283efcbd5b6\" type=\"checkbox\" ><label for=\"cdea0713-b74d-4c24-9ae1-7283efcbd5b6\" class=\"sk-toggleable__label sk-toggleable__label-arrow\">transform: ColumnTransformer</label><div class=\"sk-toggleable__content\"><pre>ColumnTransformer(remainder=&#x27;passthrough&#x27;,\n",
              "                  transformers=[(&#x27;cat&#x27;, OneHotEncoder(),\n",
              "                                 [&#x27;week_status&#x27;, &#x27;day_of_week&#x27;, &#x27;load_type&#x27;]),\n",
              "                                (&#x27;num&#x27;, MinMaxScaler(),\n",
              "                                 [&#x27;lag_react_pwr_kvarh&#x27;, &#x27;lead_react_pwr_kvarh&#x27;,\n",
              "                                  &#x27;CO2(tCO2)&#x27;, &#x27;lag_current_pwr&#x27;,\n",
              "                                  &#x27;lead_current_pwr&#x27;, &#x27;nsm&#x27;])])</pre></div></div></div><div class=\"sk-parallel\"><div class=\"sk-parallel-item\"><div class=\"sk-item\"><div class=\"sk-label-container\"><div class=\"sk-label sk-toggleable\"><input class=\"sk-toggleable__control sk-hidden--visually\" id=\"2d028ba1-9610-4a70-af2d-669b79d4cb18\" type=\"checkbox\" ><label for=\"2d028ba1-9610-4a70-af2d-669b79d4cb18\" class=\"sk-toggleable__label sk-toggleable__label-arrow\">cat</label><div class=\"sk-toggleable__content\"><pre>[&#x27;week_status&#x27;, &#x27;day_of_week&#x27;, &#x27;load_type&#x27;]</pre></div></div></div><div class=\"sk-serial\"><div class=\"sk-item\"><div class=\"sk-estimator sk-toggleable\"><input class=\"sk-toggleable__control sk-hidden--visually\" id=\"2e247a9d-258e-451a-836a-93b022903c24\" type=\"checkbox\" ><label for=\"2e247a9d-258e-451a-836a-93b022903c24\" class=\"sk-toggleable__label sk-toggleable__label-arrow\">OneHotEncoder</label><div class=\"sk-toggleable__content\"><pre>OneHotEncoder()</pre></div></div></div></div></div></div><div class=\"sk-parallel-item\"><div class=\"sk-item\"><div class=\"sk-label-container\"><div class=\"sk-label sk-toggleable\"><input class=\"sk-toggleable__control sk-hidden--visually\" id=\"e5beb624-af8a-40c6-b783-841cce6b8fe9\" type=\"checkbox\" ><label for=\"e5beb624-af8a-40c6-b783-841cce6b8fe9\" class=\"sk-toggleable__label sk-toggleable__label-arrow\">num</label><div class=\"sk-toggleable__content\"><pre>[&#x27;lag_react_pwr_kvarh&#x27;, &#x27;lead_react_pwr_kvarh&#x27;, &#x27;CO2(tCO2)&#x27;, &#x27;lag_current_pwr&#x27;, &#x27;lead_current_pwr&#x27;, &#x27;nsm&#x27;]</pre></div></div></div><div class=\"sk-serial\"><div class=\"sk-item\"><div class=\"sk-estimator sk-toggleable\"><input class=\"sk-toggleable__control sk-hidden--visually\" id=\"1c3301ae-f4e3-4bcc-99dd-7f32510ac209\" type=\"checkbox\" ><label for=\"1c3301ae-f4e3-4bcc-99dd-7f32510ac209\" class=\"sk-toggleable__label sk-toggleable__label-arrow\">MinMaxScaler</label><div class=\"sk-toggleable__content\"><pre>MinMaxScaler()</pre></div></div></div></div></div></div><div class=\"sk-parallel-item\"><div class=\"sk-item\"><div class=\"sk-label-container\"><div class=\"sk-label sk-toggleable\"><input class=\"sk-toggleable__control sk-hidden--visually\" id=\"92d14d43-81b2-4bd1-a9a7-f738893002f4\" type=\"checkbox\" ><label for=\"92d14d43-81b2-4bd1-a9a7-f738893002f4\" class=\"sk-toggleable__label sk-toggleable__label-arrow\">remainder</label><div class=\"sk-toggleable__content\"><pre>[]</pre></div></div></div><div class=\"sk-serial\"><div class=\"sk-item\"><div class=\"sk-estimator sk-toggleable\"><input class=\"sk-toggleable__control sk-hidden--visually\" id=\"eb739442-d6dc-4e6b-ac80-8ff2e64fd18f\" type=\"checkbox\" ><label for=\"eb739442-d6dc-4e6b-ac80-8ff2e64fd18f\" class=\"sk-toggleable__label sk-toggleable__label-arrow\">passthrough</label><div class=\"sk-toggleable__content\"><pre>passthrough</pre></div></div></div></div></div></div></div></div><div class=\"sk-item\"><div class=\"sk-estimator sk-toggleable\"><input class=\"sk-toggleable__control sk-hidden--visually\" id=\"4f7e6614-3b7e-4ecf-a6d6-67b5dd8fe65a\" type=\"checkbox\" ><label for=\"4f7e6614-3b7e-4ecf-a6d6-67b5dd8fe65a\" class=\"sk-toggleable__label sk-toggleable__label-arrow\">DecisionTreeRegressor</label><div class=\"sk-toggleable__content\"><pre>DecisionTreeRegressor(random_state=0)</pre></div></div></div></div></div></div></div>"
            ]
          },
          "metadata": {},
          "execution_count": 334
        }
      ]
    },
    {
      "cell_type": "markdown",
      "source": [
        "### Evaluating Model"
      ],
      "metadata": {
        "id": "SMLuruS6-OlA"
      }
    },
    {
      "cell_type": "markdown",
      "source": [
        "Compute RMSE's for training and test data."
      ],
      "metadata": {
        "id": "3cwkv_4veBla"
      }
    },
    {
      "cell_type": "code",
      "source": [
        "# Make predictions on the training data.\n",
        "y_train_pred = pipeline.predict(X_train)\n",
        "# Make predictions on the test data.\n",
        "y_pred = pipeline.predict(X_test)\n",
        "# Get the root mean square errors for both \n",
        "RMSE_train = (mean_squared_error(y_train, y_train_pred))**.5\n",
        "RMSE_test = (mean_squared_error(y_test, y_pred))**.5\n",
        "print('RMSE_train =',RMSE_train,'  RMSE_test =',RMSE_test)"
      ],
      "metadata": {
        "colab": {
          "base_uri": "https://localhost:8080/"
        },
        "id": "jzC2o4fUuFxE",
        "outputId": "77c9a046-33a5-4bc6-8d28-e05452361a46"
      },
      "execution_count": 335,
      "outputs": [
        {
          "output_type": "stream",
          "name": "stdout",
          "text": [
            "RMSE_train = 2.522734059135841e-16   RMSE_test = 1.250724196608403\n"
          ]
        }
      ]
    },
    {
      "cell_type": "markdown",
      "source": [
        "Plot predicted vs. actual."
      ],
      "metadata": {
        "id": "PObKM2JteJ78"
      }
    },
    {
      "cell_type": "code",
      "source": [
        "# Plot predicted vs actual\n",
        "data = {'y_test': y_test, 'y_pred': y_pred}\n",
        "df2 = pd.DataFrame(data)\n",
        "sns.set(rc = {'figure.figsize':(50,50)})\n",
        "sns.lmplot(x='y_test', y='y_pred', data=df2, height=10, aspect=1, scatter_kws={\"s\": 5}).set(title='usage_kwh, predicted vs actual')\n",
        "plt.show()"
      ],
      "metadata": {
        "colab": {
          "base_uri": "https://localhost:8080/",
          "height": 741
        },
        "id": "6ytqKnt31H26",
        "outputId": "d6f7bc7a-5e2d-4733-e08f-12defa5360e1"
      },
      "execution_count": 336,
      "outputs": [
        {
          "output_type": "display_data",
          "data": {
            "text/plain": [
              "<Figure size 720x720 with 1 Axes>"
            ],
            "image/png": "[encoded data removed]"
          },
          "metadata": {}
        }
      ]
    },
    {
      "cell_type": "markdown",
      "source": [
        "Plot RMSE for training data and test data against a range of max_depth values."
      ],
      "metadata": {
        "id": "qUQBQwHKeO43"
      }
    },
    {
      "cell_type": "code",
      "source": [
        "# define lists to collect scores\n",
        "train_scores_reg, test_scores_reg = list(), list()\n",
        "# define the tree depths to evaluate\n",
        "values = [i for i in range(1, 31)]\n",
        "# evaluate a decision tree for each depth\n",
        "for i in values:\n",
        "\t# configure the model\n",
        "\t# model = tree.DecisionTreeRegressor(max_depth=i)\n",
        "  col_transform_reg = ColumnTransformer(transformers=[\n",
        "                 ('cat', OneHotEncoder(), cat_attribs),\n",
        "                 ('num', MinMaxScaler(), num_attribs)],\n",
        "                 remainder='passthrough')\n",
        "  pipeline_reg = Pipeline([('transform', col_transform_reg),('dt_regression', tree.DecisionTreeRegressor(max_depth=i, random_state=0))]) \n",
        "\t# fit model on the training dataset\n",
        "  pipeline_reg.fit(X_train, y_train)\n",
        "\t# evaluate on the train dataset\n",
        "  train_yhat = pipeline_reg.predict(X_train)\n",
        "  train_RMSE = (mean_squared_error(y_train, train_yhat))**.5\n",
        "  train_scores_reg.append(train_RMSE)\n",
        "\t# evaluate on the test dataset\n",
        "  test_yhat = pipeline_reg.predict(X_test)\n",
        "  test_RMSE = (mean_squared_error(y_test, test_yhat))**.5\n",
        "  test_scores_reg.append(test_RMSE)\n",
        "\t# summarize progress\n",
        "  print('>%d, train: %.3f, test: %.3f' % (i, train_RMSE, test_RMSE))\n",
        "print()\n",
        "# plot of train and test scores vs tree depth\n",
        "plt.plot(values, train_scores_reg, '-o', label='Train')\n",
        "plt.plot(values, test_scores_reg, '-o', label='Test')\n",
        "plt.legend()\n",
        "plt.xlabel('max_depth')\n",
        "plt.ylabel('RMSE')\n",
        "plt.rcParams[\"figure.figsize\"] = (12, 9)\n",
        "plt.show()"
      ],
      "metadata": {
        "colab": {
          "base_uri": "https://localhost:8080/",
          "height": 1000
        },
        "id": "JmBkLNSU0wO6",
        "outputId": "fc2431ec-4dc1-48f6-ce8c-b762d1b33e45"
      },
      "execution_count": 340,
      "outputs": [
        {
          "output_type": "stream",
          "name": "stdout",
          "text": [
            ">1, train: 15.750, test: 15.721\n",
            ">2, train: 8.344, test: 8.607\n",
            ">3, train: 4.617, test: 4.534\n",
            ">4, train: 3.841, test: 3.814\n",
            ">5, train: 3.542, test: 3.580\n",
            ">6, train: 3.248, test: 3.359\n",
            ">7, train: 2.908, test: 3.085\n",
            ">8, train: 2.615, test: 2.844\n",
            ">9, train: 2.267, test: 2.557\n",
            ">10, train: 1.967, test: 2.338\n",
            ">11, train: 1.663, test: 2.053\n",
            ">12, train: 1.384, test: 1.823\n",
            ">13, train: 1.138, test: 1.679\n",
            ">14, train: 0.943, test: 1.561\n",
            ">15, train: 0.761, test: 1.478\n",
            ">16, train: 0.610, test: 1.356\n",
            ">17, train: 0.455, test: 1.326\n",
            ">18, train: 0.335, test: 1.294\n",
            ">19, train: 0.234, test: 1.257\n",
            ">20, train: 0.159, test: 1.413\n",
            ">21, train: 0.105, test: 1.307\n",
            ">22, train: 0.065, test: 1.249\n",
            ">23, train: 0.042, test: 1.275\n",
            ">24, train: 0.026, test: 1.273\n",
            ">25, train: 0.016, test: 1.353\n",
            ">26, train: 0.010, test: 1.266\n",
            ">27, train: 0.006, test: 1.277\n",
            ">28, train: 0.002, test: 1.367\n",
            ">29, train: 0.001, test: 1.258\n",
            ">30, train: 0.000, test: 1.292\n",
            "\n"
          ]
        },
        {
          "output_type": "display_data",
          "data": {
            "text/plain": [
              "<Figure size 864x648 with 1 Axes>"
            ],
            "image/png": "[encoded data removed]"
          },
          "metadata": {}
        }
      ]
    },
    {
      "cell_type": "markdown",
      "source": [
        "### Interpreting the results:\n",
        "The RMSE values obtained here with decision tree regression are excellent and better than those that were obtained with both linear regression and suport vector regression in previous assignments. In addition, the plot of actual vs. predicted values for this model has a much improved appearance compared with similar plots using linear regression and support vector regression. Notably, decision tree regresson does not produce the marked segmentation that was seen with the other models and the data points appear to randomly distributed about the identity line with fewer outliers.<br><br>\n",
        "**There is an as yet unresolved inconsistency in the computed RMSE values.** When computed the first time, with max_depth set to 'None', the RMSE for the training data is reported to be 2.52 and the RMSE for the test data is reported to be 1.25. However, when training RMSE is computed for a range of max_depth values the results are very different with training RMSE's approaching zero. As stated, this inconsistency is as yet unexplained. Intuitively, the plot of RMSE vs. max_depth is what would be expected and based on this, some degree of overfitting is implied at max_depths above 10 to 15. It would seem prudent then to limit max_depth to no more than 15, both for computational efficiency and to decrease the potential for overfitting."
      ],
      "metadata": {
        "id": "i-h0nGeH1gTU"
      }
    },
    {
      "cell_type": "markdown",
      "source": [
        "### Conclusion\n",
        "The performance of this decision tree regression model is quite good and as such it is definitely suitable for predicting kwh usage based on the numerical and categorical parameters specified. This model performs better than the linear regression and support vector models that were developed in previous assignments, although both these models also performed well. Max_depth for this decision tree model should be limited to no more than 15 for computational efficiency and to decrease the potential for overfitting.<br><br>\n",
        "As stated above, this report contains an unresolved inconsistency in RMSE's calculated on the training data. This inconsistency was not seen in the RMSE's calculated on the test data."
      ],
      "metadata": {
        "id": "TaNdOL7rk8q8"
      }
    }
  ]
}