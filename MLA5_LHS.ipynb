{
  "nbformat": 4,
  "nbformat_minor": 0,
  "metadata": {
    "colab": {
      "name": "MLA5_LHS.ipynb",
      "provenance": [],
      "collapsed_sections": [],
      "authorship_tag": "ABX9TyPbrKk9XurxQMwTo4KBR8iO",
      "include_colab_link": true
    },
    "kernelspec": {
      "name": "python3",
      "display_name": "Python 3"
    },
    "language_info": {
      "name": "python"
    }
  },
  "cells": [
    {
      "cell_type": "markdown",
      "metadata": {
        "id": "view-in-github",
        "colab_type": "text"
      },
      "source": [
        "<a href=\"https://colab.research.google.com/github/lschoch/MLA_LHS/blob/main/MLA5_LHS.ipynb\" target=\"_parent\"><img src=\"https://colab.research.google.com/assets/colab-badge.svg\" alt=\"Open In Colab\"/></a>"
      ]
    },
    {
      "cell_type": "markdown",
      "source": [
        "# **Machine Learning Assignment 5**  \n",
        "## **Lawrence Schoch**\n",
        "## **CS430**\n",
        "## **Machine Learning in the Cloud** \n",
        "---"
      ],
      "metadata": {
        "id": "QRwWxyo15l1_"
      }
    },
    {
      "cell_type": "markdown",
      "source": [
        "## Standard Imports"
      ],
      "metadata": {
        "id": "Dm3plw0g3ZvL"
      }
    },
    {
      "cell_type": "code",
      "execution_count": 173,
      "metadata": {
        "id": "hZQOlQVuibFq"
      },
      "outputs": [],
      "source": [
        "import pandas as pd\n",
        "import numpy as np\n",
        "import matplotlib.pyplot as plt\n",
        "import seaborn as sns\n",
        "%matplotlib inline"
      ]
    },
    {
      "cell_type": "code",
      "source": [
        "from google.colab import drive\n",
        "drive.mount('/content/gdrive')"
      ],
      "metadata": {
        "colab": {
          "base_uri": "https://localhost:8080/"
        },
        "id": "f6C2m_xqin0Y",
        "outputId": "84328099-3239-4cf5-bfdc-9e57d55dfce9"
      },
      "execution_count": 174,
      "outputs": [
        {
          "output_type": "stream",
          "name": "stdout",
          "text": [
            "Drive already mounted at /content/gdrive; to attempt to forcibly remount, call drive.mount(\"/content/gdrive\", force_remount=True).\n"
          ]
        }
      ]
    },
    {
      "cell_type": "markdown",
      "source": [
        "## Imports for Specific Models"
      ],
      "metadata": {
        "id": "UM7SiWOlBzPg"
      }
    },
    {
      "cell_type": "code",
      "source": [
        "# Import models.\n",
        "from sklearn.ensemble import VotingClassifier\n",
        "from sklearn.ensemble import BaggingClassifier\n",
        "from sklearn.ensemble import RandomForestClassifier\n",
        "from sklearn.ensemble import AdaBoostClassifier\n",
        "from sklearn.svm import SVC"
      ],
      "metadata": {
        "id": "jL7htbaoB6Ek"
      },
      "execution_count": 175,
      "outputs": []
    },
    {
      "cell_type": "markdown",
      "source": [
        "## Imports for Splitting Data and Building Pipeline\n"
      ],
      "metadata": {
        "id": "-5Akp3i4CPFj"
      }
    },
    {
      "cell_type": "code",
      "source": [
        "from sklearn.model_selection import train_test_split\n",
        "\n",
        "from sklearn.pipeline import Pipeline\n",
        "from sklearn.compose import ColumnTransformer\n",
        "from sklearn.preprocessing import MinMaxScaler\n",
        "from sklearn.preprocessing import OneHotEncoder"
      ],
      "metadata": {
        "id": "RPkp1dlKqLOT"
      },
      "execution_count": 176,
      "outputs": []
    },
    {
      "cell_type": "code",
      "source": [
        "from sklearn import set_config\n",
        "set_config(display='diagram')"
      ],
      "metadata": {
        "id": "NGPPxW7QQ3G6"
      },
      "execution_count": 177,
      "outputs": []
    },
    {
      "cell_type": "markdown",
      "source": [
        "## Imports for Performance Measures"
      ],
      "metadata": {
        "id": "JW9kgAGwpww3"
      }
    },
    {
      "cell_type": "code",
      "source": [
        "from sklearn.metrics import confusion_matrix\n",
        "from sklearn.metrics import precision_score, recall_score, f1_score\n",
        "from sklearn.metrics import mean_squared_error\n",
        "from sklearn.metrics import classification_report\n",
        "from sklearn.metrics import ConfusionMatrixDisplay"
      ],
      "metadata": {
        "id": "N4WwSQlNpw7c"
      },
      "execution_count": 178,
      "outputs": []
    },
    {
      "cell_type": "markdown",
      "source": [
        "## Problem 1: Land Satellite Data"
      ],
      "metadata": {
        "id": "9zzzkwxa3ncK"
      }
    },
    {
      "cell_type": "markdown",
      "source": [
        "### Reading the Data"
      ],
      "metadata": {
        "id": "PbtwGYpbDQyy"
      }
    },
    {
      "cell_type": "code",
      "source": [
        "landsat_train = pd.read_csv('/content/gdrive/MyDrive/1CS430/landsat_train.csv')\n",
        "landsat_test = pd.read_csv('/content/gdrive/MyDrive/1CS430/landsat_test.csv')"
      ],
      "metadata": {
        "id": "2w7MC9Xhz-er"
      },
      "execution_count": 179,
      "outputs": []
    },
    {
      "cell_type": "markdown",
      "source": [
        "### Bar Plots of Land Type Counts"
      ],
      "metadata": {
        "id": "_sQjZ_YfMrF7"
      }
    },
    {
      "cell_type": "markdown",
      "source": [
        "- Numeric Land Type"
      ],
      "metadata": {
        "id": "BkKQCT2Lm1qY"
      }
    },
    {
      "cell_type": "code",
      "source": [
        "# create a dataframe with the land_type counts\n",
        "df_train = landsat_train['land_type'].value_counts().rename_axis('land_type').reset_index(name='count')\n",
        "df_test = landsat_test['land_type'].value_counts().rename_axis('land_type').reset_index(name='count')\n",
        "# sort the columns for each dataframe so they will be plotted in the same order\n",
        "df_train.sort_values(by=['land_type'], ascending=True, inplace=True)\n",
        "df_test.sort_values(by=['land_type'], ascending=True, inplace=True)\n",
        "# create bar plots\n",
        "fig, (ax1,ax2) = plt.subplots(nrows=1,ncols=2,figsize=(15,8))\n",
        "#plotting for train data\n",
        "ax1.bar(df_train['land_type'], df_train['count'])\n",
        "#plotting for test data\n",
        "ax2.bar(df_test['land_type'], df_test['count'])\n",
        "ax1.set_title('landsat_train')\n",
        "ax2.set_title('landsat_test')\n",
        "plt.setp(ax1.get_xticklabels() + ax2.get_xticklabels(), fontsize=12)\n",
        "plt.show()"
      ],
      "metadata": {
        "colab": {
          "base_uri": "https://localhost:8080/",
          "height": 502
        },
        "id": "oD_gJhvzm9bs",
        "outputId": "2fb1c57d-c4d7-4913-de01-dcb3422aeeff"
      },
      "execution_count": 180,
      "outputs": [
        {
          "output_type": "display_data",
          "data": {
            "text/plain": [
              "<Figure size 1080x576 with 2 Axes>"
            ],
            "image/png": "[encoded data removed]"
          },
          "metadata": {
            "needs_background": "light"
          }
        }
      ]
    },
    {
      "cell_type": "markdown",
      "source": [
        "- Land Type Converted to Text"
      ],
      "metadata": {
        "id": "TSIfAwB2mXjD"
      }
    },
    {
      "cell_type": "code",
      "source": [
        "# create a dataframe with the land_type counts\n",
        "df_train = landsat_train['land_type'].value_counts().rename_axis('land_type').reset_index(name='count')\n",
        "df_test = landsat_test['land_type'].value_counts().rename_axis('land_type').reset_index(name='count')\n",
        "# convert land type from numeric to text\n",
        "df_train['land_type'] = df_train['land_type'].apply(lambda x: 'red soil' if x==1 \n",
        "                                        else 'cotton crop' if x==2 \n",
        "                                        else 'grey soil' if x==3 \n",
        "                                        else 'damp grey soil' if x==4 \n",
        "                                        else 'soil with vegetation stubble' if x==5 \n",
        "                                        else 'very damp grey soil') # this data set contains no instances where x==6 (mixture class)\n",
        "df_test['land_type'] = df_test['land_type'].apply(lambda x: 'red soil' if x==1 \n",
        "                                        else 'cotton crop' if x==2 \n",
        "                                        else 'grey soil' if x==3 \n",
        "                                        else 'damp grey soil' if x==4 \n",
        "                                        else 'soil with vegetation stubble' if x==5 \n",
        "                                        else 'very damp grey soil') # this data set contains no instances where x==6 (mixture class)\n",
        "# sort the columns for each dataframe so they will be plotted in the same order\n",
        "df_train.sort_values(by=['land_type'], ascending=True, inplace=True)\n",
        "df_test.sort_values(by=['land_type'], ascending=True, inplace=True)\n",
        "# create bar plots\n",
        "fig, (ax1,ax2) = plt.subplots(nrows=1,ncols=2,figsize=(15,8))\n",
        "#plotting for train data\n",
        "ax1.bar(df_train['land_type'], df_train['count'])\n",
        "#plotting for test data\n",
        "ax2.bar(df_test['land_type'], df_test['count'])\n",
        "ax1.set_title('landsat_train')\n",
        "ax2.set_title('landsat_test')\n",
        "plt.setp(ax1.get_xticklabels() + ax2.get_xticklabels(), rotation=30, ha='right', fontsize=12)\n",
        "plt.show()"
      ],
      "metadata": {
        "colab": {
          "base_uri": "https://localhost:8080/",
          "height": 584
        },
        "id": "VJdOd8GSqlJU",
        "outputId": "3fcef6b7-6056-41e8-f0b5-18f5bc2b7b8a"
      },
      "execution_count": 181,
      "outputs": [
        {
          "output_type": "display_data",
          "data": {
            "text/plain": [
              "<Figure size 1080x576 with 2 Axes>"
            ],
            "image/png": "[encoded data removed]"
          },
          "metadata": {
            "needs_background": "light"
          }
        }
      ]
    },
    {
      "cell_type": "markdown",
      "source": [
        "### Splitting the Data"
      ],
      "metadata": {
        "id": "Fz6E39flL8_U"
      }
    },
    {
      "cell_type": "code",
      "source": [
        "X_train = landsat_train.iloc[:,0:-1]\n",
        "y_train = landsat_train[['land_type']]\n",
        "X_test = landsat_test.iloc[:,0:-1]\n",
        "y_test = landsat_test[['land_type']]\n"
      ],
      "metadata": {
        "id": "3Jkc5mrRMFZW"
      },
      "execution_count": 182,
      "outputs": []
    },
    {
      "cell_type": "markdown",
      "source": [
        "### Building the Pipeline"
      ],
      "metadata": {
        "id": "jPvXk_mdEJdg"
      }
    },
    {
      "cell_type": "code",
      "source": [
        "num_attribs = X_train.columns\n",
        "col_transform = ColumnTransformer(transformers=[\n",
        "                                 ('num',MinMaxScaler(), num_attribs)],\n",
        "                                  remainder='passthrough')"
      ],
      "metadata": {
        "id": "gKDD2e_LfEM0"
      },
      "execution_count": 183,
      "outputs": []
    },
    {
      "cell_type": "code",
      "source": [
        "pipeline = Pipeline([\n",
        "                     ('transform', col_transform),\n",
        "                     ('rf', RandomForestClassifier(n_estimators=1000, max_samples=4000, bootstrap=True, n_jobs=-1))\n",
        "]) \n",
        "pipeline          "
      ],
      "metadata": {
        "colab": {
          "base_uri": "https://localhost:8080/",
          "height": 192
        },
        "id": "wiUV-TGRFbQM",
        "outputId": "24e7dc34-5105-46f8-bb7f-22e030e83c3c"
      },
      "execution_count": 184,
      "outputs": [
        {
          "output_type": "execute_result",
          "data": {
            "text/plain": [
              "Pipeline(steps=[('transform',\n",
              "                 ColumnTransformer(remainder='passthrough',\n",
              "                                   transformers=[('num', MinMaxScaler(),\n",
              "                                                  Index(['top_left_r', 'top_left_g', 'top_left_infra1', 'top_left_infra2',\n",
              "       'top_middle_r', 'top_middle_g', 'top_middle_infra1',\n",
              "       'top_middle_infra2', 'top_right_r', 'top_right_g', 'top_right_infra1',\n",
              "       'top_right_infra2', 'middle_left_r', 'middle_left_g',\n",
              "       'middl...\n",
              "       'middle_right_infra2', 'bottom_left_r', 'bottom_left_g',\n",
              "       'bottom_left_infra1', 'bottom_left_infra2', 'bottom_middle_r',\n",
              "       'bottom_middle_g', 'bottom_middle_infra1', 'bottom_middle_infra2',\n",
              "       'bottom_right_r', 'bottom_right_g', 'bottom_right_infra1',\n",
              "       'bottom_right_infra2'],\n",
              "      dtype='object'))])),\n",
              "                ('rf',\n",
              "                 RandomForestClassifier(max_samples=4000, n_estimators=1000,\n",
              "                                        n_jobs=-1))])"
            ],
            "text/html": [
              "<style>#sk-585ab33c-0cd6-4ba6-beca-1a0371841f2d {color: black;background-color: white;}#sk-585ab33c-0cd6-4ba6-beca-1a0371841f2d pre{padding: 0;}#sk-585ab33c-0cd6-4ba6-beca-1a0371841f2d div.sk-toggleable {background-color: white;}#sk-585ab33c-0cd6-4ba6-beca-1a0371841f2d label.sk-toggleable__label {cursor: pointer;display: block;width: 100%;margin-bottom: 0;padding: 0.3em;box-sizing: border-box;text-align: center;}#sk-585ab33c-0cd6-4ba6-beca-1a0371841f2d label.sk-toggleable__label-arrow:before {content: \"▸\";float: left;margin-right: 0.25em;color: #696969;}#sk-585ab33c-0cd6-4ba6-beca-1a0371841f2d label.sk-toggleable__label-arrow:hover:before {color: black;}#sk-585ab33c-0cd6-4ba6-beca-1a0371841f2d div.sk-estimator:hover label.sk-toggleable__label-arrow:before {color: black;}#sk-585ab33c-0cd6-4ba6-beca-1a0371841f2d div.sk-toggleable__content {max-height: 0;max-width: 0;overflow: hidden;text-align: left;background-color: #f0f8ff;}#sk-585ab33c-0cd6-4ba6-beca-1a0371841f2d div.sk-toggleable__content pre {margin: 0.2em;color: black;border-radius: 0.25em;background-color: #f0f8ff;}#sk-585ab33c-0cd6-4ba6-beca-1a0371841f2d input.sk-toggleable__control:checked~div.sk-toggleable__content {max-height: 200px;max-width: 100%;overflow: auto;}#sk-585ab33c-0cd6-4ba6-beca-1a0371841f2d input.sk-toggleable__control:checked~label.sk-toggleable__label-arrow:before {content: \"▾\";}#sk-585ab33c-0cd6-4ba6-beca-1a0371841f2d div.sk-estimator input.sk-toggleable__control:checked~label.sk-toggleable__label {background-color: #d4ebff;}#sk-585ab33c-0cd6-4ba6-beca-1a0371841f2d div.sk-label input.sk-toggleable__control:checked~label.sk-toggleable__label {background-color: #d4ebff;}#sk-585ab33c-0cd6-4ba6-beca-1a0371841f2d input.sk-hidden--visually {border: 0;clip: rect(1px 1px 1px 1px);clip: rect(1px, 1px, 1px, 1px);height: 1px;margin: -1px;overflow: hidden;padding: 0;position: absolute;width: 1px;}#sk-585ab33c-0cd6-4ba6-beca-1a0371841f2d div.sk-estimator {font-family: monospace;background-color: #f0f8ff;border: 1px dotted black;border-radius: 0.25em;box-sizing: border-box;margin-bottom: 0.5em;}#sk-585ab33c-0cd6-4ba6-beca-1a0371841f2d div.sk-estimator:hover {background-color: #d4ebff;}#sk-585ab33c-0cd6-4ba6-beca-1a0371841f2d div.sk-parallel-item::after {content: \"\";width: 100%;border-bottom: 1px solid gray;flex-grow: 1;}#sk-585ab33c-0cd6-4ba6-beca-1a0371841f2d div.sk-label:hover label.sk-toggleable__label {background-color: #d4ebff;}#sk-585ab33c-0cd6-4ba6-beca-1a0371841f2d div.sk-serial::before {content: \"\";position: absolute;border-left: 1px solid gray;box-sizing: border-box;top: 2em;bottom: 0;left: 50%;}#sk-585ab33c-0cd6-4ba6-beca-1a0371841f2d div.sk-serial {display: flex;flex-direction: column;align-items: center;background-color: white;padding-right: 0.2em;padding-left: 0.2em;}#sk-585ab33c-0cd6-4ba6-beca-1a0371841f2d div.sk-item {z-index: 1;}#sk-585ab33c-0cd6-4ba6-beca-1a0371841f2d div.sk-parallel {display: flex;align-items: stretch;justify-content: center;background-color: white;}#sk-585ab33c-0cd6-4ba6-beca-1a0371841f2d div.sk-parallel::before {content: \"\";position: absolute;border-left: 1px solid gray;box-sizing: border-box;top: 2em;bottom: 0;left: 50%;}#sk-585ab33c-0cd6-4ba6-beca-1a0371841f2d div.sk-parallel-item {display: flex;flex-direction: column;position: relative;background-color: white;}#sk-585ab33c-0cd6-4ba6-beca-1a0371841f2d div.sk-parallel-item:first-child::after {align-self: flex-end;width: 50%;}#sk-585ab33c-0cd6-4ba6-beca-1a0371841f2d div.sk-parallel-item:last-child::after {align-self: flex-start;width: 50%;}#sk-585ab33c-0cd6-4ba6-beca-1a0371841f2d div.sk-parallel-item:only-child::after {width: 0;}#sk-585ab33c-0cd6-4ba6-beca-1a0371841f2d div.sk-dashed-wrapped {border: 1px dashed gray;margin: 0 0.4em 0.5em 0.4em;box-sizing: border-box;padding-bottom: 0.4em;background-color: white;position: relative;}#sk-585ab33c-0cd6-4ba6-beca-1a0371841f2d div.sk-label label {font-family: monospace;font-weight: bold;background-color: white;display: inline-block;line-height: 1.2em;}#sk-585ab33c-0cd6-4ba6-beca-1a0371841f2d div.sk-label-container {position: relative;z-index: 2;text-align: center;}#sk-585ab33c-0cd6-4ba6-beca-1a0371841f2d div.sk-container {/* jupyter's `normalize.less` sets `[hidden] { display: none; }` but bootstrap.min.css set `[hidden] { display: none !important; }` so we also need the `!important` here to be able to override the default hidden behavior on the sphinx rendered scikit-learn.org. See: https://github.com/scikit-learn/scikit-learn/issues/21755 */display: inline-block !important;position: relative;}#sk-585ab33c-0cd6-4ba6-beca-1a0371841f2d div.sk-text-repr-fallback {display: none;}</style><div id=\"sk-585ab33c-0cd6-4ba6-beca-1a0371841f2d\" class=\"sk-top-container\"><div class=\"sk-text-repr-fallback\"><pre>Pipeline(steps=[(&#x27;transform&#x27;,\n",
              "                 ColumnTransformer(remainder=&#x27;passthrough&#x27;,\n",
              "                                   transformers=[(&#x27;num&#x27;, MinMaxScaler(),\n",
              "                                                  Index([&#x27;top_left_r&#x27;, &#x27;top_left_g&#x27;, &#x27;top_left_infra1&#x27;, &#x27;top_left_infra2&#x27;,\n",
              "       &#x27;top_middle_r&#x27;, &#x27;top_middle_g&#x27;, &#x27;top_middle_infra1&#x27;,\n",
              "       &#x27;top_middle_infra2&#x27;, &#x27;top_right_r&#x27;, &#x27;top_right_g&#x27;, &#x27;top_right_infra1&#x27;,\n",
              "       &#x27;top_right_infra2&#x27;, &#x27;middle_left_r&#x27;, &#x27;middle_left_g&#x27;,\n",
              "       &#x27;middl...\n",
              "       &#x27;middle_right_infra2&#x27;, &#x27;bottom_left_r&#x27;, &#x27;bottom_left_g&#x27;,\n",
              "       &#x27;bottom_left_infra1&#x27;, &#x27;bottom_left_infra2&#x27;, &#x27;bottom_middle_r&#x27;,\n",
              "       &#x27;bottom_middle_g&#x27;, &#x27;bottom_middle_infra1&#x27;, &#x27;bottom_middle_infra2&#x27;,\n",
              "       &#x27;bottom_right_r&#x27;, &#x27;bottom_right_g&#x27;, &#x27;bottom_right_infra1&#x27;,\n",
              "       &#x27;bottom_right_infra2&#x27;],\n",
              "      dtype=&#x27;object&#x27;))])),\n",
              "                (&#x27;rf&#x27;,\n",
              "                 RandomForestClassifier(max_samples=4000, n_estimators=1000,\n",
              "                                        n_jobs=-1))])</pre><b>Please rerun this cell to show the HTML repr or trust the notebook.</b></div><div class=\"sk-container\" hidden><div class=\"sk-item sk-dashed-wrapped\"><div class=\"sk-label-container\"><div class=\"sk-label sk-toggleable\"><input class=\"sk-toggleable__control sk-hidden--visually\" id=\"73c71498-f5ea-45f6-b0e3-7fbaeee4fbec\" type=\"checkbox\" ><label for=\"73c71498-f5ea-45f6-b0e3-7fbaeee4fbec\" class=\"sk-toggleable__label sk-toggleable__label-arrow\">Pipeline</label><div class=\"sk-toggleable__content\"><pre>Pipeline(steps=[(&#x27;transform&#x27;,\n",
              "                 ColumnTransformer(remainder=&#x27;passthrough&#x27;,\n",
              "                                   transformers=[(&#x27;num&#x27;, MinMaxScaler(),\n",
              "                                                  Index([&#x27;top_left_r&#x27;, &#x27;top_left_g&#x27;, &#x27;top_left_infra1&#x27;, &#x27;top_left_infra2&#x27;,\n",
              "       &#x27;top_middle_r&#x27;, &#x27;top_middle_g&#x27;, &#x27;top_middle_infra1&#x27;,\n",
              "       &#x27;top_middle_infra2&#x27;, &#x27;top_right_r&#x27;, &#x27;top_right_g&#x27;, &#x27;top_right_infra1&#x27;,\n",
              "       &#x27;top_right_infra2&#x27;, &#x27;middle_left_r&#x27;, &#x27;middle_left_g&#x27;,\n",
              "       &#x27;middl...\n",
              "       &#x27;middle_right_infra2&#x27;, &#x27;bottom_left_r&#x27;, &#x27;bottom_left_g&#x27;,\n",
              "       &#x27;bottom_left_infra1&#x27;, &#x27;bottom_left_infra2&#x27;, &#x27;bottom_middle_r&#x27;,\n",
              "       &#x27;bottom_middle_g&#x27;, &#x27;bottom_middle_infra1&#x27;, &#x27;bottom_middle_infra2&#x27;,\n",
              "       &#x27;bottom_right_r&#x27;, &#x27;bottom_right_g&#x27;, &#x27;bottom_right_infra1&#x27;,\n",
              "       &#x27;bottom_right_infra2&#x27;],\n",
              "      dtype=&#x27;object&#x27;))])),\n",
              "                (&#x27;rf&#x27;,\n",
              "                 RandomForestClassifier(max_samples=4000, n_estimators=1000,\n",
              "                                        n_jobs=-1))])</pre></div></div></div><div class=\"sk-serial\"><div class=\"sk-item sk-dashed-wrapped\"><div class=\"sk-label-container\"><div class=\"sk-label sk-toggleable\"><input class=\"sk-toggleable__control sk-hidden--visually\" id=\"b455b5af-d5fa-44cf-b5fd-a731aeb75efc\" type=\"checkbox\" ><label for=\"b455b5af-d5fa-44cf-b5fd-a731aeb75efc\" class=\"sk-toggleable__label sk-toggleable__label-arrow\">transform: ColumnTransformer</label><div class=\"sk-toggleable__content\"><pre>ColumnTransformer(remainder=&#x27;passthrough&#x27;,\n",
              "                  transformers=[(&#x27;num&#x27;, MinMaxScaler(),\n",
              "                                 Index([&#x27;top_left_r&#x27;, &#x27;top_left_g&#x27;, &#x27;top_left_infra1&#x27;, &#x27;top_left_infra2&#x27;,\n",
              "       &#x27;top_middle_r&#x27;, &#x27;top_middle_g&#x27;, &#x27;top_middle_infra1&#x27;,\n",
              "       &#x27;top_middle_infra2&#x27;, &#x27;top_right_r&#x27;, &#x27;top_right_g&#x27;, &#x27;top_right_infra1&#x27;,\n",
              "       &#x27;top_right_infra2&#x27;, &#x27;middle_left_r&#x27;, &#x27;middle_left_g&#x27;,\n",
              "       &#x27;middle_left_infra1&#x27;, &#x27;middle_left_i...\n",
              "       &#x27;central_pixel_g&#x27;, &#x27;central_pixel_infra1&#x27;, &#x27;central_pixel_infra2&#x27;,\n",
              "       &#x27;middle_right_r&#x27;, &#x27;middle_right_g&#x27;, &#x27;middle_right_infra1&#x27;,\n",
              "       &#x27;middle_right_infra2&#x27;, &#x27;bottom_left_r&#x27;, &#x27;bottom_left_g&#x27;,\n",
              "       &#x27;bottom_left_infra1&#x27;, &#x27;bottom_left_infra2&#x27;, &#x27;bottom_middle_r&#x27;,\n",
              "       &#x27;bottom_middle_g&#x27;, &#x27;bottom_middle_infra1&#x27;, &#x27;bottom_middle_infra2&#x27;,\n",
              "       &#x27;bottom_right_r&#x27;, &#x27;bottom_right_g&#x27;, &#x27;bottom_right_infra1&#x27;,\n",
              "       &#x27;bottom_right_infra2&#x27;],\n",
              "      dtype=&#x27;object&#x27;))])</pre></div></div></div><div class=\"sk-parallel\"><div class=\"sk-parallel-item\"><div class=\"sk-item\"><div class=\"sk-label-container\"><div class=\"sk-label sk-toggleable\"><input class=\"sk-toggleable__control sk-hidden--visually\" id=\"62d3a61f-3a33-4e35-baf3-dd100e11eb04\" type=\"checkbox\" ><label for=\"62d3a61f-3a33-4e35-baf3-dd100e11eb04\" class=\"sk-toggleable__label sk-toggleable__label-arrow\">num</label><div class=\"sk-toggleable__content\"><pre>Index([&#x27;top_left_r&#x27;, &#x27;top_left_g&#x27;, &#x27;top_left_infra1&#x27;, &#x27;top_left_infra2&#x27;,\n",
              "       &#x27;top_middle_r&#x27;, &#x27;top_middle_g&#x27;, &#x27;top_middle_infra1&#x27;,\n",
              "       &#x27;top_middle_infra2&#x27;, &#x27;top_right_r&#x27;, &#x27;top_right_g&#x27;, &#x27;top_right_infra1&#x27;,\n",
              "       &#x27;top_right_infra2&#x27;, &#x27;middle_left_r&#x27;, &#x27;middle_left_g&#x27;,\n",
              "       &#x27;middle_left_infra1&#x27;, &#x27;middle_left_infra2&#x27;, &#x27;central_pixel_r&#x27;,\n",
              "       &#x27;central_pixel_g&#x27;, &#x27;central_pixel_infra1&#x27;, &#x27;central_pixel_infra2&#x27;,\n",
              "       &#x27;middle_right_r&#x27;, &#x27;middle_right_g&#x27;, &#x27;middle_right_infra1&#x27;,\n",
              "       &#x27;middle_right_infra2&#x27;, &#x27;bottom_left_r&#x27;, &#x27;bottom_left_g&#x27;,\n",
              "       &#x27;bottom_left_infra1&#x27;, &#x27;bottom_left_infra2&#x27;, &#x27;bottom_middle_r&#x27;,\n",
              "       &#x27;bottom_middle_g&#x27;, &#x27;bottom_middle_infra1&#x27;, &#x27;bottom_middle_infra2&#x27;,\n",
              "       &#x27;bottom_right_r&#x27;, &#x27;bottom_right_g&#x27;, &#x27;bottom_right_infra1&#x27;,\n",
              "       &#x27;bottom_right_infra2&#x27;],\n",
              "      dtype=&#x27;object&#x27;)</pre></div></div></div><div class=\"sk-serial\"><div class=\"sk-item\"><div class=\"sk-estimator sk-toggleable\"><input class=\"sk-toggleable__control sk-hidden--visually\" id=\"4073548f-d4c1-422e-857c-b727ca168ec5\" type=\"checkbox\" ><label for=\"4073548f-d4c1-422e-857c-b727ca168ec5\" class=\"sk-toggleable__label sk-toggleable__label-arrow\">MinMaxScaler</label><div class=\"sk-toggleable__content\"><pre>MinMaxScaler()</pre></div></div></div></div></div></div><div class=\"sk-parallel-item\"><div class=\"sk-item\"><div class=\"sk-label-container\"><div class=\"sk-label sk-toggleable\"><input class=\"sk-toggleable__control sk-hidden--visually\" id=\"50ff05a3-382a-44ec-9be7-fe0a93e16e7b\" type=\"checkbox\" ><label for=\"50ff05a3-382a-44ec-9be7-fe0a93e16e7b\" class=\"sk-toggleable__label sk-toggleable__label-arrow\">remainder</label><div class=\"sk-toggleable__content\"><pre></pre></div></div></div><div class=\"sk-serial\"><div class=\"sk-item\"><div class=\"sk-estimator sk-toggleable\"><input class=\"sk-toggleable__control sk-hidden--visually\" id=\"050746d8-4e58-4951-b210-58d6cab38f02\" type=\"checkbox\" ><label for=\"050746d8-4e58-4951-b210-58d6cab38f02\" class=\"sk-toggleable__label sk-toggleable__label-arrow\">passthrough</label><div class=\"sk-toggleable__content\"><pre>passthrough</pre></div></div></div></div></div></div></div></div><div class=\"sk-item\"><div class=\"sk-estimator sk-toggleable\"><input class=\"sk-toggleable__control sk-hidden--visually\" id=\"cc4c766e-3ab1-4f09-bb27-e5300fcd8a73\" type=\"checkbox\" ><label for=\"cc4c766e-3ab1-4f09-bb27-e5300fcd8a73\" class=\"sk-toggleable__label sk-toggleable__label-arrow\">RandomForestClassifier</label><div class=\"sk-toggleable__content\"><pre>RandomForestClassifier(max_samples=4000, n_estimators=1000, n_jobs=-1)</pre></div></div></div></div></div></div></div>"
            ]
          },
          "metadata": {},
          "execution_count": 184
        }
      ]
    },
    {
      "cell_type": "markdown",
      "source": [
        "### Executing the Model"
      ],
      "metadata": {
        "id": "8vSidC97Jbx2"
      }
    },
    {
      "cell_type": "code",
      "source": [
        "pipeline.fit(X_train, np.ravel(y_train))"
      ],
      "metadata": {
        "colab": {
          "base_uri": "https://localhost:8080/",
          "height": 192
        },
        "id": "2KvqjcRGIldt",
        "outputId": "d7c9b4b9-5097-461f-beed-f9f0e4f08528"
      },
      "execution_count": 185,
      "outputs": [
        {
          "output_type": "execute_result",
          "data": {
            "text/plain": [
              "Pipeline(steps=[('transform',\n",
              "                 ColumnTransformer(remainder='passthrough',\n",
              "                                   transformers=[('num', MinMaxScaler(),\n",
              "                                                  Index(['top_left_r', 'top_left_g', 'top_left_infra1', 'top_left_infra2',\n",
              "       'top_middle_r', 'top_middle_g', 'top_middle_infra1',\n",
              "       'top_middle_infra2', 'top_right_r', 'top_right_g', 'top_right_infra1',\n",
              "       'top_right_infra2', 'middle_left_r', 'middle_left_g',\n",
              "       'middl...\n",
              "       'middle_right_infra2', 'bottom_left_r', 'bottom_left_g',\n",
              "       'bottom_left_infra1', 'bottom_left_infra2', 'bottom_middle_r',\n",
              "       'bottom_middle_g', 'bottom_middle_infra1', 'bottom_middle_infra2',\n",
              "       'bottom_right_r', 'bottom_right_g', 'bottom_right_infra1',\n",
              "       'bottom_right_infra2'],\n",
              "      dtype='object'))])),\n",
              "                ('rf',\n",
              "                 RandomForestClassifier(max_samples=4000, n_estimators=1000,\n",
              "                                        n_jobs=-1))])"
            ],
            "text/html": [
              "<style>#sk-3d12ae6a-35f3-4b43-98f7-9d7bad074ba4 {color: black;background-color: white;}#sk-3d12ae6a-35f3-4b43-98f7-9d7bad074ba4 pre{padding: 0;}#sk-3d12ae6a-35f3-4b43-98f7-9d7bad074ba4 div.sk-toggleable {background-color: white;}#sk-3d12ae6a-35f3-4b43-98f7-9d7bad074ba4 label.sk-toggleable__label {cursor: pointer;display: block;width: 100%;margin-bottom: 0;padding: 0.3em;box-sizing: border-box;text-align: center;}#sk-3d12ae6a-35f3-4b43-98f7-9d7bad074ba4 label.sk-toggleable__label-arrow:before {content: \"▸\";float: left;margin-right: 0.25em;color: #696969;}#sk-3d12ae6a-35f3-4b43-98f7-9d7bad074ba4 label.sk-toggleable__label-arrow:hover:before {color: black;}#sk-3d12ae6a-35f3-4b43-98f7-9d7bad074ba4 div.sk-estimator:hover label.sk-toggleable__label-arrow:before {color: black;}#sk-3d12ae6a-35f3-4b43-98f7-9d7bad074ba4 div.sk-toggleable__content {max-height: 0;max-width: 0;overflow: hidden;text-align: left;background-color: #f0f8ff;}#sk-3d12ae6a-35f3-4b43-98f7-9d7bad074ba4 div.sk-toggleable__content pre {margin: 0.2em;color: black;border-radius: 0.25em;background-color: #f0f8ff;}#sk-3d12ae6a-35f3-4b43-98f7-9d7bad074ba4 input.sk-toggleable__control:checked~div.sk-toggleable__content {max-height: 200px;max-width: 100%;overflow: auto;}#sk-3d12ae6a-35f3-4b43-98f7-9d7bad074ba4 input.sk-toggleable__control:checked~label.sk-toggleable__label-arrow:before {content: \"▾\";}#sk-3d12ae6a-35f3-4b43-98f7-9d7bad074ba4 div.sk-estimator input.sk-toggleable__control:checked~label.sk-toggleable__label {background-color: #d4ebff;}#sk-3d12ae6a-35f3-4b43-98f7-9d7bad074ba4 div.sk-label input.sk-toggleable__control:checked~label.sk-toggleable__label {background-color: #d4ebff;}#sk-3d12ae6a-35f3-4b43-98f7-9d7bad074ba4 input.sk-hidden--visually {border: 0;clip: rect(1px 1px 1px 1px);clip: rect(1px, 1px, 1px, 1px);height: 1px;margin: -1px;overflow: hidden;padding: 0;position: absolute;width: 1px;}#sk-3d12ae6a-35f3-4b43-98f7-9d7bad074ba4 div.sk-estimator {font-family: monospace;background-color: #f0f8ff;border: 1px dotted black;border-radius: 0.25em;box-sizing: border-box;margin-bottom: 0.5em;}#sk-3d12ae6a-35f3-4b43-98f7-9d7bad074ba4 div.sk-estimator:hover {background-color: #d4ebff;}#sk-3d12ae6a-35f3-4b43-98f7-9d7bad074ba4 div.sk-parallel-item::after {content: \"\";width: 100%;border-bottom: 1px solid gray;flex-grow: 1;}#sk-3d12ae6a-35f3-4b43-98f7-9d7bad074ba4 div.sk-label:hover label.sk-toggleable__label {background-color: #d4ebff;}#sk-3d12ae6a-35f3-4b43-98f7-9d7bad074ba4 div.sk-serial::before {content: \"\";position: absolute;border-left: 1px solid gray;box-sizing: border-box;top: 2em;bottom: 0;left: 50%;}#sk-3d12ae6a-35f3-4b43-98f7-9d7bad074ba4 div.sk-serial {display: flex;flex-direction: column;align-items: center;background-color: white;padding-right: 0.2em;padding-left: 0.2em;}#sk-3d12ae6a-35f3-4b43-98f7-9d7bad074ba4 div.sk-item {z-index: 1;}#sk-3d12ae6a-35f3-4b43-98f7-9d7bad074ba4 div.sk-parallel {display: flex;align-items: stretch;justify-content: center;background-color: white;}#sk-3d12ae6a-35f3-4b43-98f7-9d7bad074ba4 div.sk-parallel::before {content: \"\";position: absolute;border-left: 1px solid gray;box-sizing: border-box;top: 2em;bottom: 0;left: 50%;}#sk-3d12ae6a-35f3-4b43-98f7-9d7bad074ba4 div.sk-parallel-item {display: flex;flex-direction: column;position: relative;background-color: white;}#sk-3d12ae6a-35f3-4b43-98f7-9d7bad074ba4 div.sk-parallel-item:first-child::after {align-self: flex-end;width: 50%;}#sk-3d12ae6a-35f3-4b43-98f7-9d7bad074ba4 div.sk-parallel-item:last-child::after {align-self: flex-start;width: 50%;}#sk-3d12ae6a-35f3-4b43-98f7-9d7bad074ba4 div.sk-parallel-item:only-child::after {width: 0;}#sk-3d12ae6a-35f3-4b43-98f7-9d7bad074ba4 div.sk-dashed-wrapped {border: 1px dashed gray;margin: 0 0.4em 0.5em 0.4em;box-sizing: border-box;padding-bottom: 0.4em;background-color: white;position: relative;}#sk-3d12ae6a-35f3-4b43-98f7-9d7bad074ba4 div.sk-label label {font-family: monospace;font-weight: bold;background-color: white;display: inline-block;line-height: 1.2em;}#sk-3d12ae6a-35f3-4b43-98f7-9d7bad074ba4 div.sk-label-container {position: relative;z-index: 2;text-align: center;}#sk-3d12ae6a-35f3-4b43-98f7-9d7bad074ba4 div.sk-container {/* jupyter's `normalize.less` sets `[hidden] { display: none; }` but bootstrap.min.css set `[hidden] { display: none !important; }` so we also need the `!important` here to be able to override the default hidden behavior on the sphinx rendered scikit-learn.org. See: https://github.com/scikit-learn/scikit-learn/issues/21755 */display: inline-block !important;position: relative;}#sk-3d12ae6a-35f3-4b43-98f7-9d7bad074ba4 div.sk-text-repr-fallback {display: none;}</style><div id=\"sk-3d12ae6a-35f3-4b43-98f7-9d7bad074ba4\" class=\"sk-top-container\"><div class=\"sk-text-repr-fallback\"><pre>Pipeline(steps=[(&#x27;transform&#x27;,\n",
              "                 ColumnTransformer(remainder=&#x27;passthrough&#x27;,\n",
              "                                   transformers=[(&#x27;num&#x27;, MinMaxScaler(),\n",
              "                                                  Index([&#x27;top_left_r&#x27;, &#x27;top_left_g&#x27;, &#x27;top_left_infra1&#x27;, &#x27;top_left_infra2&#x27;,\n",
              "       &#x27;top_middle_r&#x27;, &#x27;top_middle_g&#x27;, &#x27;top_middle_infra1&#x27;,\n",
              "       &#x27;top_middle_infra2&#x27;, &#x27;top_right_r&#x27;, &#x27;top_right_g&#x27;, &#x27;top_right_infra1&#x27;,\n",
              "       &#x27;top_right_infra2&#x27;, &#x27;middle_left_r&#x27;, &#x27;middle_left_g&#x27;,\n",
              "       &#x27;middl...\n",
              "       &#x27;middle_right_infra2&#x27;, &#x27;bottom_left_r&#x27;, &#x27;bottom_left_g&#x27;,\n",
              "       &#x27;bottom_left_infra1&#x27;, &#x27;bottom_left_infra2&#x27;, &#x27;bottom_middle_r&#x27;,\n",
              "       &#x27;bottom_middle_g&#x27;, &#x27;bottom_middle_infra1&#x27;, &#x27;bottom_middle_infra2&#x27;,\n",
              "       &#x27;bottom_right_r&#x27;, &#x27;bottom_right_g&#x27;, &#x27;bottom_right_infra1&#x27;,\n",
              "       &#x27;bottom_right_infra2&#x27;],\n",
              "      dtype=&#x27;object&#x27;))])),\n",
              "                (&#x27;rf&#x27;,\n",
              "                 RandomForestClassifier(max_samples=4000, n_estimators=1000,\n",
              "                                        n_jobs=-1))])</pre><b>Please rerun this cell to show the HTML repr or trust the notebook.</b></div><div class=\"sk-container\" hidden><div class=\"sk-item sk-dashed-wrapped\"><div class=\"sk-label-container\"><div class=\"sk-label sk-toggleable\"><input class=\"sk-toggleable__control sk-hidden--visually\" id=\"a22e9575-2a14-436d-9030-de7bbab91247\" type=\"checkbox\" ><label for=\"a22e9575-2a14-436d-9030-de7bbab91247\" class=\"sk-toggleable__label sk-toggleable__label-arrow\">Pipeline</label><div class=\"sk-toggleable__content\"><pre>Pipeline(steps=[(&#x27;transform&#x27;,\n",
              "                 ColumnTransformer(remainder=&#x27;passthrough&#x27;,\n",
              "                                   transformers=[(&#x27;num&#x27;, MinMaxScaler(),\n",
              "                                                  Index([&#x27;top_left_r&#x27;, &#x27;top_left_g&#x27;, &#x27;top_left_infra1&#x27;, &#x27;top_left_infra2&#x27;,\n",
              "       &#x27;top_middle_r&#x27;, &#x27;top_middle_g&#x27;, &#x27;top_middle_infra1&#x27;,\n",
              "       &#x27;top_middle_infra2&#x27;, &#x27;top_right_r&#x27;, &#x27;top_right_g&#x27;, &#x27;top_right_infra1&#x27;,\n",
              "       &#x27;top_right_infra2&#x27;, &#x27;middle_left_r&#x27;, &#x27;middle_left_g&#x27;,\n",
              "       &#x27;middl...\n",
              "       &#x27;middle_right_infra2&#x27;, &#x27;bottom_left_r&#x27;, &#x27;bottom_left_g&#x27;,\n",
              "       &#x27;bottom_left_infra1&#x27;, &#x27;bottom_left_infra2&#x27;, &#x27;bottom_middle_r&#x27;,\n",
              "       &#x27;bottom_middle_g&#x27;, &#x27;bottom_middle_infra1&#x27;, &#x27;bottom_middle_infra2&#x27;,\n",
              "       &#x27;bottom_right_r&#x27;, &#x27;bottom_right_g&#x27;, &#x27;bottom_right_infra1&#x27;,\n",
              "       &#x27;bottom_right_infra2&#x27;],\n",
              "      dtype=&#x27;object&#x27;))])),\n",
              "                (&#x27;rf&#x27;,\n",
              "                 RandomForestClassifier(max_samples=4000, n_estimators=1000,\n",
              "                                        n_jobs=-1))])</pre></div></div></div><div class=\"sk-serial\"><div class=\"sk-item sk-dashed-wrapped\"><div class=\"sk-label-container\"><div class=\"sk-label sk-toggleable\"><input class=\"sk-toggleable__control sk-hidden--visually\" id=\"6f4d0d21-0cb9-46a5-b24b-e40be781262d\" type=\"checkbox\" ><label for=\"6f4d0d21-0cb9-46a5-b24b-e40be781262d\" class=\"sk-toggleable__label sk-toggleable__label-arrow\">transform: ColumnTransformer</label><div class=\"sk-toggleable__content\"><pre>ColumnTransformer(remainder=&#x27;passthrough&#x27;,\n",
              "                  transformers=[(&#x27;num&#x27;, MinMaxScaler(),\n",
              "                                 Index([&#x27;top_left_r&#x27;, &#x27;top_left_g&#x27;, &#x27;top_left_infra1&#x27;, &#x27;top_left_infra2&#x27;,\n",
              "       &#x27;top_middle_r&#x27;, &#x27;top_middle_g&#x27;, &#x27;top_middle_infra1&#x27;,\n",
              "       &#x27;top_middle_infra2&#x27;, &#x27;top_right_r&#x27;, &#x27;top_right_g&#x27;, &#x27;top_right_infra1&#x27;,\n",
              "       &#x27;top_right_infra2&#x27;, &#x27;middle_left_r&#x27;, &#x27;middle_left_g&#x27;,\n",
              "       &#x27;middle_left_infra1&#x27;, &#x27;middle_left_i...\n",
              "       &#x27;central_pixel_g&#x27;, &#x27;central_pixel_infra1&#x27;, &#x27;central_pixel_infra2&#x27;,\n",
              "       &#x27;middle_right_r&#x27;, &#x27;middle_right_g&#x27;, &#x27;middle_right_infra1&#x27;,\n",
              "       &#x27;middle_right_infra2&#x27;, &#x27;bottom_left_r&#x27;, &#x27;bottom_left_g&#x27;,\n",
              "       &#x27;bottom_left_infra1&#x27;, &#x27;bottom_left_infra2&#x27;, &#x27;bottom_middle_r&#x27;,\n",
              "       &#x27;bottom_middle_g&#x27;, &#x27;bottom_middle_infra1&#x27;, &#x27;bottom_middle_infra2&#x27;,\n",
              "       &#x27;bottom_right_r&#x27;, &#x27;bottom_right_g&#x27;, &#x27;bottom_right_infra1&#x27;,\n",
              "       &#x27;bottom_right_infra2&#x27;],\n",
              "      dtype=&#x27;object&#x27;))])</pre></div></div></div><div class=\"sk-parallel\"><div class=\"sk-parallel-item\"><div class=\"sk-item\"><div class=\"sk-label-container\"><div class=\"sk-label sk-toggleable\"><input class=\"sk-toggleable__control sk-hidden--visually\" id=\"ec4966db-e669-4e0d-ad22-6b1ed0c79099\" type=\"checkbox\" ><label for=\"ec4966db-e669-4e0d-ad22-6b1ed0c79099\" class=\"sk-toggleable__label sk-toggleable__label-arrow\">num</label><div class=\"sk-toggleable__content\"><pre>Index([&#x27;top_left_r&#x27;, &#x27;top_left_g&#x27;, &#x27;top_left_infra1&#x27;, &#x27;top_left_infra2&#x27;,\n",
              "       &#x27;top_middle_r&#x27;, &#x27;top_middle_g&#x27;, &#x27;top_middle_infra1&#x27;,\n",
              "       &#x27;top_middle_infra2&#x27;, &#x27;top_right_r&#x27;, &#x27;top_right_g&#x27;, &#x27;top_right_infra1&#x27;,\n",
              "       &#x27;top_right_infra2&#x27;, &#x27;middle_left_r&#x27;, &#x27;middle_left_g&#x27;,\n",
              "       &#x27;middle_left_infra1&#x27;, &#x27;middle_left_infra2&#x27;, &#x27;central_pixel_r&#x27;,\n",
              "       &#x27;central_pixel_g&#x27;, &#x27;central_pixel_infra1&#x27;, &#x27;central_pixel_infra2&#x27;,\n",
              "       &#x27;middle_right_r&#x27;, &#x27;middle_right_g&#x27;, &#x27;middle_right_infra1&#x27;,\n",
              "       &#x27;middle_right_infra2&#x27;, &#x27;bottom_left_r&#x27;, &#x27;bottom_left_g&#x27;,\n",
              "       &#x27;bottom_left_infra1&#x27;, &#x27;bottom_left_infra2&#x27;, &#x27;bottom_middle_r&#x27;,\n",
              "       &#x27;bottom_middle_g&#x27;, &#x27;bottom_middle_infra1&#x27;, &#x27;bottom_middle_infra2&#x27;,\n",
              "       &#x27;bottom_right_r&#x27;, &#x27;bottom_right_g&#x27;, &#x27;bottom_right_infra1&#x27;,\n",
              "       &#x27;bottom_right_infra2&#x27;],\n",
              "      dtype=&#x27;object&#x27;)</pre></div></div></div><div class=\"sk-serial\"><div class=\"sk-item\"><div class=\"sk-estimator sk-toggleable\"><input class=\"sk-toggleable__control sk-hidden--visually\" id=\"a9791c33-3922-49a9-8a8d-2fcd4153f902\" type=\"checkbox\" ><label for=\"a9791c33-3922-49a9-8a8d-2fcd4153f902\" class=\"sk-toggleable__label sk-toggleable__label-arrow\">MinMaxScaler</label><div class=\"sk-toggleable__content\"><pre>MinMaxScaler()</pre></div></div></div></div></div></div><div class=\"sk-parallel-item\"><div class=\"sk-item\"><div class=\"sk-label-container\"><div class=\"sk-label sk-toggleable\"><input class=\"sk-toggleable__control sk-hidden--visually\" id=\"17801089-ceb5-481a-a6f7-8bb12c724330\" type=\"checkbox\" ><label for=\"17801089-ceb5-481a-a6f7-8bb12c724330\" class=\"sk-toggleable__label sk-toggleable__label-arrow\">remainder</label><div class=\"sk-toggleable__content\"><pre>[]</pre></div></div></div><div class=\"sk-serial\"><div class=\"sk-item\"><div class=\"sk-estimator sk-toggleable\"><input class=\"sk-toggleable__control sk-hidden--visually\" id=\"977a0b5d-3fd2-4250-9aab-4c04f4cfb72a\" type=\"checkbox\" ><label for=\"977a0b5d-3fd2-4250-9aab-4c04f4cfb72a\" class=\"sk-toggleable__label sk-toggleable__label-arrow\">passthrough</label><div class=\"sk-toggleable__content\"><pre>passthrough</pre></div></div></div></div></div></div></div></div><div class=\"sk-item\"><div class=\"sk-estimator sk-toggleable\"><input class=\"sk-toggleable__control sk-hidden--visually\" id=\"de278a2d-c70b-47e8-b5b1-fe9df5614b12\" type=\"checkbox\" ><label for=\"de278a2d-c70b-47e8-b5b1-fe9df5614b12\" class=\"sk-toggleable__label sk-toggleable__label-arrow\">RandomForestClassifier</label><div class=\"sk-toggleable__content\"><pre>RandomForestClassifier(max_samples=4000, n_estimators=1000, n_jobs=-1)</pre></div></div></div></div></div></div></div>"
            ]
          },
          "metadata": {},
          "execution_count": 185
        }
      ]
    },
    {
      "cell_type": "markdown",
      "source": [
        "### Evaluating the Model"
      ],
      "metadata": {
        "id": "iBFx9cbQJCKr"
      }
    },
    {
      "cell_type": "code",
      "source": [
        "# Make predictions on the test data.\n",
        "y_pred = pipeline.predict(X_test)\n",
        "# Display the precision, recall, and F1 score for each class.\n",
        "print(classification_report(y_test, y_pred))"
      ],
      "metadata": {
        "colab": {
          "base_uri": "https://localhost:8080/"
        },
        "id": "fG6VSV_OI_Ya",
        "outputId": "88d7c4b0-a640-421d-89cc-d47f2a06f858"
      },
      "execution_count": 186,
      "outputs": [
        {
          "output_type": "stream",
          "name": "stdout",
          "text": [
            "              precision    recall  f1-score   support\n",
            "\n",
            "           1       0.98      0.99      0.99       461\n",
            "           2       0.98      0.98      0.98       224\n",
            "           3       0.89      0.95      0.92       397\n",
            "           4       0.78      0.64      0.70       211\n",
            "           5       0.93      0.90      0.91       237\n",
            "           7       0.87      0.90      0.88       470\n",
            "\n",
            "    accuracy                           0.91      2000\n",
            "   macro avg       0.91      0.89      0.90      2000\n",
            "weighted avg       0.91      0.91      0.91      2000\n",
            "\n"
          ]
        }
      ]
    },
    {
      "cell_type": "code",
      "source": [
        "# Display a heat map of the confusion matrix,\n",
        "cm = confusion_matrix(y_test, y_pred)\n",
        "disp = ConfusionMatrixDisplay(confusion_matrix=cm)\n",
        "fig, ax = plt.subplots(figsize=(10,10))\n",
        "disp.plot(ax=ax, cmap='YlOrRd')\n",
        "plt.show()"
      ],
      "metadata": {
        "colab": {
          "base_uri": "https://localhost:8080/",
          "height": 580
        },
        "id": "THXQSzdRrd8U",
        "outputId": "1b3efbbb-8e95-4578-d640-113904d3517b"
      },
      "execution_count": 187,
      "outputs": [
        {
          "output_type": "display_data",
          "data": {
            "text/plain": [
              "<Figure size 720x720 with 2 Axes>"
            ],
            "image/png": "[encoded data removed]"
          },
          "metadata": {
            "needs_background": "light"
          }
        }
      ]
    },
    {
      "cell_type": "markdown",
      "source": [
        "### Conclusion\n",
        "With an accuracy of 91%, the RandomForestClassifier performed reasonably well on this data set for all classes except class 4, \"damp grey soil.\" This is consistent with the performance results reported on the Landsat Satellite web page (https://archive-beta.ics.uci.edu/ml/datasets/statlog+landsat+satellite) where Random Forest Classfication was the best performing model of all those tested. <br><br>Precision, recall, and F1 scores were good for all classes except class 4. The decreased performance for class 4 is possibly related, at least in part, to the fact that class 4 was represented by the fewest number of intances in the training data. Increasing the number of class 4 instances and/or the advanced technique of minority class oversampling could result in improved performance for this model. <br><br>No predictions were made for class 6 because there were no instances of class 6 in the training data, as noted on the web page for this data. "
      ],
      "metadata": {
        "id": "3lnXErgPJFde"
      }
    },
    {
      "cell_type": "markdown",
      "source": [
        "## Problem 2: Bagging Classifier\n",
        "For this problem we will use the data from Problem 1."
      ],
      "metadata": {
        "id": "cEwDPPtX-C9t"
      }
    },
    {
      "cell_type": "markdown",
      "source": [
        "Install Xgboost"
      ],
      "metadata": {
        "id": "OTHww_2nTCpX"
      }
    },
    {
      "cell_type": "markdown",
      "source": [
        "### Building the Pipeline"
      ],
      "metadata": {
        "id": "fwGIAvl3-Ok-"
      }
    },
    {
      "cell_type": "code",
      "source": [
        "# SVC(kernel=\"rbf\", gamma=20, C=0.001, probability=True, max_iter=10000)\n",
        "# n_estimators=10, max_samples=1, bootstrap=True, n_jobs=-1)\n",
        "pipeline2 = Pipeline([\n",
        "                     ('transform', col_transform),\n",
        "                     ('bag_clf', BaggingClassifier(SVC(kernel=\"rbf\", gamma=5, C=0.001, probability=True, max_iter=10000)))\n",
        "]) \n",
        "pipeline2               "
      ],
      "metadata": {
        "colab": {
          "base_uri": "https://localhost:8080/",
          "height": 233
        },
        "id": "Yv3hHfRZtKAF",
        "outputId": "eb21a2ac-b590-4d8f-f09f-842d62877762"
      },
      "execution_count": 188,
      "outputs": [
        {
          "output_type": "execute_result",
          "data": {
            "text/plain": [
              "Pipeline(steps=[('transform',\n",
              "                 ColumnTransformer(remainder='passthrough',\n",
              "                                   transformers=[('num', MinMaxScaler(),\n",
              "                                                  Index(['top_left_r', 'top_left_g', 'top_left_infra1', 'top_left_infra2',\n",
              "       'top_middle_r', 'top_middle_g', 'top_middle_infra1',\n",
              "       'top_middle_infra2', 'top_right_r', 'top_right_g', 'top_right_infra1',\n",
              "       'top_right_infra2', 'middle_left_r', 'middle_left_g',\n",
              "       'middl...\n",
              "       'middle_right_infra2', 'bottom_left_r', 'bottom_left_g',\n",
              "       'bottom_left_infra1', 'bottom_left_infra2', 'bottom_middle_r',\n",
              "       'bottom_middle_g', 'bottom_middle_infra1', 'bottom_middle_infra2',\n",
              "       'bottom_right_r', 'bottom_right_g', 'bottom_right_infra1',\n",
              "       'bottom_right_infra2'],\n",
              "      dtype='object'))])),\n",
              "                ('bag_clf',\n",
              "                 BaggingClassifier(base_estimator=SVC(C=0.001, gamma=5,\n",
              "                                                      max_iter=10000,\n",
              "                                                      probability=True)))])"
            ],
            "text/html": [
              "<style>#sk-1c6e9af7-6c55-4ab4-a69a-95cd161389f2 {color: black;background-color: white;}#sk-1c6e9af7-6c55-4ab4-a69a-95cd161389f2 pre{padding: 0;}#sk-1c6e9af7-6c55-4ab4-a69a-95cd161389f2 div.sk-toggleable {background-color: white;}#sk-1c6e9af7-6c55-4ab4-a69a-95cd161389f2 label.sk-toggleable__label {cursor: pointer;display: block;width: 100%;margin-bottom: 0;padding: 0.3em;box-sizing: border-box;text-align: center;}#sk-1c6e9af7-6c55-4ab4-a69a-95cd161389f2 label.sk-toggleable__label-arrow:before {content: \"▸\";float: left;margin-right: 0.25em;color: #696969;}#sk-1c6e9af7-6c55-4ab4-a69a-95cd161389f2 label.sk-toggleable__label-arrow:hover:before {color: black;}#sk-1c6e9af7-6c55-4ab4-a69a-95cd161389f2 div.sk-estimator:hover label.sk-toggleable__label-arrow:before {color: black;}#sk-1c6e9af7-6c55-4ab4-a69a-95cd161389f2 div.sk-toggleable__content {max-height: 0;max-width: 0;overflow: hidden;text-align: left;background-color: #f0f8ff;}#sk-1c6e9af7-6c55-4ab4-a69a-95cd161389f2 div.sk-toggleable__content pre {margin: 0.2em;color: black;border-radius: 0.25em;background-color: #f0f8ff;}#sk-1c6e9af7-6c55-4ab4-a69a-95cd161389f2 input.sk-toggleable__control:checked~div.sk-toggleable__content {max-height: 200px;max-width: 100%;overflow: auto;}#sk-1c6e9af7-6c55-4ab4-a69a-95cd161389f2 input.sk-toggleable__control:checked~label.sk-toggleable__label-arrow:before {content: \"▾\";}#sk-1c6e9af7-6c55-4ab4-a69a-95cd161389f2 div.sk-estimator input.sk-toggleable__control:checked~label.sk-toggleable__label {background-color: #d4ebff;}#sk-1c6e9af7-6c55-4ab4-a69a-95cd161389f2 div.sk-label input.sk-toggleable__control:checked~label.sk-toggleable__label {background-color: #d4ebff;}#sk-1c6e9af7-6c55-4ab4-a69a-95cd161389f2 input.sk-hidden--visually {border: 0;clip: rect(1px 1px 1px 1px);clip: rect(1px, 1px, 1px, 1px);height: 1px;margin: -1px;overflow: hidden;padding: 0;position: absolute;width: 1px;}#sk-1c6e9af7-6c55-4ab4-a69a-95cd161389f2 div.sk-estimator {font-family: monospace;background-color: #f0f8ff;border: 1px dotted black;border-radius: 0.25em;box-sizing: border-box;margin-bottom: 0.5em;}#sk-1c6e9af7-6c55-4ab4-a69a-95cd161389f2 div.sk-estimator:hover {background-color: #d4ebff;}#sk-1c6e9af7-6c55-4ab4-a69a-95cd161389f2 div.sk-parallel-item::after {content: \"\";width: 100%;border-bottom: 1px solid gray;flex-grow: 1;}#sk-1c6e9af7-6c55-4ab4-a69a-95cd161389f2 div.sk-label:hover label.sk-toggleable__label {background-color: #d4ebff;}#sk-1c6e9af7-6c55-4ab4-a69a-95cd161389f2 div.sk-serial::before {content: \"\";position: absolute;border-left: 1px solid gray;box-sizing: border-box;top: 2em;bottom: 0;left: 50%;}#sk-1c6e9af7-6c55-4ab4-a69a-95cd161389f2 div.sk-serial {display: flex;flex-direction: column;align-items: center;background-color: white;padding-right: 0.2em;padding-left: 0.2em;}#sk-1c6e9af7-6c55-4ab4-a69a-95cd161389f2 div.sk-item {z-index: 1;}#sk-1c6e9af7-6c55-4ab4-a69a-95cd161389f2 div.sk-parallel {display: flex;align-items: stretch;justify-content: center;background-color: white;}#sk-1c6e9af7-6c55-4ab4-a69a-95cd161389f2 div.sk-parallel::before {content: \"\";position: absolute;border-left: 1px solid gray;box-sizing: border-box;top: 2em;bottom: 0;left: 50%;}#sk-1c6e9af7-6c55-4ab4-a69a-95cd161389f2 div.sk-parallel-item {display: flex;flex-direction: column;position: relative;background-color: white;}#sk-1c6e9af7-6c55-4ab4-a69a-95cd161389f2 div.sk-parallel-item:first-child::after {align-self: flex-end;width: 50%;}#sk-1c6e9af7-6c55-4ab4-a69a-95cd161389f2 div.sk-parallel-item:last-child::after {align-self: flex-start;width: 50%;}#sk-1c6e9af7-6c55-4ab4-a69a-95cd161389f2 div.sk-parallel-item:only-child::after {width: 0;}#sk-1c6e9af7-6c55-4ab4-a69a-95cd161389f2 div.sk-dashed-wrapped {border: 1px dashed gray;margin: 0 0.4em 0.5em 0.4em;box-sizing: border-box;padding-bottom: 0.4em;background-color: white;position: relative;}#sk-1c6e9af7-6c55-4ab4-a69a-95cd161389f2 div.sk-label label {font-family: monospace;font-weight: bold;background-color: white;display: inline-block;line-height: 1.2em;}#sk-1c6e9af7-6c55-4ab4-a69a-95cd161389f2 div.sk-label-container {position: relative;z-index: 2;text-align: center;}#sk-1c6e9af7-6c55-4ab4-a69a-95cd161389f2 div.sk-container {/* jupyter's `normalize.less` sets `[hidden] { display: none; }` but bootstrap.min.css set `[hidden] { display: none !important; }` so we also need the `!important` here to be able to override the default hidden behavior on the sphinx rendered scikit-learn.org. See: https://github.com/scikit-learn/scikit-learn/issues/21755 */display: inline-block !important;position: relative;}#sk-1c6e9af7-6c55-4ab4-a69a-95cd161389f2 div.sk-text-repr-fallback {display: none;}</style><div id=\"sk-1c6e9af7-6c55-4ab4-a69a-95cd161389f2\" class=\"sk-top-container\"><div class=\"sk-text-repr-fallback\"><pre>Pipeline(steps=[(&#x27;transform&#x27;,\n",
              "                 ColumnTransformer(remainder=&#x27;passthrough&#x27;,\n",
              "                                   transformers=[(&#x27;num&#x27;, MinMaxScaler(),\n",
              "                                                  Index([&#x27;top_left_r&#x27;, &#x27;top_left_g&#x27;, &#x27;top_left_infra1&#x27;, &#x27;top_left_infra2&#x27;,\n",
              "       &#x27;top_middle_r&#x27;, &#x27;top_middle_g&#x27;, &#x27;top_middle_infra1&#x27;,\n",
              "       &#x27;top_middle_infra2&#x27;, &#x27;top_right_r&#x27;, &#x27;top_right_g&#x27;, &#x27;top_right_infra1&#x27;,\n",
              "       &#x27;top_right_infra2&#x27;, &#x27;middle_left_r&#x27;, &#x27;middle_left_g&#x27;,\n",
              "       &#x27;middl...\n",
              "       &#x27;middle_right_infra2&#x27;, &#x27;bottom_left_r&#x27;, &#x27;bottom_left_g&#x27;,\n",
              "       &#x27;bottom_left_infra1&#x27;, &#x27;bottom_left_infra2&#x27;, &#x27;bottom_middle_r&#x27;,\n",
              "       &#x27;bottom_middle_g&#x27;, &#x27;bottom_middle_infra1&#x27;, &#x27;bottom_middle_infra2&#x27;,\n",
              "       &#x27;bottom_right_r&#x27;, &#x27;bottom_right_g&#x27;, &#x27;bottom_right_infra1&#x27;,\n",
              "       &#x27;bottom_right_infra2&#x27;],\n",
              "      dtype=&#x27;object&#x27;))])),\n",
              "                (&#x27;bag_clf&#x27;,\n",
              "                 BaggingClassifier(base_estimator=SVC(C=0.001, gamma=5,\n",
              "                                                      max_iter=10000,\n",
              "                                                      probability=True)))])</pre><b>Please rerun this cell to show the HTML repr or trust the notebook.</b></div><div class=\"sk-container\" hidden><div class=\"sk-item sk-dashed-wrapped\"><div class=\"sk-label-container\"><div class=\"sk-label sk-toggleable\"><input class=\"sk-toggleable__control sk-hidden--visually\" id=\"8f5c0b7f-3885-4660-85ee-139dc36af2de\" type=\"checkbox\" ><label for=\"8f5c0b7f-3885-4660-85ee-139dc36af2de\" class=\"sk-toggleable__label sk-toggleable__label-arrow\">Pipeline</label><div class=\"sk-toggleable__content\"><pre>Pipeline(steps=[(&#x27;transform&#x27;,\n",
              "                 ColumnTransformer(remainder=&#x27;passthrough&#x27;,\n",
              "                                   transformers=[(&#x27;num&#x27;, MinMaxScaler(),\n",
              "                                                  Index([&#x27;top_left_r&#x27;, &#x27;top_left_g&#x27;, &#x27;top_left_infra1&#x27;, &#x27;top_left_infra2&#x27;,\n",
              "       &#x27;top_middle_r&#x27;, &#x27;top_middle_g&#x27;, &#x27;top_middle_infra1&#x27;,\n",
              "       &#x27;top_middle_infra2&#x27;, &#x27;top_right_r&#x27;, &#x27;top_right_g&#x27;, &#x27;top_right_infra1&#x27;,\n",
              "       &#x27;top_right_infra2&#x27;, &#x27;middle_left_r&#x27;, &#x27;middle_left_g&#x27;,\n",
              "       &#x27;middl...\n",
              "       &#x27;middle_right_infra2&#x27;, &#x27;bottom_left_r&#x27;, &#x27;bottom_left_g&#x27;,\n",
              "       &#x27;bottom_left_infra1&#x27;, &#x27;bottom_left_infra2&#x27;, &#x27;bottom_middle_r&#x27;,\n",
              "       &#x27;bottom_middle_g&#x27;, &#x27;bottom_middle_infra1&#x27;, &#x27;bottom_middle_infra2&#x27;,\n",
              "       &#x27;bottom_right_r&#x27;, &#x27;bottom_right_g&#x27;, &#x27;bottom_right_infra1&#x27;,\n",
              "       &#x27;bottom_right_infra2&#x27;],\n",
              "      dtype=&#x27;object&#x27;))])),\n",
              "                (&#x27;bag_clf&#x27;,\n",
              "                 BaggingClassifier(base_estimator=SVC(C=0.001, gamma=5,\n",
              "                                                      max_iter=10000,\n",
              "                                                      probability=True)))])</pre></div></div></div><div class=\"sk-serial\"><div class=\"sk-item sk-dashed-wrapped\"><div class=\"sk-label-container\"><div class=\"sk-label sk-toggleable\"><input class=\"sk-toggleable__control sk-hidden--visually\" id=\"9e4f011a-562f-4ef7-92a0-cbdb74f95825\" type=\"checkbox\" ><label for=\"9e4f011a-562f-4ef7-92a0-cbdb74f95825\" class=\"sk-toggleable__label sk-toggleable__label-arrow\">transform: ColumnTransformer</label><div class=\"sk-toggleable__content\"><pre>ColumnTransformer(remainder=&#x27;passthrough&#x27;,\n",
              "                  transformers=[(&#x27;num&#x27;, MinMaxScaler(),\n",
              "                                 Index([&#x27;top_left_r&#x27;, &#x27;top_left_g&#x27;, &#x27;top_left_infra1&#x27;, &#x27;top_left_infra2&#x27;,\n",
              "       &#x27;top_middle_r&#x27;, &#x27;top_middle_g&#x27;, &#x27;top_middle_infra1&#x27;,\n",
              "       &#x27;top_middle_infra2&#x27;, &#x27;top_right_r&#x27;, &#x27;top_right_g&#x27;, &#x27;top_right_infra1&#x27;,\n",
              "       &#x27;top_right_infra2&#x27;, &#x27;middle_left_r&#x27;, &#x27;middle_left_g&#x27;,\n",
              "       &#x27;middle_left_infra1&#x27;, &#x27;middle_left_i...\n",
              "       &#x27;central_pixel_g&#x27;, &#x27;central_pixel_infra1&#x27;, &#x27;central_pixel_infra2&#x27;,\n",
              "       &#x27;middle_right_r&#x27;, &#x27;middle_right_g&#x27;, &#x27;middle_right_infra1&#x27;,\n",
              "       &#x27;middle_right_infra2&#x27;, &#x27;bottom_left_r&#x27;, &#x27;bottom_left_g&#x27;,\n",
              "       &#x27;bottom_left_infra1&#x27;, &#x27;bottom_left_infra2&#x27;, &#x27;bottom_middle_r&#x27;,\n",
              "       &#x27;bottom_middle_g&#x27;, &#x27;bottom_middle_infra1&#x27;, &#x27;bottom_middle_infra2&#x27;,\n",
              "       &#x27;bottom_right_r&#x27;, &#x27;bottom_right_g&#x27;, &#x27;bottom_right_infra1&#x27;,\n",
              "       &#x27;bottom_right_infra2&#x27;],\n",
              "      dtype=&#x27;object&#x27;))])</pre></div></div></div><div class=\"sk-parallel\"><div class=\"sk-parallel-item\"><div class=\"sk-item\"><div class=\"sk-label-container\"><div class=\"sk-label sk-toggleable\"><input class=\"sk-toggleable__control sk-hidden--visually\" id=\"716da521-8317-4748-9065-ad1468c2d31e\" type=\"checkbox\" ><label for=\"716da521-8317-4748-9065-ad1468c2d31e\" class=\"sk-toggleable__label sk-toggleable__label-arrow\">num</label><div class=\"sk-toggleable__content\"><pre>Index([&#x27;top_left_r&#x27;, &#x27;top_left_g&#x27;, &#x27;top_left_infra1&#x27;, &#x27;top_left_infra2&#x27;,\n",
              "       &#x27;top_middle_r&#x27;, &#x27;top_middle_g&#x27;, &#x27;top_middle_infra1&#x27;,\n",
              "       &#x27;top_middle_infra2&#x27;, &#x27;top_right_r&#x27;, &#x27;top_right_g&#x27;, &#x27;top_right_infra1&#x27;,\n",
              "       &#x27;top_right_infra2&#x27;, &#x27;middle_left_r&#x27;, &#x27;middle_left_g&#x27;,\n",
              "       &#x27;middle_left_infra1&#x27;, &#x27;middle_left_infra2&#x27;, &#x27;central_pixel_r&#x27;,\n",
              "       &#x27;central_pixel_g&#x27;, &#x27;central_pixel_infra1&#x27;, &#x27;central_pixel_infra2&#x27;,\n",
              "       &#x27;middle_right_r&#x27;, &#x27;middle_right_g&#x27;, &#x27;middle_right_infra1&#x27;,\n",
              "       &#x27;middle_right_infra2&#x27;, &#x27;bottom_left_r&#x27;, &#x27;bottom_left_g&#x27;,\n",
              "       &#x27;bottom_left_infra1&#x27;, &#x27;bottom_left_infra2&#x27;, &#x27;bottom_middle_r&#x27;,\n",
              "       &#x27;bottom_middle_g&#x27;, &#x27;bottom_middle_infra1&#x27;, &#x27;bottom_middle_infra2&#x27;,\n",
              "       &#x27;bottom_right_r&#x27;, &#x27;bottom_right_g&#x27;, &#x27;bottom_right_infra1&#x27;,\n",
              "       &#x27;bottom_right_infra2&#x27;],\n",
              "      dtype=&#x27;object&#x27;)</pre></div></div></div><div class=\"sk-serial\"><div class=\"sk-item\"><div class=\"sk-estimator sk-toggleable\"><input class=\"sk-toggleable__control sk-hidden--visually\" id=\"413892a1-09e8-427c-93b3-f5ec13c2845b\" type=\"checkbox\" ><label for=\"413892a1-09e8-427c-93b3-f5ec13c2845b\" class=\"sk-toggleable__label sk-toggleable__label-arrow\">MinMaxScaler</label><div class=\"sk-toggleable__content\"><pre>MinMaxScaler()</pre></div></div></div></div></div></div><div class=\"sk-parallel-item\"><div class=\"sk-item\"><div class=\"sk-label-container\"><div class=\"sk-label sk-toggleable\"><input class=\"sk-toggleable__control sk-hidden--visually\" id=\"db3c7cc9-65fa-4081-bf8f-6d842dda24fd\" type=\"checkbox\" ><label for=\"db3c7cc9-65fa-4081-bf8f-6d842dda24fd\" class=\"sk-toggleable__label sk-toggleable__label-arrow\">remainder</label><div class=\"sk-toggleable__content\"><pre>[]</pre></div></div></div><div class=\"sk-serial\"><div class=\"sk-item\"><div class=\"sk-estimator sk-toggleable\"><input class=\"sk-toggleable__control sk-hidden--visually\" id=\"f59e5578-3714-40bc-ba18-4b5aab64202c\" type=\"checkbox\" ><label for=\"f59e5578-3714-40bc-ba18-4b5aab64202c\" class=\"sk-toggleable__label sk-toggleable__label-arrow\">passthrough</label><div class=\"sk-toggleable__content\"><pre>passthrough</pre></div></div></div></div></div></div></div></div><div class=\"sk-item sk-dashed-wrapped\"><div class=\"sk-label-container\"><div class=\"sk-label sk-toggleable\"><input class=\"sk-toggleable__control sk-hidden--visually\" id=\"89a69e2f-a364-4023-939e-ccb8b8db3188\" type=\"checkbox\" ><label for=\"89a69e2f-a364-4023-939e-ccb8b8db3188\" class=\"sk-toggleable__label sk-toggleable__label-arrow\">bag_clf: BaggingClassifier</label><div class=\"sk-toggleable__content\"><pre>BaggingClassifier(base_estimator=SVC(C=0.001, gamma=5, max_iter=10000,\n",
              "                                     probability=True))</pre></div></div></div><div class=\"sk-parallel\"><div class=\"sk-parallel-item\"><div class=\"sk-item\"><div class=\"sk-serial\"><div class=\"sk-item\"><div class=\"sk-estimator sk-toggleable\"><input class=\"sk-toggleable__control sk-hidden--visually\" id=\"49af009d-d0be-4189-ab0e-f09ffafbae17\" type=\"checkbox\" ><label for=\"49af009d-d0be-4189-ab0e-f09ffafbae17\" class=\"sk-toggleable__label sk-toggleable__label-arrow\">SVC</label><div class=\"sk-toggleable__content\"><pre>SVC(C=0.001, gamma=5, max_iter=10000, probability=True)</pre></div></div></div></div></div></div></div></div></div></div></div></div>"
            ]
          },
          "metadata": {},
          "execution_count": 188
        }
      ]
    },
    {
      "cell_type": "markdown",
      "source": [
        "### Executing the Model"
      ],
      "metadata": {
        "id": "ivVjQ7Jm-Ok_"
      }
    },
    {
      "cell_type": "code",
      "source": [
        "pipeline2.fit(X_train, np.ravel(y_train))"
      ],
      "metadata": {
        "colab": {
          "base_uri": "https://localhost:8080/",
          "height": 233
        },
        "id": "9_XGDtX2t5nl",
        "outputId": "30c6eda8-c6c6-44e8-95e9-7d9208d76b92"
      },
      "execution_count": 189,
      "outputs": [
        {
          "output_type": "execute_result",
          "data": {
            "text/plain": [
              "Pipeline(steps=[('transform',\n",
              "                 ColumnTransformer(remainder='passthrough',\n",
              "                                   transformers=[('num', MinMaxScaler(),\n",
              "                                                  Index(['top_left_r', 'top_left_g', 'top_left_infra1', 'top_left_infra2',\n",
              "       'top_middle_r', 'top_middle_g', 'top_middle_infra1',\n",
              "       'top_middle_infra2', 'top_right_r', 'top_right_g', 'top_right_infra1',\n",
              "       'top_right_infra2', 'middle_left_r', 'middle_left_g',\n",
              "       'middl...\n",
              "       'middle_right_infra2', 'bottom_left_r', 'bottom_left_g',\n",
              "       'bottom_left_infra1', 'bottom_left_infra2', 'bottom_middle_r',\n",
              "       'bottom_middle_g', 'bottom_middle_infra1', 'bottom_middle_infra2',\n",
              "       'bottom_right_r', 'bottom_right_g', 'bottom_right_infra1',\n",
              "       'bottom_right_infra2'],\n",
              "      dtype='object'))])),\n",
              "                ('bag_clf',\n",
              "                 BaggingClassifier(base_estimator=SVC(C=0.001, gamma=5,\n",
              "                                                      max_iter=10000,\n",
              "                                                      probability=True)))])"
            ],
            "text/html": [
              "<style>#sk-d6418a34-c78d-4874-9a82-effdd14d442f {color: black;background-color: white;}#sk-d6418a34-c78d-4874-9a82-effdd14d442f pre{padding: 0;}#sk-d6418a34-c78d-4874-9a82-effdd14d442f div.sk-toggleable {background-color: white;}#sk-d6418a34-c78d-4874-9a82-effdd14d442f label.sk-toggleable__label {cursor: pointer;display: block;width: 100%;margin-bottom: 0;padding: 0.3em;box-sizing: border-box;text-align: center;}#sk-d6418a34-c78d-4874-9a82-effdd14d442f label.sk-toggleable__label-arrow:before {content: \"▸\";float: left;margin-right: 0.25em;color: #696969;}#sk-d6418a34-c78d-4874-9a82-effdd14d442f label.sk-toggleable__label-arrow:hover:before {color: black;}#sk-d6418a34-c78d-4874-9a82-effdd14d442f div.sk-estimator:hover label.sk-toggleable__label-arrow:before {color: black;}#sk-d6418a34-c78d-4874-9a82-effdd14d442f div.sk-toggleable__content {max-height: 0;max-width: 0;overflow: hidden;text-align: left;background-color: #f0f8ff;}#sk-d6418a34-c78d-4874-9a82-effdd14d442f div.sk-toggleable__content pre {margin: 0.2em;color: black;border-radius: 0.25em;background-color: #f0f8ff;}#sk-d6418a34-c78d-4874-9a82-effdd14d442f input.sk-toggleable__control:checked~div.sk-toggleable__content {max-height: 200px;max-width: 100%;overflow: auto;}#sk-d6418a34-c78d-4874-9a82-effdd14d442f input.sk-toggleable__control:checked~label.sk-toggleable__label-arrow:before {content: \"▾\";}#sk-d6418a34-c78d-4874-9a82-effdd14d442f div.sk-estimator input.sk-toggleable__control:checked~label.sk-toggleable__label {background-color: #d4ebff;}#sk-d6418a34-c78d-4874-9a82-effdd14d442f div.sk-label input.sk-toggleable__control:checked~label.sk-toggleable__label {background-color: #d4ebff;}#sk-d6418a34-c78d-4874-9a82-effdd14d442f input.sk-hidden--visually {border: 0;clip: rect(1px 1px 1px 1px);clip: rect(1px, 1px, 1px, 1px);height: 1px;margin: -1px;overflow: hidden;padding: 0;position: absolute;width: 1px;}#sk-d6418a34-c78d-4874-9a82-effdd14d442f div.sk-estimator {font-family: monospace;background-color: #f0f8ff;border: 1px dotted black;border-radius: 0.25em;box-sizing: border-box;margin-bottom: 0.5em;}#sk-d6418a34-c78d-4874-9a82-effdd14d442f div.sk-estimator:hover {background-color: #d4ebff;}#sk-d6418a34-c78d-4874-9a82-effdd14d442f div.sk-parallel-item::after {content: \"\";width: 100%;border-bottom: 1px solid gray;flex-grow: 1;}#sk-d6418a34-c78d-4874-9a82-effdd14d442f div.sk-label:hover label.sk-toggleable__label {background-color: #d4ebff;}#sk-d6418a34-c78d-4874-9a82-effdd14d442f div.sk-serial::before {content: \"\";position: absolute;border-left: 1px solid gray;box-sizing: border-box;top: 2em;bottom: 0;left: 50%;}#sk-d6418a34-c78d-4874-9a82-effdd14d442f div.sk-serial {display: flex;flex-direction: column;align-items: center;background-color: white;padding-right: 0.2em;padding-left: 0.2em;}#sk-d6418a34-c78d-4874-9a82-effdd14d442f div.sk-item {z-index: 1;}#sk-d6418a34-c78d-4874-9a82-effdd14d442f div.sk-parallel {display: flex;align-items: stretch;justify-content: center;background-color: white;}#sk-d6418a34-c78d-4874-9a82-effdd14d442f div.sk-parallel::before {content: \"\";position: absolute;border-left: 1px solid gray;box-sizing: border-box;top: 2em;bottom: 0;left: 50%;}#sk-d6418a34-c78d-4874-9a82-effdd14d442f div.sk-parallel-item {display: flex;flex-direction: column;position: relative;background-color: white;}#sk-d6418a34-c78d-4874-9a82-effdd14d442f div.sk-parallel-item:first-child::after {align-self: flex-end;width: 50%;}#sk-d6418a34-c78d-4874-9a82-effdd14d442f div.sk-parallel-item:last-child::after {align-self: flex-start;width: 50%;}#sk-d6418a34-c78d-4874-9a82-effdd14d442f div.sk-parallel-item:only-child::after {width: 0;}#sk-d6418a34-c78d-4874-9a82-effdd14d442f div.sk-dashed-wrapped {border: 1px dashed gray;margin: 0 0.4em 0.5em 0.4em;box-sizing: border-box;padding-bottom: 0.4em;background-color: white;position: relative;}#sk-d6418a34-c78d-4874-9a82-effdd14d442f div.sk-label label {font-family: monospace;font-weight: bold;background-color: white;display: inline-block;line-height: 1.2em;}#sk-d6418a34-c78d-4874-9a82-effdd14d442f div.sk-label-container {position: relative;z-index: 2;text-align: center;}#sk-d6418a34-c78d-4874-9a82-effdd14d442f div.sk-container {/* jupyter's `normalize.less` sets `[hidden] { display: none; }` but bootstrap.min.css set `[hidden] { display: none !important; }` so we also need the `!important` here to be able to override the default hidden behavior on the sphinx rendered scikit-learn.org. See: https://github.com/scikit-learn/scikit-learn/issues/21755 */display: inline-block !important;position: relative;}#sk-d6418a34-c78d-4874-9a82-effdd14d442f div.sk-text-repr-fallback {display: none;}</style><div id=\"sk-d6418a34-c78d-4874-9a82-effdd14d442f\" class=\"sk-top-container\"><div class=\"sk-text-repr-fallback\"><pre>Pipeline(steps=[(&#x27;transform&#x27;,\n",
              "                 ColumnTransformer(remainder=&#x27;passthrough&#x27;,\n",
              "                                   transformers=[(&#x27;num&#x27;, MinMaxScaler(),\n",
              "                                                  Index([&#x27;top_left_r&#x27;, &#x27;top_left_g&#x27;, &#x27;top_left_infra1&#x27;, &#x27;top_left_infra2&#x27;,\n",
              "       &#x27;top_middle_r&#x27;, &#x27;top_middle_g&#x27;, &#x27;top_middle_infra1&#x27;,\n",
              "       &#x27;top_middle_infra2&#x27;, &#x27;top_right_r&#x27;, &#x27;top_right_g&#x27;, &#x27;top_right_infra1&#x27;,\n",
              "       &#x27;top_right_infra2&#x27;, &#x27;middle_left_r&#x27;, &#x27;middle_left_g&#x27;,\n",
              "       &#x27;middl...\n",
              "       &#x27;middle_right_infra2&#x27;, &#x27;bottom_left_r&#x27;, &#x27;bottom_left_g&#x27;,\n",
              "       &#x27;bottom_left_infra1&#x27;, &#x27;bottom_left_infra2&#x27;, &#x27;bottom_middle_r&#x27;,\n",
              "       &#x27;bottom_middle_g&#x27;, &#x27;bottom_middle_infra1&#x27;, &#x27;bottom_middle_infra2&#x27;,\n",
              "       &#x27;bottom_right_r&#x27;, &#x27;bottom_right_g&#x27;, &#x27;bottom_right_infra1&#x27;,\n",
              "       &#x27;bottom_right_infra2&#x27;],\n",
              "      dtype=&#x27;object&#x27;))])),\n",
              "                (&#x27;bag_clf&#x27;,\n",
              "                 BaggingClassifier(base_estimator=SVC(C=0.001, gamma=5,\n",
              "                                                      max_iter=10000,\n",
              "                                                      probability=True)))])</pre><b>Please rerun this cell to show the HTML repr or trust the notebook.</b></div><div class=\"sk-container\" hidden><div class=\"sk-item sk-dashed-wrapped\"><div class=\"sk-label-container\"><div class=\"sk-label sk-toggleable\"><input class=\"sk-toggleable__control sk-hidden--visually\" id=\"550278b4-7184-4a1c-a7d9-218a1a3bec34\" type=\"checkbox\" ><label for=\"550278b4-7184-4a1c-a7d9-218a1a3bec34\" class=\"sk-toggleable__label sk-toggleable__label-arrow\">Pipeline</label><div class=\"sk-toggleable__content\"><pre>Pipeline(steps=[(&#x27;transform&#x27;,\n",
              "                 ColumnTransformer(remainder=&#x27;passthrough&#x27;,\n",
              "                                   transformers=[(&#x27;num&#x27;, MinMaxScaler(),\n",
              "                                                  Index([&#x27;top_left_r&#x27;, &#x27;top_left_g&#x27;, &#x27;top_left_infra1&#x27;, &#x27;top_left_infra2&#x27;,\n",
              "       &#x27;top_middle_r&#x27;, &#x27;top_middle_g&#x27;, &#x27;top_middle_infra1&#x27;,\n",
              "       &#x27;top_middle_infra2&#x27;, &#x27;top_right_r&#x27;, &#x27;top_right_g&#x27;, &#x27;top_right_infra1&#x27;,\n",
              "       &#x27;top_right_infra2&#x27;, &#x27;middle_left_r&#x27;, &#x27;middle_left_g&#x27;,\n",
              "       &#x27;middl...\n",
              "       &#x27;middle_right_infra2&#x27;, &#x27;bottom_left_r&#x27;, &#x27;bottom_left_g&#x27;,\n",
              "       &#x27;bottom_left_infra1&#x27;, &#x27;bottom_left_infra2&#x27;, &#x27;bottom_middle_r&#x27;,\n",
              "       &#x27;bottom_middle_g&#x27;, &#x27;bottom_middle_infra1&#x27;, &#x27;bottom_middle_infra2&#x27;,\n",
              "       &#x27;bottom_right_r&#x27;, &#x27;bottom_right_g&#x27;, &#x27;bottom_right_infra1&#x27;,\n",
              "       &#x27;bottom_right_infra2&#x27;],\n",
              "      dtype=&#x27;object&#x27;))])),\n",
              "                (&#x27;bag_clf&#x27;,\n",
              "                 BaggingClassifier(base_estimator=SVC(C=0.001, gamma=5,\n",
              "                                                      max_iter=10000,\n",
              "                                                      probability=True)))])</pre></div></div></div><div class=\"sk-serial\"><div class=\"sk-item sk-dashed-wrapped\"><div class=\"sk-label-container\"><div class=\"sk-label sk-toggleable\"><input class=\"sk-toggleable__control sk-hidden--visually\" id=\"8b62b986-edeb-4fa3-a3ec-ed3285fa0395\" type=\"checkbox\" ><label for=\"8b62b986-edeb-4fa3-a3ec-ed3285fa0395\" class=\"sk-toggleable__label sk-toggleable__label-arrow\">transform: ColumnTransformer</label><div class=\"sk-toggleable__content\"><pre>ColumnTransformer(remainder=&#x27;passthrough&#x27;,\n",
              "                  transformers=[(&#x27;num&#x27;, MinMaxScaler(),\n",
              "                                 Index([&#x27;top_left_r&#x27;, &#x27;top_left_g&#x27;, &#x27;top_left_infra1&#x27;, &#x27;top_left_infra2&#x27;,\n",
              "       &#x27;top_middle_r&#x27;, &#x27;top_middle_g&#x27;, &#x27;top_middle_infra1&#x27;,\n",
              "       &#x27;top_middle_infra2&#x27;, &#x27;top_right_r&#x27;, &#x27;top_right_g&#x27;, &#x27;top_right_infra1&#x27;,\n",
              "       &#x27;top_right_infra2&#x27;, &#x27;middle_left_r&#x27;, &#x27;middle_left_g&#x27;,\n",
              "       &#x27;middle_left_infra1&#x27;, &#x27;middle_left_i...\n",
              "       &#x27;central_pixel_g&#x27;, &#x27;central_pixel_infra1&#x27;, &#x27;central_pixel_infra2&#x27;,\n",
              "       &#x27;middle_right_r&#x27;, &#x27;middle_right_g&#x27;, &#x27;middle_right_infra1&#x27;,\n",
              "       &#x27;middle_right_infra2&#x27;, &#x27;bottom_left_r&#x27;, &#x27;bottom_left_g&#x27;,\n",
              "       &#x27;bottom_left_infra1&#x27;, &#x27;bottom_left_infra2&#x27;, &#x27;bottom_middle_r&#x27;,\n",
              "       &#x27;bottom_middle_g&#x27;, &#x27;bottom_middle_infra1&#x27;, &#x27;bottom_middle_infra2&#x27;,\n",
              "       &#x27;bottom_right_r&#x27;, &#x27;bottom_right_g&#x27;, &#x27;bottom_right_infra1&#x27;,\n",
              "       &#x27;bottom_right_infra2&#x27;],\n",
              "      dtype=&#x27;object&#x27;))])</pre></div></div></div><div class=\"sk-parallel\"><div class=\"sk-parallel-item\"><div class=\"sk-item\"><div class=\"sk-label-container\"><div class=\"sk-label sk-toggleable\"><input class=\"sk-toggleable__control sk-hidden--visually\" id=\"8cd44334-7114-4fc8-8ec1-c22e8709082d\" type=\"checkbox\" ><label for=\"8cd44334-7114-4fc8-8ec1-c22e8709082d\" class=\"sk-toggleable__label sk-toggleable__label-arrow\">num</label><div class=\"sk-toggleable__content\"><pre>Index([&#x27;top_left_r&#x27;, &#x27;top_left_g&#x27;, &#x27;top_left_infra1&#x27;, &#x27;top_left_infra2&#x27;,\n",
              "       &#x27;top_middle_r&#x27;, &#x27;top_middle_g&#x27;, &#x27;top_middle_infra1&#x27;,\n",
              "       &#x27;top_middle_infra2&#x27;, &#x27;top_right_r&#x27;, &#x27;top_right_g&#x27;, &#x27;top_right_infra1&#x27;,\n",
              "       &#x27;top_right_infra2&#x27;, &#x27;middle_left_r&#x27;, &#x27;middle_left_g&#x27;,\n",
              "       &#x27;middle_left_infra1&#x27;, &#x27;middle_left_infra2&#x27;, &#x27;central_pixel_r&#x27;,\n",
              "       &#x27;central_pixel_g&#x27;, &#x27;central_pixel_infra1&#x27;, &#x27;central_pixel_infra2&#x27;,\n",
              "       &#x27;middle_right_r&#x27;, &#x27;middle_right_g&#x27;, &#x27;middle_right_infra1&#x27;,\n",
              "       &#x27;middle_right_infra2&#x27;, &#x27;bottom_left_r&#x27;, &#x27;bottom_left_g&#x27;,\n",
              "       &#x27;bottom_left_infra1&#x27;, &#x27;bottom_left_infra2&#x27;, &#x27;bottom_middle_r&#x27;,\n",
              "       &#x27;bottom_middle_g&#x27;, &#x27;bottom_middle_infra1&#x27;, &#x27;bottom_middle_infra2&#x27;,\n",
              "       &#x27;bottom_right_r&#x27;, &#x27;bottom_right_g&#x27;, &#x27;bottom_right_infra1&#x27;,\n",
              "       &#x27;bottom_right_infra2&#x27;],\n",
              "      dtype=&#x27;object&#x27;)</pre></div></div></div><div class=\"sk-serial\"><div class=\"sk-item\"><div class=\"sk-estimator sk-toggleable\"><input class=\"sk-toggleable__control sk-hidden--visually\" id=\"78f5ff7c-f857-43ff-bc3d-ff397a625f81\" type=\"checkbox\" ><label for=\"78f5ff7c-f857-43ff-bc3d-ff397a625f81\" class=\"sk-toggleable__label sk-toggleable__label-arrow\">MinMaxScaler</label><div class=\"sk-toggleable__content\"><pre>MinMaxScaler()</pre></div></div></div></div></div></div><div class=\"sk-parallel-item\"><div class=\"sk-item\"><div class=\"sk-label-container\"><div class=\"sk-label sk-toggleable\"><input class=\"sk-toggleable__control sk-hidden--visually\" id=\"18ee0539-52a4-44d8-9d1f-6d1b2a17d774\" type=\"checkbox\" ><label for=\"18ee0539-52a4-44d8-9d1f-6d1b2a17d774\" class=\"sk-toggleable__label sk-toggleable__label-arrow\">remainder</label><div class=\"sk-toggleable__content\"><pre>[]</pre></div></div></div><div class=\"sk-serial\"><div class=\"sk-item\"><div class=\"sk-estimator sk-toggleable\"><input class=\"sk-toggleable__control sk-hidden--visually\" id=\"232937c4-f9ab-4af9-ac41-0761fc1a9249\" type=\"checkbox\" ><label for=\"232937c4-f9ab-4af9-ac41-0761fc1a9249\" class=\"sk-toggleable__label sk-toggleable__label-arrow\">passthrough</label><div class=\"sk-toggleable__content\"><pre>passthrough</pre></div></div></div></div></div></div></div></div><div class=\"sk-item sk-dashed-wrapped\"><div class=\"sk-label-container\"><div class=\"sk-label sk-toggleable\"><input class=\"sk-toggleable__control sk-hidden--visually\" id=\"fca55230-f550-4c8a-b6ca-a383f4351432\" type=\"checkbox\" ><label for=\"fca55230-f550-4c8a-b6ca-a383f4351432\" class=\"sk-toggleable__label sk-toggleable__label-arrow\">bag_clf: BaggingClassifier</label><div class=\"sk-toggleable__content\"><pre>BaggingClassifier(base_estimator=SVC(C=0.001, gamma=5, max_iter=10000,\n",
              "                                     probability=True))</pre></div></div></div><div class=\"sk-parallel\"><div class=\"sk-parallel-item\"><div class=\"sk-item\"><div class=\"sk-serial\"><div class=\"sk-item\"><div class=\"sk-estimator sk-toggleable\"><input class=\"sk-toggleable__control sk-hidden--visually\" id=\"77ed1cc5-f2d3-418a-98ff-508866773abf\" type=\"checkbox\" ><label for=\"77ed1cc5-f2d3-418a-98ff-508866773abf\" class=\"sk-toggleable__label sk-toggleable__label-arrow\">SVC</label><div class=\"sk-toggleable__content\"><pre>SVC(C=0.001, gamma=5, max_iter=10000, probability=True)</pre></div></div></div></div></div></div></div></div></div></div></div></div>"
            ]
          },
          "metadata": {},
          "execution_count": 189
        }
      ]
    },
    {
      "cell_type": "markdown",
      "source": [
        "### Evaluating Model"
      ],
      "metadata": {
        "id": "SMLuruS6-OlA"
      }
    },
    {
      "cell_type": "code",
      "source": [
        "# Make predictions on the test data.\n",
        "y_pred2 = pipeline2.predict(X_test)\n",
        "# Display the precision, recall, and F1 score for each class.\n",
        "print(classification_report(y_test, y_pred2))"
      ],
      "metadata": {
        "colab": {
          "base_uri": "https://localhost:8080/"
        },
        "id": "jzC2o4fUuFxE",
        "outputId": "6523b8de-d456-4231-f1fc-2ad14c5023b4"
      },
      "execution_count": 190,
      "outputs": [
        {
          "output_type": "stream",
          "name": "stdout",
          "text": [
            "              precision    recall  f1-score   support\n",
            "\n",
            "           1       0.97      0.95      0.96       461\n",
            "           2       0.95      0.97      0.96       224\n",
            "           3       0.89      0.90      0.89       397\n",
            "           4       0.59      0.62      0.60       211\n",
            "           5       0.75      0.84      0.79       237\n",
            "           7       0.86      0.79      0.82       470\n",
            "\n",
            "    accuracy                           0.86      2000\n",
            "   macro avg       0.83      0.84      0.84      2000\n",
            "weighted avg       0.86      0.86      0.86      2000\n",
            "\n"
          ]
        }
      ]
    },
    {
      "cell_type": "code",
      "source": [
        "# Display a heat map of the confusion matrix,\n",
        "cm = confusion_matrix(y_test, y_pred2)\n",
        "disp = ConfusionMatrixDisplay(confusion_matrix=cm)\n",
        "fig, ax = plt.subplots(figsize=(10,10))\n",
        "disp.plot(ax=ax, cmap='YlOrRd')\n",
        "plt.show()"
      ],
      "metadata": {
        "colab": {
          "base_uri": "https://localhost:8080/",
          "height": 580
        },
        "id": "A2sJVps_JA1Q",
        "outputId": "6c4cd3d3-c042-420e-df00-de5f51da6c6b"
      },
      "execution_count": 191,
      "outputs": [
        {
          "output_type": "display_data",
          "data": {
            "text/plain": [
              "<Figure size 720x720 with 2 Axes>"
            ],
            "image/png": "[encoded data removed]"
          },
          "metadata": {
            "needs_background": "light"
          }
        }
      ]
    },
    {
      "cell_type": "markdown",
      "source": [
        "### Conclusion\n",
        "For this problem, a model was developed from a bagging classifier using a support vector machine as the training algorithm. An rbf kernel was used for the SVC and the probability hyperparameter was set to True to provide the needed probabilities to the bagging classifier. The default parameters were used for the bagging classifier as no manually set parameters could be found that improved performance over that seen with the delfaults.<br><br>This model's performance was significantly less than that seen with the random forest model. Accuracy decreased from 91% to 85% and this model did not predict well for a number of classes. Like the random forest classifier, this model predicted least well for class 4 and again, this is likely secondary in part to the smaller number of class 4 training instances. This model also showed decreased performance for classes 5 and 7 but not to the degree seen with class 4."
      ],
      "metadata": {
        "id": "TaNdOL7rk8q8"
      }
    },
    {
      "cell_type": "markdown",
      "source": [
        "## Problem 3: Random Forest Classifier"
      ],
      "metadata": {
        "id": "DKnX7qIXb43p"
      }
    },
    {
      "cell_type": "markdown",
      "source": [
        "### Reading the Data"
      ],
      "metadata": {
        "id": "3B9ypyE0b43q"
      }
    },
    {
      "cell_type": "code",
      "source": [
        "df = pd.read_csv('/content/gdrive/MyDrive/1CS430/banknote_authentication.csv')"
      ],
      "metadata": {
        "id": "ddZ_MlEjb43q"
      },
      "execution_count": 192,
      "outputs": []
    },
    {
      "cell_type": "markdown",
      "source": [
        "### Splitting the Data"
      ],
      "metadata": {
        "id": "7XTV9Lb6b43r"
      }
    },
    {
      "cell_type": "code",
      "source": [
        "X = df.drop(['forgery'], axis=1)\n",
        "y = df['forgery']\n",
        "#Split the data into Train/Test sets.\n",
        "X_train, X_test, y_train, y_test = train_test_split(X, y, test_size=.2, random_state=0)"
      ],
      "metadata": {
        "id": "RoTfK8sdb43r"
      },
      "execution_count": 193,
      "outputs": []
    },
    {
      "cell_type": "markdown",
      "source": [
        "### Building the Pipeline"
      ],
      "metadata": {
        "id": "WDSrxCbPb43r"
      }
    },
    {
      "cell_type": "code",
      "source": [
        "num_attribs = ['variance', 'skewness', 'curtosis', 'entropy']\n",
        "col_transform = ColumnTransformer(transformers=[\n",
        "                 ('num', MinMaxScaler(), num_attribs)],\n",
        "                 remainder='passthrough')\n",
        "pipeline3 = Pipeline([\n",
        "                     ('transform', col_transform),\n",
        "                     ('rf', RandomForestClassifier(n_estimators=500, max_leaf_nodes=16, n_jobs=-1))\n",
        "\n",
        "]) \n",
        "pipeline3"
      ],
      "metadata": {
        "colab": {
          "base_uri": "https://localhost:8080/",
          "height": 192
        },
        "id": "EdNIOznIb43r",
        "outputId": "0efbde47-bba2-408a-ad1f-75e039232f31"
      },
      "execution_count": 194,
      "outputs": [
        {
          "output_type": "execute_result",
          "data": {
            "text/plain": [
              "Pipeline(steps=[('transform',\n",
              "                 ColumnTransformer(remainder='passthrough',\n",
              "                                   transformers=[('num', MinMaxScaler(),\n",
              "                                                  ['variance', 'skewness',\n",
              "                                                   'curtosis', 'entropy'])])),\n",
              "                ('rf',\n",
              "                 RandomForestClassifier(max_leaf_nodes=16, n_estimators=500,\n",
              "                                        n_jobs=-1))])"
            ],
            "text/html": [
              "<style>#sk-ab0490fc-5e00-4be3-9643-9dbcf6d47bca {color: black;background-color: white;}#sk-ab0490fc-5e00-4be3-9643-9dbcf6d47bca pre{padding: 0;}#sk-ab0490fc-5e00-4be3-9643-9dbcf6d47bca div.sk-toggleable {background-color: white;}#sk-ab0490fc-5e00-4be3-9643-9dbcf6d47bca label.sk-toggleable__label {cursor: pointer;display: block;width: 100%;margin-bottom: 0;padding: 0.3em;box-sizing: border-box;text-align: center;}#sk-ab0490fc-5e00-4be3-9643-9dbcf6d47bca label.sk-toggleable__label-arrow:before {content: \"▸\";float: left;margin-right: 0.25em;color: #696969;}#sk-ab0490fc-5e00-4be3-9643-9dbcf6d47bca label.sk-toggleable__label-arrow:hover:before {color: black;}#sk-ab0490fc-5e00-4be3-9643-9dbcf6d47bca div.sk-estimator:hover label.sk-toggleable__label-arrow:before {color: black;}#sk-ab0490fc-5e00-4be3-9643-9dbcf6d47bca div.sk-toggleable__content {max-height: 0;max-width: 0;overflow: hidden;text-align: left;background-color: #f0f8ff;}#sk-ab0490fc-5e00-4be3-9643-9dbcf6d47bca div.sk-toggleable__content pre {margin: 0.2em;color: black;border-radius: 0.25em;background-color: #f0f8ff;}#sk-ab0490fc-5e00-4be3-9643-9dbcf6d47bca input.sk-toggleable__control:checked~div.sk-toggleable__content {max-height: 200px;max-width: 100%;overflow: auto;}#sk-ab0490fc-5e00-4be3-9643-9dbcf6d47bca input.sk-toggleable__control:checked~label.sk-toggleable__label-arrow:before {content: \"▾\";}#sk-ab0490fc-5e00-4be3-9643-9dbcf6d47bca div.sk-estimator input.sk-toggleable__control:checked~label.sk-toggleable__label {background-color: #d4ebff;}#sk-ab0490fc-5e00-4be3-9643-9dbcf6d47bca div.sk-label input.sk-toggleable__control:checked~label.sk-toggleable__label {background-color: #d4ebff;}#sk-ab0490fc-5e00-4be3-9643-9dbcf6d47bca input.sk-hidden--visually {border: 0;clip: rect(1px 1px 1px 1px);clip: rect(1px, 1px, 1px, 1px);height: 1px;margin: -1px;overflow: hidden;padding: 0;position: absolute;width: 1px;}#sk-ab0490fc-5e00-4be3-9643-9dbcf6d47bca div.sk-estimator {font-family: monospace;background-color: #f0f8ff;border: 1px dotted black;border-radius: 0.25em;box-sizing: border-box;margin-bottom: 0.5em;}#sk-ab0490fc-5e00-4be3-9643-9dbcf6d47bca div.sk-estimator:hover {background-color: #d4ebff;}#sk-ab0490fc-5e00-4be3-9643-9dbcf6d47bca div.sk-parallel-item::after {content: \"\";width: 100%;border-bottom: 1px solid gray;flex-grow: 1;}#sk-ab0490fc-5e00-4be3-9643-9dbcf6d47bca div.sk-label:hover label.sk-toggleable__label {background-color: #d4ebff;}#sk-ab0490fc-5e00-4be3-9643-9dbcf6d47bca div.sk-serial::before {content: \"\";position: absolute;border-left: 1px solid gray;box-sizing: border-box;top: 2em;bottom: 0;left: 50%;}#sk-ab0490fc-5e00-4be3-9643-9dbcf6d47bca div.sk-serial {display: flex;flex-direction: column;align-items: center;background-color: white;padding-right: 0.2em;padding-left: 0.2em;}#sk-ab0490fc-5e00-4be3-9643-9dbcf6d47bca div.sk-item {z-index: 1;}#sk-ab0490fc-5e00-4be3-9643-9dbcf6d47bca div.sk-parallel {display: flex;align-items: stretch;justify-content: center;background-color: white;}#sk-ab0490fc-5e00-4be3-9643-9dbcf6d47bca div.sk-parallel::before {content: \"\";position: absolute;border-left: 1px solid gray;box-sizing: border-box;top: 2em;bottom: 0;left: 50%;}#sk-ab0490fc-5e00-4be3-9643-9dbcf6d47bca div.sk-parallel-item {display: flex;flex-direction: column;position: relative;background-color: white;}#sk-ab0490fc-5e00-4be3-9643-9dbcf6d47bca div.sk-parallel-item:first-child::after {align-self: flex-end;width: 50%;}#sk-ab0490fc-5e00-4be3-9643-9dbcf6d47bca div.sk-parallel-item:last-child::after {align-self: flex-start;width: 50%;}#sk-ab0490fc-5e00-4be3-9643-9dbcf6d47bca div.sk-parallel-item:only-child::after {width: 0;}#sk-ab0490fc-5e00-4be3-9643-9dbcf6d47bca div.sk-dashed-wrapped {border: 1px dashed gray;margin: 0 0.4em 0.5em 0.4em;box-sizing: border-box;padding-bottom: 0.4em;background-color: white;position: relative;}#sk-ab0490fc-5e00-4be3-9643-9dbcf6d47bca div.sk-label label {font-family: monospace;font-weight: bold;background-color: white;display: inline-block;line-height: 1.2em;}#sk-ab0490fc-5e00-4be3-9643-9dbcf6d47bca div.sk-label-container {position: relative;z-index: 2;text-align: center;}#sk-ab0490fc-5e00-4be3-9643-9dbcf6d47bca div.sk-container {/* jupyter's `normalize.less` sets `[hidden] { display: none; }` but bootstrap.min.css set `[hidden] { display: none !important; }` so we also need the `!important` here to be able to override the default hidden behavior on the sphinx rendered scikit-learn.org. See: https://github.com/scikit-learn/scikit-learn/issues/21755 */display: inline-block !important;position: relative;}#sk-ab0490fc-5e00-4be3-9643-9dbcf6d47bca div.sk-text-repr-fallback {display: none;}</style><div id=\"sk-ab0490fc-5e00-4be3-9643-9dbcf6d47bca\" class=\"sk-top-container\"><div class=\"sk-text-repr-fallback\"><pre>Pipeline(steps=[(&#x27;transform&#x27;,\n",
              "                 ColumnTransformer(remainder=&#x27;passthrough&#x27;,\n",
              "                                   transformers=[(&#x27;num&#x27;, MinMaxScaler(),\n",
              "                                                  [&#x27;variance&#x27;, &#x27;skewness&#x27;,\n",
              "                                                   &#x27;curtosis&#x27;, &#x27;entropy&#x27;])])),\n",
              "                (&#x27;rf&#x27;,\n",
              "                 RandomForestClassifier(max_leaf_nodes=16, n_estimators=500,\n",
              "                                        n_jobs=-1))])</pre><b>Please rerun this cell to show the HTML repr or trust the notebook.</b></div><div class=\"sk-container\" hidden><div class=\"sk-item sk-dashed-wrapped\"><div class=\"sk-label-container\"><div class=\"sk-label sk-toggleable\"><input class=\"sk-toggleable__control sk-hidden--visually\" id=\"7c1f273c-ed3c-4b63-a262-cd75e05060d5\" type=\"checkbox\" ><label for=\"7c1f273c-ed3c-4b63-a262-cd75e05060d5\" class=\"sk-toggleable__label sk-toggleable__label-arrow\">Pipeline</label><div class=\"sk-toggleable__content\"><pre>Pipeline(steps=[(&#x27;transform&#x27;,\n",
              "                 ColumnTransformer(remainder=&#x27;passthrough&#x27;,\n",
              "                                   transformers=[(&#x27;num&#x27;, MinMaxScaler(),\n",
              "                                                  [&#x27;variance&#x27;, &#x27;skewness&#x27;,\n",
              "                                                   &#x27;curtosis&#x27;, &#x27;entropy&#x27;])])),\n",
              "                (&#x27;rf&#x27;,\n",
              "                 RandomForestClassifier(max_leaf_nodes=16, n_estimators=500,\n",
              "                                        n_jobs=-1))])</pre></div></div></div><div class=\"sk-serial\"><div class=\"sk-item sk-dashed-wrapped\"><div class=\"sk-label-container\"><div class=\"sk-label sk-toggleable\"><input class=\"sk-toggleable__control sk-hidden--visually\" id=\"365892c5-e594-42aa-a7ff-5cb28b01cad4\" type=\"checkbox\" ><label for=\"365892c5-e594-42aa-a7ff-5cb28b01cad4\" class=\"sk-toggleable__label sk-toggleable__label-arrow\">transform: ColumnTransformer</label><div class=\"sk-toggleable__content\"><pre>ColumnTransformer(remainder=&#x27;passthrough&#x27;,\n",
              "                  transformers=[(&#x27;num&#x27;, MinMaxScaler(),\n",
              "                                 [&#x27;variance&#x27;, &#x27;skewness&#x27;, &#x27;curtosis&#x27;,\n",
              "                                  &#x27;entropy&#x27;])])</pre></div></div></div><div class=\"sk-parallel\"><div class=\"sk-parallel-item\"><div class=\"sk-item\"><div class=\"sk-label-container\"><div class=\"sk-label sk-toggleable\"><input class=\"sk-toggleable__control sk-hidden--visually\" id=\"fd2b65b5-55dc-40d5-816c-b402d0817a0e\" type=\"checkbox\" ><label for=\"fd2b65b5-55dc-40d5-816c-b402d0817a0e\" class=\"sk-toggleable__label sk-toggleable__label-arrow\">num</label><div class=\"sk-toggleable__content\"><pre>[&#x27;variance&#x27;, &#x27;skewness&#x27;, &#x27;curtosis&#x27;, &#x27;entropy&#x27;]</pre></div></div></div><div class=\"sk-serial\"><div class=\"sk-item\"><div class=\"sk-estimator sk-toggleable\"><input class=\"sk-toggleable__control sk-hidden--visually\" id=\"aa561a51-5776-4ea4-998a-1df413f49e2e\" type=\"checkbox\" ><label for=\"aa561a51-5776-4ea4-998a-1df413f49e2e\" class=\"sk-toggleable__label sk-toggleable__label-arrow\">MinMaxScaler</label><div class=\"sk-toggleable__content\"><pre>MinMaxScaler()</pre></div></div></div></div></div></div><div class=\"sk-parallel-item\"><div class=\"sk-item\"><div class=\"sk-label-container\"><div class=\"sk-label sk-toggleable\"><input class=\"sk-toggleable__control sk-hidden--visually\" id=\"307f8e76-e130-4bba-b2be-95530eed88a2\" type=\"checkbox\" ><label for=\"307f8e76-e130-4bba-b2be-95530eed88a2\" class=\"sk-toggleable__label sk-toggleable__label-arrow\">remainder</label><div class=\"sk-toggleable__content\"><pre></pre></div></div></div><div class=\"sk-serial\"><div class=\"sk-item\"><div class=\"sk-estimator sk-toggleable\"><input class=\"sk-toggleable__control sk-hidden--visually\" id=\"85c180a0-9a7a-4293-b548-be72206288e8\" type=\"checkbox\" ><label for=\"85c180a0-9a7a-4293-b548-be72206288e8\" class=\"sk-toggleable__label sk-toggleable__label-arrow\">passthrough</label><div class=\"sk-toggleable__content\"><pre>passthrough</pre></div></div></div></div></div></div></div></div><div class=\"sk-item\"><div class=\"sk-estimator sk-toggleable\"><input class=\"sk-toggleable__control sk-hidden--visually\" id=\"d9b7ecd5-c6ae-46d3-b1c5-07e770c5d452\" type=\"checkbox\" ><label for=\"d9b7ecd5-c6ae-46d3-b1c5-07e770c5d452\" class=\"sk-toggleable__label sk-toggleable__label-arrow\">RandomForestClassifier</label><div class=\"sk-toggleable__content\"><pre>RandomForestClassifier(max_leaf_nodes=16, n_estimators=500, n_jobs=-1)</pre></div></div></div></div></div></div></div>"
            ]
          },
          "metadata": {},
          "execution_count": 194
        }
      ]
    },
    {
      "cell_type": "markdown",
      "source": [
        "### Executing the Model"
      ],
      "metadata": {
        "id": "ACvcWAhkb43s"
      }
    },
    {
      "cell_type": "code",
      "source": [
        "pipeline3.fit(X_train, np.ravel(y_train))"
      ],
      "metadata": {
        "colab": {
          "base_uri": "https://localhost:8080/",
          "height": 192
        },
        "outputId": "4279e8e4-d2bb-46fc-a2dc-df3604ddc1d0",
        "id": "uzfcuxVlb43s"
      },
      "execution_count": 195,
      "outputs": [
        {
          "output_type": "execute_result",
          "data": {
            "text/plain": [
              "Pipeline(steps=[('transform',\n",
              "                 ColumnTransformer(remainder='passthrough',\n",
              "                                   transformers=[('num', MinMaxScaler(),\n",
              "                                                  ['variance', 'skewness',\n",
              "                                                   'curtosis', 'entropy'])])),\n",
              "                ('rf',\n",
              "                 RandomForestClassifier(max_leaf_nodes=16, n_estimators=500,\n",
              "                                        n_jobs=-1))])"
            ],
            "text/html": [
              "<style>#sk-43468039-9f53-4245-a9eb-cc41b90f1d3a {color: black;background-color: white;}#sk-43468039-9f53-4245-a9eb-cc41b90f1d3a pre{padding: 0;}#sk-43468039-9f53-4245-a9eb-cc41b90f1d3a div.sk-toggleable {background-color: white;}#sk-43468039-9f53-4245-a9eb-cc41b90f1d3a label.sk-toggleable__label {cursor: pointer;display: block;width: 100%;margin-bottom: 0;padding: 0.3em;box-sizing: border-box;text-align: center;}#sk-43468039-9f53-4245-a9eb-cc41b90f1d3a label.sk-toggleable__label-arrow:before {content: \"▸\";float: left;margin-right: 0.25em;color: #696969;}#sk-43468039-9f53-4245-a9eb-cc41b90f1d3a label.sk-toggleable__label-arrow:hover:before {color: black;}#sk-43468039-9f53-4245-a9eb-cc41b90f1d3a div.sk-estimator:hover label.sk-toggleable__label-arrow:before {color: black;}#sk-43468039-9f53-4245-a9eb-cc41b90f1d3a div.sk-toggleable__content {max-height: 0;max-width: 0;overflow: hidden;text-align: left;background-color: #f0f8ff;}#sk-43468039-9f53-4245-a9eb-cc41b90f1d3a div.sk-toggleable__content pre {margin: 0.2em;color: black;border-radius: 0.25em;background-color: #f0f8ff;}#sk-43468039-9f53-4245-a9eb-cc41b90f1d3a input.sk-toggleable__control:checked~div.sk-toggleable__content {max-height: 200px;max-width: 100%;overflow: auto;}#sk-43468039-9f53-4245-a9eb-cc41b90f1d3a input.sk-toggleable__control:checked~label.sk-toggleable__label-arrow:before {content: \"▾\";}#sk-43468039-9f53-4245-a9eb-cc41b90f1d3a div.sk-estimator input.sk-toggleable__control:checked~label.sk-toggleable__label {background-color: #d4ebff;}#sk-43468039-9f53-4245-a9eb-cc41b90f1d3a div.sk-label input.sk-toggleable__control:checked~label.sk-toggleable__label {background-color: #d4ebff;}#sk-43468039-9f53-4245-a9eb-cc41b90f1d3a input.sk-hidden--visually {border: 0;clip: rect(1px 1px 1px 1px);clip: rect(1px, 1px, 1px, 1px);height: 1px;margin: -1px;overflow: hidden;padding: 0;position: absolute;width: 1px;}#sk-43468039-9f53-4245-a9eb-cc41b90f1d3a div.sk-estimator {font-family: monospace;background-color: #f0f8ff;border: 1px dotted black;border-radius: 0.25em;box-sizing: border-box;margin-bottom: 0.5em;}#sk-43468039-9f53-4245-a9eb-cc41b90f1d3a div.sk-estimator:hover {background-color: #d4ebff;}#sk-43468039-9f53-4245-a9eb-cc41b90f1d3a div.sk-parallel-item::after {content: \"\";width: 100%;border-bottom: 1px solid gray;flex-grow: 1;}#sk-43468039-9f53-4245-a9eb-cc41b90f1d3a div.sk-label:hover label.sk-toggleable__label {background-color: #d4ebff;}#sk-43468039-9f53-4245-a9eb-cc41b90f1d3a div.sk-serial::before {content: \"\";position: absolute;border-left: 1px solid gray;box-sizing: border-box;top: 2em;bottom: 0;left: 50%;}#sk-43468039-9f53-4245-a9eb-cc41b90f1d3a div.sk-serial {display: flex;flex-direction: column;align-items: center;background-color: white;padding-right: 0.2em;padding-left: 0.2em;}#sk-43468039-9f53-4245-a9eb-cc41b90f1d3a div.sk-item {z-index: 1;}#sk-43468039-9f53-4245-a9eb-cc41b90f1d3a div.sk-parallel {display: flex;align-items: stretch;justify-content: center;background-color: white;}#sk-43468039-9f53-4245-a9eb-cc41b90f1d3a div.sk-parallel::before {content: \"\";position: absolute;border-left: 1px solid gray;box-sizing: border-box;top: 2em;bottom: 0;left: 50%;}#sk-43468039-9f53-4245-a9eb-cc41b90f1d3a div.sk-parallel-item {display: flex;flex-direction: column;position: relative;background-color: white;}#sk-43468039-9f53-4245-a9eb-cc41b90f1d3a div.sk-parallel-item:first-child::after {align-self: flex-end;width: 50%;}#sk-43468039-9f53-4245-a9eb-cc41b90f1d3a div.sk-parallel-item:last-child::after {align-self: flex-start;width: 50%;}#sk-43468039-9f53-4245-a9eb-cc41b90f1d3a div.sk-parallel-item:only-child::after {width: 0;}#sk-43468039-9f53-4245-a9eb-cc41b90f1d3a div.sk-dashed-wrapped {border: 1px dashed gray;margin: 0 0.4em 0.5em 0.4em;box-sizing: border-box;padding-bottom: 0.4em;background-color: white;position: relative;}#sk-43468039-9f53-4245-a9eb-cc41b90f1d3a div.sk-label label {font-family: monospace;font-weight: bold;background-color: white;display: inline-block;line-height: 1.2em;}#sk-43468039-9f53-4245-a9eb-cc41b90f1d3a div.sk-label-container {position: relative;z-index: 2;text-align: center;}#sk-43468039-9f53-4245-a9eb-cc41b90f1d3a div.sk-container {/* jupyter's `normalize.less` sets `[hidden] { display: none; }` but bootstrap.min.css set `[hidden] { display: none !important; }` so we also need the `!important` here to be able to override the default hidden behavior on the sphinx rendered scikit-learn.org. See: https://github.com/scikit-learn/scikit-learn/issues/21755 */display: inline-block !important;position: relative;}#sk-43468039-9f53-4245-a9eb-cc41b90f1d3a div.sk-text-repr-fallback {display: none;}</style><div id=\"sk-43468039-9f53-4245-a9eb-cc41b90f1d3a\" class=\"sk-top-container\"><div class=\"sk-text-repr-fallback\"><pre>Pipeline(steps=[(&#x27;transform&#x27;,\n",
              "                 ColumnTransformer(remainder=&#x27;passthrough&#x27;,\n",
              "                                   transformers=[(&#x27;num&#x27;, MinMaxScaler(),\n",
              "                                                  [&#x27;variance&#x27;, &#x27;skewness&#x27;,\n",
              "                                                   &#x27;curtosis&#x27;, &#x27;entropy&#x27;])])),\n",
              "                (&#x27;rf&#x27;,\n",
              "                 RandomForestClassifier(max_leaf_nodes=16, n_estimators=500,\n",
              "                                        n_jobs=-1))])</pre><b>Please rerun this cell to show the HTML repr or trust the notebook.</b></div><div class=\"sk-container\" hidden><div class=\"sk-item sk-dashed-wrapped\"><div class=\"sk-label-container\"><div class=\"sk-label sk-toggleable\"><input class=\"sk-toggleable__control sk-hidden--visually\" id=\"69e59f11-00db-4992-9a36-0c3eea5a9f9d\" type=\"checkbox\" ><label for=\"69e59f11-00db-4992-9a36-0c3eea5a9f9d\" class=\"sk-toggleable__label sk-toggleable__label-arrow\">Pipeline</label><div class=\"sk-toggleable__content\"><pre>Pipeline(steps=[(&#x27;transform&#x27;,\n",
              "                 ColumnTransformer(remainder=&#x27;passthrough&#x27;,\n",
              "                                   transformers=[(&#x27;num&#x27;, MinMaxScaler(),\n",
              "                                                  [&#x27;variance&#x27;, &#x27;skewness&#x27;,\n",
              "                                                   &#x27;curtosis&#x27;, &#x27;entropy&#x27;])])),\n",
              "                (&#x27;rf&#x27;,\n",
              "                 RandomForestClassifier(max_leaf_nodes=16, n_estimators=500,\n",
              "                                        n_jobs=-1))])</pre></div></div></div><div class=\"sk-serial\"><div class=\"sk-item sk-dashed-wrapped\"><div class=\"sk-label-container\"><div class=\"sk-label sk-toggleable\"><input class=\"sk-toggleable__control sk-hidden--visually\" id=\"8f474d9b-ca48-48cd-80cd-7d1870a786b6\" type=\"checkbox\" ><label for=\"8f474d9b-ca48-48cd-80cd-7d1870a786b6\" class=\"sk-toggleable__label sk-toggleable__label-arrow\">transform: ColumnTransformer</label><div class=\"sk-toggleable__content\"><pre>ColumnTransformer(remainder=&#x27;passthrough&#x27;,\n",
              "                  transformers=[(&#x27;num&#x27;, MinMaxScaler(),\n",
              "                                 [&#x27;variance&#x27;, &#x27;skewness&#x27;, &#x27;curtosis&#x27;,\n",
              "                                  &#x27;entropy&#x27;])])</pre></div></div></div><div class=\"sk-parallel\"><div class=\"sk-parallel-item\"><div class=\"sk-item\"><div class=\"sk-label-container\"><div class=\"sk-label sk-toggleable\"><input class=\"sk-toggleable__control sk-hidden--visually\" id=\"ab097cd3-2435-4e69-b5c6-ee570b90f69d\" type=\"checkbox\" ><label for=\"ab097cd3-2435-4e69-b5c6-ee570b90f69d\" class=\"sk-toggleable__label sk-toggleable__label-arrow\">num</label><div class=\"sk-toggleable__content\"><pre>[&#x27;variance&#x27;, &#x27;skewness&#x27;, &#x27;curtosis&#x27;, &#x27;entropy&#x27;]</pre></div></div></div><div class=\"sk-serial\"><div class=\"sk-item\"><div class=\"sk-estimator sk-toggleable\"><input class=\"sk-toggleable__control sk-hidden--visually\" id=\"37f9d2ec-aec8-41cc-99be-e8e981ea7a5c\" type=\"checkbox\" ><label for=\"37f9d2ec-aec8-41cc-99be-e8e981ea7a5c\" class=\"sk-toggleable__label sk-toggleable__label-arrow\">MinMaxScaler</label><div class=\"sk-toggleable__content\"><pre>MinMaxScaler()</pre></div></div></div></div></div></div><div class=\"sk-parallel-item\"><div class=\"sk-item\"><div class=\"sk-label-container\"><div class=\"sk-label sk-toggleable\"><input class=\"sk-toggleable__control sk-hidden--visually\" id=\"0c46ec10-8ec1-4be7-be5d-ccaf5de7c41e\" type=\"checkbox\" ><label for=\"0c46ec10-8ec1-4be7-be5d-ccaf5de7c41e\" class=\"sk-toggleable__label sk-toggleable__label-arrow\">remainder</label><div class=\"sk-toggleable__content\"><pre>[]</pre></div></div></div><div class=\"sk-serial\"><div class=\"sk-item\"><div class=\"sk-estimator sk-toggleable\"><input class=\"sk-toggleable__control sk-hidden--visually\" id=\"0287fec6-c738-4503-a5c2-7a08913f49f4\" type=\"checkbox\" ><label for=\"0287fec6-c738-4503-a5c2-7a08913f49f4\" class=\"sk-toggleable__label sk-toggleable__label-arrow\">passthrough</label><div class=\"sk-toggleable__content\"><pre>passthrough</pre></div></div></div></div></div></div></div></div><div class=\"sk-item\"><div class=\"sk-estimator sk-toggleable\"><input class=\"sk-toggleable__control sk-hidden--visually\" id=\"0047f77b-c171-4aad-81b6-308100d82ed1\" type=\"checkbox\" ><label for=\"0047f77b-c171-4aad-81b6-308100d82ed1\" class=\"sk-toggleable__label sk-toggleable__label-arrow\">RandomForestClassifier</label><div class=\"sk-toggleable__content\"><pre>RandomForestClassifier(max_leaf_nodes=16, n_estimators=500, n_jobs=-1)</pre></div></div></div></div></div></div></div>"
            ]
          },
          "metadata": {},
          "execution_count": 195
        }
      ]
    },
    {
      "cell_type": "markdown",
      "source": [
        "### Evaluating the Model"
      ],
      "metadata": {
        "id": "K6q9Iawdb43s"
      }
    },
    {
      "cell_type": "code",
      "source": [
        "# Make predictions on the test data.\n",
        "y_pred3 = pipeline3.predict(X_test)\n",
        "# Display the precision, recall, and F1 score for each class.\n",
        "print(classification_report(y_test, y_pred3))"
      ],
      "metadata": {
        "colab": {
          "base_uri": "https://localhost:8080/"
        },
        "outputId": "3fa6a0cc-ef80-43a0-ff18-5790a1478583",
        "id": "x9qHMEvYb43t"
      },
      "execution_count": 196,
      "outputs": [
        {
          "output_type": "stream",
          "name": "stdout",
          "text": [
            "              precision    recall  f1-score   support\n",
            "\n",
            "           0       0.99      0.99      0.99       157\n",
            "           1       0.98      0.98      0.98       118\n",
            "\n",
            "    accuracy                           0.99       275\n",
            "   macro avg       0.99      0.99      0.99       275\n",
            "weighted avg       0.99      0.99      0.99       275\n",
            "\n"
          ]
        }
      ]
    },
    {
      "cell_type": "code",
      "source": [
        "# Display a heat map of the confusion matrix,\n",
        "cm = confusion_matrix(y_test, y_pred3)\n",
        "disp = ConfusionMatrixDisplay(confusion_matrix=cm)\n",
        "fig, ax = plt.subplots(figsize=(10,10))\n",
        "disp.plot(ax=ax, cmap='YlOrRd')\n",
        "plt.show()"
      ],
      "metadata": {
        "colab": {
          "base_uri": "https://localhost:8080/",
          "height": 574
        },
        "outputId": "5eb7aa8a-af5b-46a3-e616-dd368224f46b",
        "id": "udcYn1opb43t"
      },
      "execution_count": 197,
      "outputs": [
        {
          "output_type": "display_data",
          "data": {
            "text/plain": [
              "<Figure size 720x720 with 2 Axes>"
            ],
            "image/png": "[encoded data removed]"
          },
          "metadata": {
            "needs_background": "light"
          }
        }
      ]
    },
    {
      "cell_type": "markdown",
      "source": [
        "### Conclusion\n",
        "As was the case with a support vector machine model, this random forest model performed extremely well at predicting forgeries from the scaled numeric variables: `variance`, `curtosis`, `skewness`, and `entropy`. Precision, recall, F1 score, and accuracy were all greater than or equal to 98%. Of 118 positive predictions (i.e., forgery) only two were false positives. Of 157 negative predictions (i.e., no forgery) only two were false negatives. Therefore, like the support vector machine model, this random forest model should be more than suitable for predicting forgeries from the specified numeric variables. "
      ],
      "metadata": {
        "id": "Blhs2QiGb43t"
      }
    }
  ]
}